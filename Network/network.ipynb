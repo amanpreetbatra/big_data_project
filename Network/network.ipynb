{
 "cells": [
  {
   "cell_type": "code",
   "execution_count": null,
   "id": "b63b196c",
   "metadata": {},
   "outputs": [],
   "source": [
    "import pandas as pd\n",
    "import numpy as np"
   ]
  },
  {
   "cell_type": "code",
   "execution_count": null,
   "id": "6c81978c",
   "metadata": {},
   "outputs": [],
   "source": [
    "df =  pd.read_csv('archive-2/Network.csv')"
   ]
  },
  {
   "cell_type": "code",
   "execution_count": null,
   "id": "79bcaa4e",
   "metadata": {},
   "outputs": [],
   "source": [
    "df.head()\n",
    "df.isnull().sum()\n",
    "df = df.fillna(np.nan)\n",
    "df.isnull().sum()"
   ]
  },
  {
   "cell_type": "code",
   "execution_count": null,
   "id": "26bbc5d0",
   "metadata": {},
   "outputs": [],
   "source": [
    "df.describe().T\n",
    "df.isnull().values.any()\n",
    "df.duplicated().sum()"
   ]
  },
  {
   "cell_type": "code",
   "execution_count": null,
   "id": "b484e720",
   "metadata": {},
   "outputs": [],
   "source": [
    "df['BusinessYear'].value_counts()"
   ]
  },
  {
   "cell_type": "code",
   "execution_count": null,
   "id": "79073428",
   "metadata": {},
   "outputs": [],
   "source": [
    "df.corr()"
   ]
  },
  {
   "cell_type": "code",
   "execution_count": null,
   "id": "91154228",
   "metadata": {},
   "outputs": [],
   "source": [
    "df.describe().T"
   ]
  },
  {
   "cell_type": "code",
   "execution_count": null,
   "id": "5fc2bb92",
   "metadata": {},
   "outputs": [],
   "source": [
    "df['StateCode'].value_counts()"
   ]
  },
  {
   "cell_type": "code",
   "execution_count": null,
   "id": "ff53c724",
   "metadata": {},
   "outputs": [],
   "source": [
    "df['MarketCoverage'].value_counts()"
   ]
  },
  {
   "cell_type": "code",
   "execution_count": null,
   "id": "355dcd07",
   "metadata": {},
   "outputs": [],
   "source": [
    "df = df.dropna(subset=['MarketCoverage'])"
   ]
  },
  {
   "cell_type": "code",
   "execution_count": null,
   "id": "0bff6cb0",
   "metadata": {},
   "outputs": [],
   "source": [
    "df[\"DentalOnlyPlan\"].describe"
   ]
  },
  {
   "cell_type": "code",
   "execution_count": null,
   "id": "09e884b9",
   "metadata": {},
   "outputs": [],
   "source": [
    "df['DentalOnlyPlan'].isnull().sum()"
   ]
  },
  {
   "cell_type": "code",
   "execution_count": null,
   "id": "c21b3ff9",
   "metadata": {},
   "outputs": [],
   "source": [
    "df['DentalOnlyPlan'] = df['DentalOnlyPlan'].replace({'Yes': True, 'No': False})"
   ]
  },
  {
   "cell_type": "code",
   "execution_count": null,
   "id": "53aa9cbf",
   "metadata": {},
   "outputs": [],
   "source": [
    "median_value = df['DentalOnlyPlan'].median()\n",
    "df['DentalOnlyPlan'].fillna(median_value, inplace=True)"
   ]
  },
  {
   "cell_type": "code",
   "execution_count": null,
   "id": "5636c0de",
   "metadata": {},
   "outputs": [],
   "source": [
    "cleaned_file_path = 'Network_cleaned.csv'\n",
    "df.to_csv(cleaned_file_path, index=False)\n",
    "\n",
    "# Load the cleaned data from the new CSV file to verify\n",
    "df_cleaned = pd.read_csv(cleaned_file_path)\n",
    "print(df_cleaned.head())"
   ]
  }
 ],
 "metadata": {
  "kernelspec": {
   "display_name": "Python 3 (ipykernel)",
   "language": "python",
   "name": "python3"
  },
  "language_info": {
   "codemirror_mode": {
    "name": "ipython",
    "version": 3
   },
   "file_extension": ".py",
   "mimetype": "text/x-python",
   "name": "python",
   "nbconvert_exporter": "python",
   "pygments_lexer": "ipython3",
   "version": "3.10.7"
  }
 },
 "nbformat": 4,
 "nbformat_minor": 5
}
