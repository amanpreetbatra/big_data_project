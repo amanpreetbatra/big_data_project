{
 "cells": [
  {
   "cell_type": "code",
   "execution_count": null,
   "id": "6acb7cd8",
   "metadata": {},
   "outputs": [],
   "source": [
    "import pandas as pd\n",
    "import numpy as np"
   ]
  },
  {
   "cell_type": "code",
   "execution_count": null,
   "id": "4e2543da",
   "metadata": {},
   "outputs": [],
   "source": [
    "df =  pd.read_csv('archive-2/ServiceArea.csv')"
   ]
  },
  {
   "cell_type": "code",
   "execution_count": null,
   "id": "7b9eac01",
   "metadata": {},
   "outputs": [],
   "source": [
    "df.head()\n",
    "df.isnull().sum()\n",
    "df = df.fillna(np.nan)\n",
    "df.isnull().sum()"
   ]
  },
  {
   "cell_type": "code",
   "execution_count": null,
   "id": "b62dbe36",
   "metadata": {},
   "outputs": [],
   "source": [
    "df['BusinessYear'].value_counts()"
   ]
  },
  {
   "cell_type": "code",
   "execution_count": null,
   "id": "ac3868a1",
   "metadata": {},
   "outputs": [],
   "source": [
    "df['County'].value_counts()"
   ]
  },
  {
   "cell_type": "code",
   "execution_count": null,
   "id": "b2ef338c",
   "metadata": {},
   "outputs": [],
   "source": [
    "df['County'].describe()"
   ]
  },
  {
   "cell_type": "code",
   "execution_count": null,
   "id": "4f2ee9f0",
   "metadata": {},
   "outputs": [],
   "source": [
    "df['County'].fillna(method='ffill', inplace=True)"
   ]
  },
  {
   "cell_type": "code",
   "execution_count": null,
   "id": "c20157e0",
   "metadata": {},
   "outputs": [],
   "source": [
    "df.drop_duplicates(inplace=True)"
   ]
  },
  {
   "cell_type": "code",
   "execution_count": null,
   "id": "82ed2de6",
   "metadata": {},
   "outputs": [],
   "source": [
    "df['PartialCounty'].value_counts()"
   ]
  },
  {
   "cell_type": "code",
   "execution_count": null,
   "id": "db02e98c",
   "metadata": {},
   "outputs": [],
   "source": [
    "df['PartialCounty'].fillna(df['PartialCounty'].mode()[0], inplace=True)"
   ]
  },
  {
   "cell_type": "code",
   "execution_count": null,
   "id": "d3cbc851",
   "metadata": {},
   "outputs": [],
   "source": [
    "df['ZipCodes'].describe()"
   ]
  },
  {
   "cell_type": "code",
   "execution_count": null,
   "id": "6bfd18b6",
   "metadata": {},
   "outputs": [],
   "source": [
    "df['ZipCodes'].value_counts()"
   ]
  },
  {
   "cell_type": "code",
   "execution_count": null,
   "id": "9f3231d2",
   "metadata": {},
   "outputs": [],
   "source": [
    "df.drop('ZipCodes', axis=1, inplace=True)"
   ]
  },
  {
   "cell_type": "code",
   "execution_count": null,
   "id": "2c82559b",
   "metadata": {},
   "outputs": [],
   "source": [
    "df['PartialCountyJustification'].value_counts()"
   ]
  },
  {
   "cell_type": "code",
   "execution_count": null,
   "id": "76666257",
   "metadata": {},
   "outputs": [],
   "source": [
    "df['PartialCountyJustification'].describe()"
   ]
  },
  {
   "cell_type": "code",
   "execution_count": null,
   "id": "de073aeb",
   "metadata": {},
   "outputs": [],
   "source": [
    "df.drop('PartialCountyJustification', axis=1, inplace=True)"
   ]
  },
  {
   "cell_type": "code",
   "execution_count": null,
   "id": "d381982f",
   "metadata": {},
   "outputs": [],
   "source": [
    "df['MarketCoverage'].value_counts()"
   ]
  },
  {
   "cell_type": "code",
   "execution_count": null,
   "id": "c5ec29dd",
   "metadata": {},
   "outputs": [],
   "source": [
    "df = df.dropna(subset=['MarketCoverage'])"
   ]
  },
  {
   "cell_type": "code",
   "execution_count": null,
   "id": "ced29463",
   "metadata": {},
   "outputs": [],
   "source": [
    "df[\"DentalOnlyPlan\"].describe"
   ]
  },
  {
   "cell_type": "code",
   "execution_count": null,
   "id": "237b4041",
   "metadata": {},
   "outputs": [],
   "source": [
    "df['DentalOnlyPlan'].isnull().sum()"
   ]
  },
  {
   "cell_type": "code",
   "execution_count": null,
   "id": "d7d4f5df",
   "metadata": {},
   "outputs": [],
   "source": [
    "df['DentalOnlyPlan'] = df['DentalOnlyPlan'].replace({'Yes': True, 'No': False})"
   ]
  },
  {
   "cell_type": "code",
   "execution_count": null,
   "id": "db72bda0",
   "metadata": {},
   "outputs": [],
   "source": [
    "median_value = df['DentalOnlyPlan'].median()\n",
    "df['DentalOnlyPlan'].fillna(median_value, inplace=True)"
   ]
  },
  {
   "cell_type": "code",
   "execution_count": null,
   "id": "5d82dadb",
   "metadata": {},
   "outputs": [],
   "source": [
    "cleaned_file_path = 'ServiceAreas_Cleaned.csv'\n",
    "df.to_csv(cleaned_file_path, index=False)\n",
    "\n",
    "# Load the cleaned data from the new CSV file to verify\n",
    "df_cleaned = pd.read_csv(cleaned_file_path)\n",
    "print(df_cleaned.head())"
   ]
  },
  {
   "cell_type": "code",
   "execution_count": null,
   "id": "c71f4a0b",
   "metadata": {},
   "outputs": [],
   "source": []
  }
 ],
 "metadata": {
  "kernelspec": {
   "display_name": "Python 3 (ipykernel)",
   "language": "python",
   "name": "python3"
  },
  "language_info": {
   "codemirror_mode": {
    "name": "ipython",
    "version": 3
   },
   "file_extension": ".py",
   "mimetype": "text/x-python",
   "name": "python",
   "nbconvert_exporter": "python",
   "pygments_lexer": "ipython3",
   "version": "3.10.7"
  }
 },
 "nbformat": 4,
 "nbformat_minor": 5
}
