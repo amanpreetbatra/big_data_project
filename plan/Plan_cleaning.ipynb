{
  "nbformat": 4,
  "nbformat_minor": 0,
  "metadata": {
    "colab": {
      "provenance": []
    },
    "kernelspec": {
      "name": "python3",
      "display_name": "Python 3"
    },
    "language_info": {
      "name": "python"
    }
  },
  "cells": [
    {
      "cell_type": "code",
      "execution_count": null,
      "metadata": {
        "id": "nSNROaUajIhE"
      },
      "outputs": [],
      "source": [
        "import pandas as pd\n",
        "import numpy as np"
      ]
    },
    {
      "cell_type": "code",
      "source": [
        "df =  pd.read_csv('PlanAttributes.csv')"
      ],
      "metadata": {
        "id": "kaaT11mjo0Q6"
      },
      "execution_count": null,
      "outputs": []
    },
    {
      "cell_type": "code",
      "source": [
        "df.head()\n"
      ],
      "metadata": {
        "id": "IgbSH3KBeLMA"
      },
      "execution_count": null,
      "outputs": []
    },
    {
      "cell_type": "code",
      "source": [
        "df.isnull().sum()"
      ],
      "metadata": {
        "id": "uOLJrEh0iw5G"
      },
      "execution_count": null,
      "outputs": []
    },
    {
      "cell_type": "code",
      "source": [
        "df = df.fillna(np.nan)"
      ],
      "metadata": {
        "id": "9Q3uqSlRjpJw"
      },
      "execution_count": null,
      "outputs": []
    },
    {
      "cell_type": "code",
      "source": [
        "df.isnull().sum()"
      ],
      "metadata": {
        "id": "9x8kxOCZHu8N"
      },
      "execution_count": null,
      "outputs": []
    },
    {
      "cell_type": "code",
      "source": [
        "df.describe().T"
      ],
      "metadata": {
        "id": "W1ThkQtOHycU"
      },
      "execution_count": null,
      "outputs": []
    },
    {
      "cell_type": "code",
      "source": [
        "df.isnull().values.any()"
      ],
      "metadata": {
        "id": "M58pPRghJ2QU"
      },
      "execution_count": null,
      "outputs": []
    },
    {
      "cell_type": "code",
      "source": [
        "df.duplicated().sum()"
      ],
      "metadata": {
        "id": "f2M6OWXgMri8"
      },
      "execution_count": null,
      "outputs": []
    },
    {
      "cell_type": "code",
      "source": [
        "df['ChildOnlyPlanId'].value_counts()"
      ],
      "metadata": {
        "id": "6J7aPYYqMycI"
      },
      "execution_count": null,
      "outputs": []
    },
    {
      "cell_type": "code",
      "source": [
        "df.corr()"
      ],
      "metadata": {
        "id": "urAJM-LBOMP-"
      },
      "execution_count": null,
      "outputs": []
    },
    {
      "cell_type": "code",
      "source": [
        "df = df.drop(['SourceName'],axis=1)"
      ],
      "metadata": {
        "id": "dgbrcrgwTbWd"
      },
      "execution_count": null,
      "outputs": []
    },
    {
      "cell_type": "code",
      "source": [],
      "metadata": {
        "id": "GqjmMqGrfc6W"
      },
      "execution_count": null,
      "outputs": []
    },
    {
      "cell_type": "code",
      "source": [
        "df = df.filter(regex='^(?!URL)')"
      ],
      "metadata": {
        "id": "qCwip_AXP1Dh"
      },
      "execution_count": null,
      "outputs": []
    },
    {
      "cell_type": "code",
      "source": [
        "df.shape"
      ],
      "metadata": {
        "id": "DGSNh__1Q2YY"
      },
      "execution_count": null,
      "outputs": []
    },
    {
      "cell_type": "code",
      "source": [
        "df.head()"
      ],
      "metadata": {
        "id": "7if0KEY0Q36P"
      },
      "execution_count": null,
      "outputs": []
    },
    {
      "cell_type": "code",
      "source": [
        "for column in df.columns:\n",
        "    null_count = df[column].isnull().sum()\n",
        "    total_count = len(df[column])\n",
        "    percent_null = (null_count / total_count) * 100\n",
        "    print(f\"{column} column has {null_count} null values, which is {percent_null:.2f}% of the total.\")\n"
      ],
      "metadata": {
        "id": "v9Xgt1oEhWXu"
      },
      "execution_count": null,
      "outputs": []
    },
    {
      "cell_type": "code",
      "source": [
        "for column in df.columns:\n",
        "    null_count = df[column].isnull().sum()\n",
        "    total_count = len(df[column])\n",
        "    percent_null = (null_count / total_count) * 100\n",
        "    if percent_null > 20:\n",
        "        print(f\"{column} column has {null_count} null values, which is {percent_null:.2f}% of the total and is greater than 20%.\")\n",
        "        df.drop(column, axis=1, inplace=True)\n"
      ],
      "metadata": {
        "id": "HFlZxb6risvi"
      },
      "execution_count": null,
      "outputs": []
    },
    {
      "cell_type": "code",
      "source": [
        "df.shape"
      ],
      "metadata": {
        "id": "keOeh4jhjX5Q"
      },
      "execution_count": null,
      "outputs": []
    },
    {
      "cell_type": "code",
      "source": [
        "for column in df.columns:\n",
        "    null_count = df[column].isnull().sum()\n",
        "    total_count = len(df[column])\n",
        "    percent_null = (null_count / total_count) * 100\n",
        "    print(f\"{column} column has {null_count} null values, which is {percent_null:.2f}% of the total.\")"
      ],
      "metadata": {
        "id": "v6TIe7-mjbtZ"
      },
      "execution_count": null,
      "outputs": []
    },
    {
      "cell_type": "code",
      "source": [
        "non_numeric_columns = df.select_dtypes(exclude='number').columns.tolist()\n",
        "\n",
        "print(non_numeric_columns)"
      ],
      "metadata": {
        "id": "x4QeSNBtSml0"
      },
      "execution_count": null,
      "outputs": []
    },
    {
      "cell_type": "code",
      "source": [
        "df['TIN'].describe"
      ],
      "metadata": {
        "id": "tSGBV4nGun9g"
      },
      "execution_count": null,
      "outputs": []
    },
    {
      "cell_type": "code",
      "source": [
        "for i in df['StateCode'].unique():\n",
        "  print(i)"
      ],
      "metadata": {
        "id": "XcpKzdNfbPBa"
      },
      "execution_count": null,
      "outputs": []
    },
    {
      "cell_type": "code",
      "source": [
        "state_codes = {\n",
        "    'AK': 1, 'AL': 2, 'AZ': 3, 'FL': 4, 'GA': 5, 'IN': 6, 'LA': 7, 'MO': 8, 'MS': 9, 'NC': 10,\n",
        "    'ND': 11, 'NJ': 12, 'OK': 13, 'PA': 14, 'SC': 15, 'TN': 16, 'TX': 17, 'WI': 18, 'WY': 19, \n",
        "    'NM': 20, 'IL': 21, 'DE': 22, 'MI': 23, 'ME': 24, 'KS': 25, 'MT': 26, 'AR': 27, 'NH': 28, \n",
        "    'VA': 29, 'WV': 30, 'IA': 31, 'ID': 32, 'NE': 33, 'OH': 34, 'SD': 35, 'UT': 36, 'NV': 37,\n",
        "    'OR': 38, 'HI': 39\n",
        "}\n",
        "\n",
        "df['StateCode'] = df['StateCode'].map(state_codes)\n"
      ],
      "metadata": {
        "id": "gWAF_73RuEB1"
      },
      "execution_count": null,
      "outputs": []
    },
    {
      "cell_type": "code",
      "source": [
        "for col in df.columns:\n",
        "    df[col] = df[col].apply(lambda x: str(x))\n",
        "    for state in state_codes:\n",
        "        df[col] = df[col].str.replace(state, str(state_codes[state]) + '000', regex=False)\n",
        "\n"
      ],
      "metadata": {
        "id": "UMz_OqUXuYuI"
      },
      "execution_count": null,
      "outputs": []
    },
    {
      "cell_type": "code",
      "source": [
        "for i in df['ServiceAreaId'].unique():\n",
        "  df['ServiceAreaId'] = df['ServiceAreaId'].str.replace( i, i[:4] + i[7:])"
      ],
      "metadata": {
        "id": "Bf0Lb0PuzYsc"
      },
      "execution_count": null,
      "outputs": []
    },
    {
      "cell_type": "code",
      "source": [
        "df['ServiceAreaId'].unique()\n",
        "df['ServiceAreaId'] = df['ServiceAreaId'].astype(int)\n",
        "df['StateCode'] = df['StateCode'].astype(int)"
      ],
      "metadata": {
        "id": "1Us23OY-5EJD"
      },
      "execution_count": null,
      "outputs": []
    },
    {
      "cell_type": "code",
      "source": [
        "#df['StateCode'].describe()\n",
        "df['ServiceAreaId'].corr(df['StateCode'])"
      ],
      "metadata": {
        "id": "pokGq-mq6xS4"
      },
      "execution_count": null,
      "outputs": []
    },
    {
      "cell_type": "code",
      "source": [
        "df = df[df['ServiceAreaId'] != 'N9001']"
      ],
      "metadata": {
        "id": "T7IJkkKi50WT"
      },
      "execution_count": null,
      "outputs": []
    },
    {
      "cell_type": "code",
      "source": [
        "df['PlanType'].value_counts()"
      ],
      "metadata": {
        "id": "HUG9s0auDisx"
      },
      "execution_count": null,
      "outputs": []
    },
    {
      "cell_type": "code",
      "source": [
        "df['PlanType'] = df['PlanType'].replace({'PPO': 1, 'H8000': 0, 'POS': 2, 'EPO': 3, 'Indemnity': 4})"
      ],
      "metadata": {
        "id": "G3biXzBbDi0T"
      },
      "execution_count": null,
      "outputs": []
    },
    {
      "cell_type": "code",
      "source": [],
      "metadata": {
        "id": "Cu0vpi7IDi25"
      },
      "execution_count": null,
      "outputs": []
    },
    {
      "cell_type": "code",
      "source": [
        "df['DentalOnlyPlan'] = df['DentalOnlyPlan'].replace({'Yes': 1, 'No': 0})\n"
      ],
      "metadata": {
        "id": "-chsV0_MqRPd"
      },
      "execution_count": null,
      "outputs": []
    },
    {
      "cell_type": "code",
      "source": [
        "df.head()"
      ],
      "metadata": {
        "id": "lJ1cKJ7kuUJW"
      },
      "execution_count": null,
      "outputs": []
    },
    {
      "cell_type": "code",
      "source": [],
      "metadata": {
        "id": "-fXo0yYouDe0"
      },
      "execution_count": null,
      "outputs": []
    },
    {
      "cell_type": "code",
      "source": [
        "df.corr()"
      ],
      "metadata": {
        "id": "-jfv7teVqYxJ"
      },
      "execution_count": null,
      "outputs": []
    },
    {
      "cell_type": "code",
      "source": [],
      "metadata": {
        "id": "y4MaiY4usfMY"
      },
      "execution_count": null,
      "outputs": []
    },
    {
      "cell_type": "code",
      "source": [],
      "metadata": {
        "id": "nWpUvYqtsfO9"
      },
      "execution_count": null,
      "outputs": []
    },
    {
      "cell_type": "code",
      "source": [],
      "metadata": {
        "id": "ABnC5t14sfRF"
      },
      "execution_count": null,
      "outputs": []
    },
    {
      "cell_type": "code",
      "source": [],
      "metadata": {
        "id": "VK2MkuhLsfUw"
      },
      "execution_count": null,
      "outputs": []
    },
    {
      "cell_type": "code",
      "source": [],
      "metadata": {
        "id": "diHyNSodsfYO"
      },
      "execution_count": null,
      "outputs": []
    },
    {
      "cell_type": "code",
      "source": [
        "df_original = df"
      ],
      "metadata": {
        "id": "p87or8_NpR4G"
      },
      "execution_count": null,
      "outputs": []
    },
    {
      "cell_type": "code",
      "source": [
        "df_original.head()"
      ],
      "metadata": {
        "id": "5ipelnIHxNym"
      },
      "execution_count": null,
      "outputs": []
    },
    {
      "cell_type": "code",
      "source": [
        "csv = df_original.to_csv(index=False)\n"
      ],
      "metadata": {
        "id": "ZU4cBKs1sfCh"
      },
      "execution_count": null,
      "outputs": []
    },
    {
      "cell_type": "code",
      "source": [
        "from google.colab import files\n",
        "\n",
        "# generate and save the CSV file\n",
        "csv_data = df.to_csv(index=False)\n",
        "with open('data.csv', 'w') as f:\n",
        "    f.write(csv_data)\n",
        "\n",
        "# download the CSV file to your local machine\n",
        "files.download('data.csv')\n"
      ],
      "metadata": {
        "id": "NZLrH-6CTqVV"
      },
      "execution_count": null,
      "outputs": []
    },
    {
      "cell_type": "code",
      "source": [
        "for i in non_numeric_columns:\n",
        "  df[i] = pd.to_numeric(df[i], errors='coerce')\n"
      ],
      "metadata": {
        "id": "H9IDheLiWkf9"
      },
      "execution_count": null,
      "outputs": []
    },
    {
      "cell_type": "code",
      "source": [
        "import numpy as np\n",
        "import pandas as pd\n",
        "from  matplotlib import pyplot\n",
        "import seaborn as sns"
      ],
      "metadata": {
        "id": "JYvWxS-khPmr"
      },
      "execution_count": null,
      "outputs": []
    },
    {
      "cell_type": "code",
      "source": [
        "rate_chunks = pd.read_csv(\"data.csv\",iterator=True,chunksize = 1000)\n",
        "rates = pd.concat(chunk for chunk in rate_chunks)"
      ],
      "metadata": {
        "id": "x6hsgqN4jky-"
      },
      "execution_count": null,
      "outputs": []
    },
    {
      "cell_type": "code",
      "source": [
        "rates.head(10)"
      ],
      "metadata": {
        "id": "7oDHZKcWjvPV"
      },
      "execution_count": null,
      "outputs": []
    },
    {
      "cell_type": "code",
      "source": [
        "print(rates.describe())"
      ],
      "metadata": {
        "id": "FROk0aGAj1tm"
      },
      "execution_count": null,
      "outputs": []
    },
    {
      "cell_type": "code",
      "source": [
        "!pip install pandas-profiling"
      ],
      "metadata": {
        "id": "bLbl0Ne4h8cN"
      },
      "execution_count": null,
      "outputs": []
    },
    {
      "cell_type": "code",
      "source": [
        "from pandas_profiling import ProfileReport "
      ],
      "metadata": {
        "id": "f-bp_IENj8eh"
      },
      "execution_count": null,
      "outputs": []
    },
    {
      "cell_type": "code",
      "source": [
        "df = pd.read_csv(\"data.csv\")"
      ],
      "metadata": {
        "id": "1lfyFEiBu4qm"
      },
      "execution_count": null,
      "outputs": []
    },
    {
      "cell_type": "code",
      "source": [
        "df.head()"
      ],
      "metadata": {
        "id": "EqfGQKsBh30X"
      },
      "execution_count": null,
      "outputs": []
    },
    {
      "cell_type": "code",
      "source": [
        "df['ChildOnlyOffering'] = df['ChildOnlyOffering'].replace(['Allows Adult and Child-Only', 'Allows Adult and Child-only'], 'Allows Adult and Child-Only')\n",
        "df['ChildOnlyOffering'] = df['ChildOnlyOffering'].replace('Allows Child-Only', 'Child-Only')\n",
        "df['ChildOnlyOffering'] = df['ChildOnlyOffering'].replace('Allows Adult-Only', 'Adult-Only')"
      ],
      "metadata": {
        "id": "SOuzKYN3jS9k"
      },
      "execution_count": null,
      "outputs": []
    },
    {
      "cell_type": "code",
      "source": [
        "df = pd.get_dummies(df, columns=[\"ChildOnlyOffering\"], prefix=[\"ChildOnlyOffering\"])"
      ],
      "metadata": {
        "id": "JvRt3VcXqIMV"
      },
      "execution_count": null,
      "outputs": []
    },
    {
      "cell_type": "code",
      "source": [
        "df.columns"
      ],
      "metadata": {
        "id": "TwCFBbt5rZJv"
      },
      "execution_count": null,
      "outputs": []
    },
    {
      "cell_type": "code",
      "source": [
        "df = df.drop('BeginPrimaryCareCostSharingAfterNumberOfVisits', axis=1)"
      ],
      "metadata": {
        "id": "IKgDaUx5k98H"
      },
      "execution_count": null,
      "outputs": []
    },
    {
      "cell_type": "code",
      "source": [
        "df = df.drop('BeginPrimaryCareDeductibleCoinsuranceAfterNumberOfCopays', axis=1)"
      ],
      "metadata": {
        "id": "bzQrbXZxla8d"
      },
      "execution_count": null,
      "outputs": []
    },
    {
      "cell_type": "code",
      "source": [
        "df = df.drop('BusinessYear', axis=1)"
      ],
      "metadata": {
        "id": "SjFoq_bOrlUW"
      },
      "execution_count": null,
      "outputs": []
    },
    {
      "cell_type": "code",
      "source": [
        "df = df.drop('BenefitPackageId', axis=1)"
      ],
      "metadata": {
        "id": "ImzkLhhXroO5"
      },
      "execution_count": null,
      "outputs": []
    },
    {
      "cell_type": "code",
      "source": [
        "df['CSRVariationType'].value_counts()"
      ],
      "metadata": {
        "id": "cMZ_pmTWlbL-"
      },
      "execution_count": null,
      "outputs": []
    },
    {
      "cell_type": "code",
      "source": [
        "df['CSRVariationType'].isnull().sum()\n"
      ],
      "metadata": {
        "id": "Z8ulIr_LrkpY"
      },
      "execution_count": null,
      "outputs": []
    },
    {
      "cell_type": "code",
      "source": [
        "df.dropna(subset=['CSRVariationType'], inplace=True)\n"
      ],
      "metadata": {
        "id": "h2YsfAuml_rC"
      },
      "execution_count": null,
      "outputs": []
    },
    {
      "cell_type": "code",
      "source": [
        "df.dropna(subset=['CSRVariationType'], inplace=True)\n"
      ],
      "metadata": {
        "id": "OLMdbXnimSTJ"
      },
      "execution_count": null,
      "outputs": []
    },
    {
      "cell_type": "code",
      "source": [
        "df['CSRVariationType'].unique()\n"
      ],
      "metadata": {
        "id": "TO3vTr0isOJ4"
      },
      "execution_count": null,
      "outputs": []
    },
    {
      "cell_type": "code",
      "source": [
        "dummies = pd.get_dummies(df['CSRVariationType'], prefix='CSRVariationType')\n",
        "df = pd.concat([df, dummies], axis=1)\n"
      ],
      "metadata": {
        "id": "TZuxtVKcsSZ2"
      },
      "execution_count": null,
      "outputs": []
    },
    {
      "cell_type": "code",
      "source": [
        "df.drop('DiseaseManagementProgramsOffered', axis=1, inplace=True)\n"
      ],
      "metadata": {
        "id": "8-evBgaPsbep"
      },
      "execution_count": null,
      "outputs": []
    },
    {
      "cell_type": "code",
      "source": [
        "df.columns"
      ],
      "metadata": {
        "id": "vy6f8d1Asi_3"
      },
      "execution_count": null,
      "outputs": []
    },
    {
      "cell_type": "code",
      "source": [
        "df['FirstTierUtilization'].value_counts()"
      ],
      "metadata": {
        "id": "6j9F85xAsq0p"
      },
      "execution_count": null,
      "outputs": []
    },
    {
      "cell_type": "code",
      "source": [
        "df['FirstTierUtilization'] = df['FirstTierUtilization'].str.strip()"
      ],
      "metadata": {
        "id": "aa0-A1ftvNSF"
      },
      "execution_count": null,
      "outputs": []
    },
    {
      "cell_type": "code",
      "source": [
        "def clean_percentage(x):\n",
        "    return float(x.strip(\"%\"))\n",
        "\n",
        "df['FirstTierUtilization'] = df['FirstTierUtilization'].apply(clean_percentage)\n"
      ],
      "metadata": {
        "id": "B_h_x4JGvlGL"
      },
      "execution_count": null,
      "outputs": []
    },
    {
      "cell_type": "code",
      "source": [
        "df['FirstTierUtilization'].value_counts()"
      ],
      "metadata": {
        "id": "a98JX0VSvPvP"
      },
      "execution_count": null,
      "outputs": []
    },
    {
      "cell_type": "code",
      "source": [
        "from scipy import stats\n",
        "\n",
        "\n",
        "z_scores = stats.zscore(df['FirstTierUtilization'])\n",
        "abs_z_scores = np.abs(z_scores)\n",
        "outlier_threshold = 3\n",
        "outlier_indices = np.where(abs_z_scores > outlier_threshold)[0]\n",
        "df = df.drop(df.index[outlier_indices])\n"
      ],
      "metadata": {
        "id": "EzN_JZZduTCL"
      },
      "execution_count": null,
      "outputs": []
    },
    {
      "cell_type": "code",
      "source": [
        "# Convert the column to a numeric data type\n",
        "df['FirstTierUtilization'] = pd.to_numeric(df['FirstTierUtilization'], errors='coerce')\n",
        "\n",
        "# Impute missing values with the median value\n",
        "median_value = df['FirstTierUtilization'].median()\n",
        "df['FirstTierUtilization'] = df['FirstTierUtilization'].fillna(median_value)\n"
      ],
      "metadata": {
        "id": "dy03RrvAwNi9"
      },
      "execution_count": null,
      "outputs": []
    },
    {
      "cell_type": "code",
      "source": [
        "one_hot_df = pd.get_dummies(df['FirstTierUtilization'], prefix='FirstTierUtilization')\n",
        "df = pd.concat([df, one_hot_df], axis=1)\n",
        "df = df.drop(['FirstTierUtilization'], axis=1)\n"
      ],
      "metadata": {
        "id": "6U40VeGdwU7u"
      },
      "execution_count": null,
      "outputs": []
    },
    {
      "cell_type": "code",
      "source": [
        "df = df.drop(['FormularyId'], axis=1)"
      ],
      "metadata": {
        "id": "oQm5Sj_bw91D"
      },
      "execution_count": null,
      "outputs": []
    },
    {
      "cell_type": "code",
      "source": [
        "cols_to_drop = df.filter(regex='^FirstTierUtilization').columns\n",
        "df = df.drop(cols_to_drop, axis=1)\n"
      ],
      "metadata": {
        "id": "y_Wjlh9hxNWU"
      },
      "execution_count": null,
      "outputs": []
    },
    {
      "cell_type": "code",
      "source": [
        "df.columns"
      ],
      "metadata": {
        "id": "y1Ne2ZvowdQs"
      },
      "execution_count": null,
      "outputs": []
    },
    {
      "cell_type": "code",
      "source": [
        "df['HIOSProductId'].value_counts()"
      ],
      "metadata": {
        "id": "gjz24lMAxXIs"
      },
      "execution_count": null,
      "outputs": []
    },
    {
      "cell_type": "code",
      "source": [
        "import re\n",
        "\n",
        "# Remove any non-numeric characters\n",
        "df['HIOSProductId'] = df['HIOSProductId'].apply(lambda x: re.sub('[^0-9]', '', str(x)))\n",
        "\n",
        "# Pad the values with leading zeros to a fixed length of 13\n",
        "df['HIOSProductId'] = df['HIOSProductId'].apply(lambda x: x.zfill(13))\n",
        "\n"
      ],
      "metadata": {
        "id": "C07MkUX936xV"
      },
      "execution_count": null,
      "outputs": []
    },
    {
      "cell_type": "code",
      "source": [
        "df['HIOSProductId'] = df['HIOSProductId'].fillna(0)"
      ],
      "metadata": {
        "id": "6x5B4UjIMjS_"
      },
      "execution_count": null,
      "outputs": []
    },
    {
      "cell_type": "code",
      "source": [
        "import re\n",
        "\n",
        "df['HIOSProductId'] = df['HIOSProductId'].apply(lambda x: re.sub('[^0-9]', '', str(x))).astype(int)\n",
        "\n"
      ],
      "metadata": {
        "id": "0shHs60y0m4U"
      },
      "execution_count": null,
      "outputs": []
    },
    {
      "cell_type": "code",
      "source": [
        "df.drop_duplicates(subset='HIOSProductId', keep='first', inplace=True)\n"
      ],
      "metadata": {
        "id": "3rr4jmxOZ1tk"
      },
      "execution_count": null,
      "outputs": []
    },
    {
      "cell_type": "code",
      "source": [
        "# Filter out values that are less than 12 or greater than 14 digits long\n",
        "df = df[df['HIOSProductId'].apply(lambda x: len(str(x))) >= 12]\n",
        "df = df[df['HIOSProductId'].apply(lambda x: len(str(x))) <= 14]\n",
        "\n",
        "# Filter out values that are outside a specific range\n",
        "df = df[(df['HIOSProductId'] >= 1000000000000) & (df['HIOSProductId'] <= 9999999999999)]\n"
      ],
      "metadata": {
        "id": "HvEOtaXoZ3mI"
      },
      "execution_count": null,
      "outputs": []
    },
    {
      "cell_type": "code",
      "source": [
        "import matplotlib.pyplot as plt\n",
        "\n",
        "# Create a histogram of the 'HIOSProductId' column\n",
        "plt.hist(df['HIOSProductId'], bins=100)\n",
        "plt.show()\n",
        "\n",
        "# Create a box plot of the 'HIOSProductId' column\n",
        "plt.boxplot(df['HIOSProductId'])\n",
        "plt.show()\n"
      ],
      "metadata": {
        "id": "UkFvCrG2Z8gI"
      },
      "execution_count": null,
      "outputs": []
    },
    {
      "cell_type": "code",
      "source": [
        "df.columns"
      ],
      "metadata": {
        "id": "ZZ_6XpMFaiKz"
      },
      "execution_count": null,
      "outputs": []
    },
    {
      "cell_type": "code",
      "source": [
        "df['IsNewPlan'].value_counts()"
      ],
      "metadata": {
        "id": "7VphDGRdapEd"
      },
      "execution_count": null,
      "outputs": []
    },
    {
      "cell_type": "code",
      "source": [
        "one_hot_df = pd.get_dummies(df['IsNewPlan'], prefix='IsNewPlan')\n",
        "df = pd.concat([df, one_hot_df], axis=1)\n",
        "df = df.drop(['IsNewPlan'], axis=1)"
      ],
      "metadata": {
        "id": "cJwUlGFCiEet"
      },
      "execution_count": null,
      "outputs": []
    },
    {
      "cell_type": "code",
      "source": [
        "df.columns"
      ],
      "metadata": {
        "id": "2uzJSKf5fSWw"
      },
      "execution_count": null,
      "outputs": []
    },
    {
      "cell_type": "code",
      "source": [
        "df['IssuerId'].value_counts()"
      ],
      "metadata": {
        "id": "zuYcHZdJyscS"
      },
      "execution_count": null,
      "outputs": []
    },
    {
      "cell_type": "code",
      "source": [
        "issuer_counts = df['IssuerId'].value_counts()\n",
        "print(issuer_counts)\n",
        "issuer_stats = df['IssuerId'].describe()\n",
        "print(issuer_stats)\n"
      ],
      "metadata": {
        "id": "xBrrW-vQr5Y5"
      },
      "execution_count": null,
      "outputs": []
    },
    {
      "cell_type": "code",
      "source": [
        "#scaling as we need issure id as feature in content based filtering system"
      ],
      "metadata": {
        "id": "49uGU-ySjReH"
      },
      "execution_count": null,
      "outputs": []
    },
    {
      "cell_type": "code",
      "source": [
        "from sklearn.preprocessing import MinMaxScaler\n",
        "scaler = MinMaxScaler()\n",
        "df['IssuerId_scaled'] = scaler.fit_transform(df[['IssuerId']])"
      ],
      "metadata": {
        "id": "KlUhw4P7jpFg"
      },
      "execution_count": null,
      "outputs": []
    },
    {
      "cell_type": "code",
      "source": [
        "# replace IssuerId column with scaled values\n",
        "df = df.replace({'IssuerId': df['IssuerId'].values}, {'IssuerId': df['IssuerId_scaled'].values})\n"
      ],
      "metadata": {
        "id": "nwKnc1bejw7O"
      },
      "execution_count": null,
      "outputs": []
    },
    {
      "cell_type": "code",
      "source": [
        "df['IssuerId']"
      ],
      "metadata": {
        "id": "R2DyjsTCkK5a"
      },
      "execution_count": null,
      "outputs": []
    },
    {
      "cell_type": "code",
      "source": [
        "df['MarketCoverage'].value_counts()"
      ],
      "metadata": {
        "id": "9HvLdVW2l5z0"
      },
      "execution_count": null,
      "outputs": []
    },
    {
      "cell_type": "code",
      "source": [
        "df['MarketCoverage'].isnull().sum()"
      ],
      "metadata": {
        "id": "KrYocr5OmE8n"
      },
      "execution_count": null,
      "outputs": []
    },
    {
      "cell_type": "code",
      "source": [
        "df['MarketCoverage'].describe()"
      ],
      "metadata": {
        "id": "uszkItzumc2i"
      },
      "execution_count": null,
      "outputs": []
    },
    {
      "cell_type": "code",
      "source": [
        "df['MarketCoverage'] = df['MarketCoverage'].replace({'SHOP (Small Group)': 'Small Group'})\n",
        "\n",
        "# Encode categorical data as binary variables\n",
        "df['MarketCoverage'] = df['MarketCoverage'].map({'Individual': 0, 'Small Group': 1})"
      ],
      "metadata": {
        "id": "CZjxNrQkmfWC"
      },
      "execution_count": null,
      "outputs": []
    },
    {
      "cell_type": "code",
      "source": [
        "df.columns"
      ],
      "metadata": {
        "id": "PKHmnK4PkMOJ"
      },
      "execution_count": null,
      "outputs": []
    },
    {
      "cell_type": "code",
      "source": [
        "df['MetalLevel'].describe()"
      ],
      "metadata": {
        "id": "yINT5C0QqbKB"
      },
      "execution_count": null,
      "outputs": []
    },
    {
      "cell_type": "code",
      "source": [
        "df['MetalLevel'].isnull().sum()"
      ],
      "metadata": {
        "id": "6Bc9RaU2qrTX"
      },
      "execution_count": null,
      "outputs": []
    },
    {
      "cell_type": "code",
      "source": [
        "df_copy = df #checkpoint"
      ],
      "metadata": {
        "id": "mjoRh1irjsfo"
      },
      "execution_count": null,
      "outputs": []
    },
    {
      "cell_type": "code",
      "source": [
        "df = df_copy"
      ],
      "metadata": {
        "id": "uhFJ54KQwgEz"
      },
      "execution_count": null,
      "outputs": []
    },
    {
      "cell_type": "code",
      "source": [
        "df['MetalLevel'] = df['MetalLevel'].replace({'Catastrophic': 'Other'})\n",
        "\n",
        "# Normalize the data using one-hot encoding\n",
        "metal_dummies = pd.get_dummies(df['MetalLevel'], prefix='Metal')\n",
        "df = pd.concat([df, metal_dummies], axis=1)\n",
        "\n",
        "# Drop the original \"MetalLevel\" column\n",
        "df = df.drop('MetalLevel', axis=1)"
      ],
      "metadata": {
        "id": "fPpY7QaNqwCg"
      },
      "execution_count": null,
      "outputs": []
    },
    {
      "cell_type": "code",
      "source": [
        "df['NetworkId'].describe()"
      ],
      "metadata": {
        "id": "Lb42dQabsbln"
      },
      "execution_count": null,
      "outputs": []
    },
    {
      "cell_type": "code",
      "source": [
        "df[\"NetworkId\"] = df[\"NetworkId\"].str.strip()"
      ],
      "metadata": {
        "id": "pz0XbfnysdiJ"
      },
      "execution_count": null,
      "outputs": []
    },
    {
      "cell_type": "code",
      "source": [
        "df[\"NetworkId\"] = pd.Categorical(df[\"NetworkId\"])"
      ],
      "metadata": {
        "id": "KmbKPB3zuHft"
      },
      "execution_count": null,
      "outputs": []
    },
    {
      "cell_type": "code",
      "source": [
        "df.columns"
      ],
      "metadata": {
        "id": "bgD8F-sNuKkz"
      },
      "execution_count": null,
      "outputs": []
    },
    {
      "cell_type": "code",
      "source": [
        "df['WellnessProgramOffered'].value_counts()"
      ],
      "metadata": {
        "id": "cUbArcEnuMLA"
      },
      "execution_count": null,
      "outputs": []
    },
    {
      "cell_type": "code",
      "source": [
        "df['WellnessProgramOffered'] = df['WellnessProgramOffered'].replace({'Yes': 1, 'No': 0})"
      ],
      "metadata": {
        "id": "M76wQYt3wPRr"
      },
      "execution_count": null,
      "outputs": []
    },
    {
      "cell_type": "code",
      "source": [
        "df['ServiceAreaId'].describe()"
      ],
      "metadata": {
        "id": "EZvVDfIfwBpY"
      },
      "execution_count": null,
      "outputs": []
    },
    {
      "cell_type": "code",
      "source": [
        "df_copy = df"
      ],
      "metadata": {
        "id": "cxaeepXCxDfg"
      },
      "execution_count": null,
      "outputs": []
    },
    {
      "cell_type": "code",
      "source": [
        "df.shape"
      ],
      "metadata": {
        "id": "ruukryArzc6M"
      },
      "execution_count": null,
      "outputs": []
    },
    {
      "cell_type": "code",
      "source": [
        "from google.colab import files\n",
        "\n",
        "# generate and save the CSV file\n",
        "csv_data = df.to_csv(index=False)\n",
        "with open('data_cleaned.csv', 'w') as f:\n",
        "    f.write(csv_data)\n",
        "\n",
        "# download the CSV file to your local machine\n",
        "files.download('data_cleaned.csv')"
      ],
      "metadata": {
        "id": "TAa9Fom5zr4F"
      },
      "execution_count": null,
      "outputs": []
    },
    {
      "cell_type": "code",
      "source": [],
      "metadata": {
        "id": "gUE3dQpY0BvZ"
      },
      "execution_count": null,
      "outputs": []
    }
  ]
}