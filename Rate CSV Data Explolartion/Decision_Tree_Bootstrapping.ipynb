{
 "cells": [
  {
   "cell_type": "code",
   "execution_count": 2,
   "metadata": {},
   "outputs": [],
   "source": [
    "import pandas as pd\n",
    "import numpy as np\n",
    "import sklearn\n",
    "from sklearn.model_selection import train_test_split\n",
    "from sklearn.preprocessing import LabelEncoder\n",
    "from sklearn import metrics\n",
    "from sklearn import tree\n",
    "from sklearn.tree import plot_tree\n",
    "import matplotlib.pyplot as plt\n",
    "from sklearn.ensemble import BaggingClassifier"
   ]
  },
  {
   "cell_type": "code",
   "execution_count": 3,
   "metadata": {},
   "outputs": [],
   "source": [
    "df = pd.read_csv(\"clean_2.csv\",index_col=0)\n",
    "\n",
    "df1 = df\n"
   ]
  },
  {
   "cell_type": "code",
   "execution_count": 4,
   "metadata": {},
   "outputs": [
    {
     "data": {
      "text/html": [
       "<div>\n",
       "<style scoped>\n",
       "    .dataframe tbody tr th:only-of-type {\n",
       "        vertical-align: middle;\n",
       "    }\n",
       "\n",
       "    .dataframe tbody tr th {\n",
       "        vertical-align: top;\n",
       "    }\n",
       "\n",
       "    .dataframe thead th {\n",
       "        text-align: right;\n",
       "    }\n",
       "</style>\n",
       "<table border=\"1\" class=\"dataframe\">\n",
       "  <thead>\n",
       "    <tr style=\"text-align: right;\">\n",
       "      <th></th>\n",
       "      <th>BusinessYear</th>\n",
       "      <th>StateCode</th>\n",
       "      <th>SourceName</th>\n",
       "      <th>PlanId</th>\n",
       "      <th>RatingAreaId</th>\n",
       "      <th>Tobacco</th>\n",
       "      <th>Age</th>\n",
       "      <th>IndividualRate</th>\n",
       "      <th>PrimarySubscriberAndThreeOrMoreDependents</th>\n",
       "      <th>tobacco_rate</th>\n",
       "    </tr>\n",
       "  </thead>\n",
       "  <tbody>\n",
       "    <tr>\n",
       "      <th>0</th>\n",
       "      <td>2014</td>\n",
       "      <td>AK</td>\n",
       "      <td>HIOS</td>\n",
       "      <td>21989AK0010001</td>\n",
       "      <td>Rating Area 1</td>\n",
       "      <td>No Preference</td>\n",
       "      <td>10</td>\n",
       "      <td>29.00</td>\n",
       "      <td>0.0</td>\n",
       "      <td>29.00</td>\n",
       "    </tr>\n",
       "    <tr>\n",
       "      <th>1</th>\n",
       "      <td>2014</td>\n",
       "      <td>AK</td>\n",
       "      <td>HIOS</td>\n",
       "      <td>21989AK0020001</td>\n",
       "      <td>Rating Area 1</td>\n",
       "      <td>No Preference</td>\n",
       "      <td>-5</td>\n",
       "      <td>36.95</td>\n",
       "      <td>1.0</td>\n",
       "      <td>107.61</td>\n",
       "    </tr>\n",
       "    <tr>\n",
       "      <th>2</th>\n",
       "      <td>2014</td>\n",
       "      <td>AK</td>\n",
       "      <td>HIOS</td>\n",
       "      <td>21989AK0020001</td>\n",
       "      <td>Rating Area 2</td>\n",
       "      <td>No Preference</td>\n",
       "      <td>-5</td>\n",
       "      <td>36.95</td>\n",
       "      <td>1.0</td>\n",
       "      <td>107.61</td>\n",
       "    </tr>\n",
       "    <tr>\n",
       "      <th>3</th>\n",
       "      <td>2014</td>\n",
       "      <td>AK</td>\n",
       "      <td>HIOS</td>\n",
       "      <td>21989AK0010001</td>\n",
       "      <td>Rating Area 1</td>\n",
       "      <td>No Preference</td>\n",
       "      <td>21</td>\n",
       "      <td>32.00</td>\n",
       "      <td>0.0</td>\n",
       "      <td>32.00</td>\n",
       "    </tr>\n",
       "    <tr>\n",
       "      <th>4</th>\n",
       "      <td>2014</td>\n",
       "      <td>AK</td>\n",
       "      <td>HIOS</td>\n",
       "      <td>21989AK0010001</td>\n",
       "      <td>Rating Area 1</td>\n",
       "      <td>No Preference</td>\n",
       "      <td>22</td>\n",
       "      <td>32.00</td>\n",
       "      <td>0.0</td>\n",
       "      <td>32.00</td>\n",
       "    </tr>\n",
       "  </tbody>\n",
       "</table>\n",
       "</div>"
      ],
      "text/plain": [
       "   BusinessYear StateCode SourceName          PlanId   RatingAreaId  \\\n",
       "0          2014        AK       HIOS  21989AK0010001  Rating Area 1   \n",
       "1          2014        AK       HIOS  21989AK0020001  Rating Area 1   \n",
       "2          2014        AK       HIOS  21989AK0020001  Rating Area 2   \n",
       "3          2014        AK       HIOS  21989AK0010001  Rating Area 1   \n",
       "4          2014        AK       HIOS  21989AK0010001  Rating Area 1   \n",
       "\n",
       "         Tobacco  Age  IndividualRate  \\\n",
       "0  No Preference   10           29.00   \n",
       "1  No Preference   -5           36.95   \n",
       "2  No Preference   -5           36.95   \n",
       "3  No Preference   21           32.00   \n",
       "4  No Preference   22           32.00   \n",
       "\n",
       "   PrimarySubscriberAndThreeOrMoreDependents  tobacco_rate  \n",
       "0                                        0.0         29.00  \n",
       "1                                        1.0        107.61  \n",
       "2                                        1.0        107.61  \n",
       "3                                        0.0         32.00  \n",
       "4                                        0.0         32.00  "
      ]
     },
     "execution_count": 4,
     "metadata": {},
     "output_type": "execute_result"
    }
   ],
   "source": [
    "features = ['BusinessYear', 'StateCode', 'SourceName', 'RatingAreaId', 'Tobacco', 'Age', 'PrimarySubscriberAndThreeOrMoreDependents','tobacco_rate']\n",
    "target = 'PlanId'\n",
    "df.head()"
   ]
  },
  {
   "cell_type": "code",
   "execution_count": 5,
   "metadata": {},
   "outputs": [],
   "source": [
    "le = LabelEncoder()\n",
    "df['SourceName'] = le.fit_transform(df['SourceName'])\n",
    "df['StateCode'] = le.fit_transform(df['StateCode'])\n",
    "df['Tobacco'] = le.fit_transform(df['Tobacco'])\n",
    "df['PlanId'] = le.fit_transform(df['PlanId'])\n",
    "df['RatingAreaId'] = le.fit_transform(df['RatingAreaId'])"
   ]
  },
  {
   "cell_type": "code",
   "execution_count": null,
   "metadata": {},
   "outputs": [],
   "source": [
    "model=tree.DecisionTreeClassifier()"
   ]
  },
  {
   "cell_type": "code",
   "execution_count": null,
   "metadata": {},
   "outputs": [],
   "source": [
    "bag_clf = BaggingClassifier(base_estimator=model, n_estimators=10, max_samples=0.01, max_features=5)"
   ]
  },
  {
   "cell_type": "code",
   "execution_count": null,
   "metadata": {},
   "outputs": [],
   "source": [
    "X_train, X_test, y_train, y_test = train_test_split(df[['BusinessYear', 'StateCode', 'SourceName', 'Tobacco', 'RatingAreaId','Age', 'PrimarySubscriberAndThreeOrMoreDependents','tobacco_rate']], df[target], test_size=0.2, random_state=42)"
   ]
  },
  {
   "cell_type": "code",
   "execution_count": null,
   "metadata": {
    "pycharm": {
     "is_executing": true
    }
   },
   "outputs": [],
   "source": [
    "bag_clf.fit(X_train, y_train)"
   ]
  },
  {
   "cell_type": "code",
   "execution_count": null,
   "metadata": {},
   "outputs": [],
   "source": [
    "plt.figure(figsize=(300,250))\n",
    "plot_tree(model, filled=True)\n",
    "plt.show()"
   ]
  },
  {
   "cell_type": "code",
   "execution_count": null,
   "metadata": {},
   "outputs": [],
   "source": []
  },
  {
   "cell_type": "code",
   "execution_count": null,
   "metadata": {},
   "outputs": [],
   "source": []
  },
  {
   "cell_type": "code",
   "execution_count": null,
   "metadata": {},
   "outputs": [],
   "source": [
    "y_pred=bag_clf.predict(X_test)\n",
    "\n",
    "print(sklearn.metrics.f1_score(y_test,y_pred,average='weighted'))"
   ]
  },
  {
   "cell_type": "code",
   "execution_count": null,
   "metadata": {},
   "outputs": [],
   "source": []
  },
  {
   "cell_type": "code",
   "execution_count": null,
   "metadata": {},
   "outputs": [],
   "source": []
  }
 ],
 "metadata": {
  "kernelspec": {
   "display_name": "Python 3 (ipykernel)",
   "language": "python",
   "name": "python3"
  },
  "language_info": {
   "codemirror_mode": {
    "name": "ipython",
    "version": 3
   },
   "file_extension": ".py",
   "mimetype": "text/x-python",
   "name": "python",
   "nbconvert_exporter": "python",
   "pygments_lexer": "ipython3",
   "version": "3.10.7"
  }
 },
 "nbformat": 4,
 "nbformat_minor": 1
}
