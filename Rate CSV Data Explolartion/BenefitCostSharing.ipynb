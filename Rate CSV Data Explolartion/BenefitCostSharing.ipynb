{
  "nbformat": 4,
  "nbformat_minor": 0,
  "metadata": {
    "colab": {
      "provenance": []
    },
    "kernelspec": {
      "name": "python3",
      "display_name": "Python 3"
    },
    "language_info": {
      "name": "python"
    }
  },
  "cells": [
    {
      "cell_type": "code",
      "execution_count": 1,
      "metadata": {
        "id": "kxsS6cha2ynC"
      },
      "outputs": [],
      "source": [
        "import os\n",
        "os.environ['KAGGLE_USERNAME']=\"simransohal\"\n",
        "os.environ['KAGGLE_KEY']=\"3aa7697cd9a4ba2a3715c4a29c0f0cb6\""
      ]
    },
    {
      "cell_type": "code",
      "source": [
        "ls"
      ],
      "metadata": {
        "colab": {
          "base_uri": "https://localhost:8080/"
        },
        "id": "LB-P3Rm52zfN",
        "outputId": "24bc09a1-9a4e-474d-96d0-c9df3e5c01e3"
      },
      "execution_count": 2,
      "outputs": [
        {
          "output_type": "stream",
          "name": "stdout",
          "text": [
            "\u001b[0m\u001b[01;34msample_data\u001b[0m/\n"
          ]
        }
      ]
    },
    {
      "cell_type": "code",
      "source": [
        "!kaggle datasets download -d hhs/health-insurance-marketplace "
      ],
      "metadata": {
        "colab": {
          "base_uri": "https://localhost:8080/"
        },
        "id": "aG4ghaU52660",
        "outputId": "943844c9-e494-4f20-d6a2-6102d69a6204"
      },
      "execution_count": 3,
      "outputs": [
        {
          "output_type": "stream",
          "name": "stdout",
          "text": [
            "Downloading health-insurance-marketplace.zip to /content\n",
            " 97% 804M/829M [00:03<00:00, 270MB/s]\n",
            "100% 829M/829M [00:03<00:00, 238MB/s]\n"
          ]
        }
      ]
    },
    {
      "cell_type": "code",
      "source": [
        "import zipfile\n",
        "with zipfile.ZipFile('health-insurance-marketplace.zip', 'r') as zip_ref:\n",
        "    zip_ref.extractall()"
      ],
      "metadata": {
        "id": "ZQk1lDtY2-Bk"
      },
      "execution_count": 4,
      "outputs": []
    },
    {
      "cell_type": "code",
      "source": [
        "import pandas as pd\n",
        "import numpy as np"
      ],
      "metadata": {
        "id": "IfGXK28T3UZZ"
      },
      "execution_count": 6,
      "outputs": []
    },
    {
      "cell_type": "code",
      "source": [
        "data=pd.read_csv('BenefitsCostSharing.csv',nrows=5000)"
      ],
      "metadata": {
        "id": "b25tZrbA3AFE"
      },
      "execution_count": 7,
      "outputs": []
    },
    {
      "cell_type": "code",
      "source": [
        "cols=data.columns.tolist()"
      ],
      "metadata": {
        "id": "gpktMGt_3JDI"
      },
      "execution_count": 8,
      "outputs": []
    },
    {
      "cell_type": "code",
      "source": [
        "print(data.isnull().sum())"
      ],
      "metadata": {
        "colab": {
          "base_uri": "https://localhost:8080/"
        },
        "id": "fmYpa34E3JgY",
        "outputId": "4cc6fd1e-1281-4ea0-9bf6-fedc051cb483"
      },
      "execution_count": 9,
      "outputs": [
        {
          "output_type": "stream",
          "name": "stdout",
          "text": [
            "BenefitName               0\n",
            "BusinessYear              0\n",
            "CoinsInnTier1          1379\n",
            "CoinsInnTier2          5000\n",
            "CoinsOutofNet          1379\n",
            "CopayInnTier1          1379\n",
            "CopayInnTier2          5000\n",
            "CopayOutofNet          1379\n",
            "EHBVarReason           3601\n",
            "Exclusions             4997\n",
            "Explanation            4871\n",
            "ImportDate                0\n",
            "IsCovered              1327\n",
            "IsEHB                  2549\n",
            "IsExclFromInnMOOP      1379\n",
            "IsExclFromOonMOOP      1379\n",
            "IsStateMandate         4519\n",
            "IsSubjToDedTier1       1379\n",
            "IsSubjToDedTier2       1379\n",
            "IssuerId                  0\n",
            "IssuerId2                 0\n",
            "LimitQty               4378\n",
            "LimitUnit              4378\n",
            "MinimumStay            5000\n",
            "PlanId                    0\n",
            "QuantLimitOnSvc        4378\n",
            "RowNumber                 0\n",
            "SourceName                0\n",
            "StandardComponentId       0\n",
            "StateCode                 0\n",
            "StateCode2                0\n",
            "VersionNum                0\n",
            "dtype: int64\n"
          ]
        }
      ]
    },
    {
      "cell_type": "code",
      "source": [
        "for c in data.columns:\n",
        "    null_percentage=data[c].isnull().mean()*100\n",
        "    print(\"{c} percentage:{null_percentage}\".format(c=c,null_percentage=null_percentage))"
      ],
      "metadata": {
        "colab": {
          "base_uri": "https://localhost:8080/"
        },
        "id": "RGdRHCYY3L25",
        "outputId": "8b2b0a39-25e1-4316-9247-76080f8f4885"
      },
      "execution_count": 10,
      "outputs": [
        {
          "output_type": "stream",
          "name": "stdout",
          "text": [
            "BenefitName percentage:0.0\n",
            "BusinessYear percentage:0.0\n",
            "CoinsInnTier1 percentage:27.58\n",
            "CoinsInnTier2 percentage:100.0\n",
            "CoinsOutofNet percentage:27.58\n",
            "CopayInnTier1 percentage:27.58\n",
            "CopayInnTier2 percentage:100.0\n",
            "CopayOutofNet percentage:27.58\n",
            "EHBVarReason percentage:72.02\n",
            "Exclusions percentage:99.94\n",
            "Explanation percentage:97.42\n",
            "ImportDate percentage:0.0\n",
            "IsCovered percentage:26.540000000000003\n",
            "IsEHB percentage:50.980000000000004\n",
            "IsExclFromInnMOOP percentage:27.58\n",
            "IsExclFromOonMOOP percentage:27.58\n",
            "IsStateMandate percentage:90.38000000000001\n",
            "IsSubjToDedTier1 percentage:27.58\n",
            "IsSubjToDedTier2 percentage:27.58\n",
            "IssuerId percentage:0.0\n",
            "IssuerId2 percentage:0.0\n",
            "LimitQty percentage:87.56\n",
            "LimitUnit percentage:87.56\n",
            "MinimumStay percentage:100.0\n",
            "PlanId percentage:0.0\n",
            "QuantLimitOnSvc percentage:87.56\n",
            "RowNumber percentage:0.0\n",
            "SourceName percentage:0.0\n",
            "StandardComponentId percentage:0.0\n",
            "StateCode percentage:0.0\n",
            "StateCode2 percentage:0.0\n",
            "VersionNum percentage:0.0\n"
          ]
        }
      ]
    },
    {
      "cell_type": "code",
      "source": [
        "data=data.drop(['CoinsInnTier1','CoinsInnTier2','CoinsOutofNet','Exclusions','QuantLimitOnSvc','Explanation','EHBVarReason','IsExclFromInnMOOP','IsExclFromOonMOOP','LimitQty','LimitUnit','CopayInnTier1','CopayInnTier2','CopayOutofNet','ImportDate','IsSubjToDedTier1','IsSubjToDedTier2','IssuerId','IssuerId2','MinimumStay','RowNumber','StandardComponentId','StateCode2','VersionNum'],axis=1)"
      ],
      "metadata": {
        "id": "99mw5ay33O8s"
      },
      "execution_count": 11,
      "outputs": []
    },
    {
      "cell_type": "code",
      "source": [
        "data"
      ],
      "metadata": {
        "colab": {
          "base_uri": "https://localhost:8080/",
          "height": 423
        },
        "id": "fFDwYR9I3ZbB",
        "outputId": "b51e7b1d-f552-4b3b-b39c-034c9608115e"
      },
      "execution_count": 12,
      "outputs": [
        {
          "output_type": "execute_result",
          "data": {
            "text/plain": [
              "                                          BenefitName  BusinessYear IsCovered  \\\n",
              "0                     Routine Dental Services (Adult)          2014   Covered   \n",
              "1                        Dental Check-Up for Children          2014   Covered   \n",
              "2                           Basic Dental Care - Child          2014   Covered   \n",
              "3                                 Orthodontia - Child          2014   Covered   \n",
              "4                           Major Dental Care - Child          2014   Covered   \n",
              "...                                               ...           ...       ...   \n",
              "4995                                        Radiation          2014   Covered   \n",
              "4996                               Diabetes Education          2014   Covered   \n",
              "4997                               Prosthetic Devices          2014   Covered   \n",
              "4998                                 Infusion Therapy          2014   Covered   \n",
              "4999  Treatment for Temporomandibular Joint Disorders          2014       NaN   \n",
              "\n",
              "     IsEHB IsStateMandate             PlanId SourceName StateCode  \n",
              "0      NaN            NaN  21989AK0010001-00       HIOS        AK  \n",
              "1      Yes            NaN  21989AK0010001-00       HIOS        AK  \n",
              "2      Yes            NaN  21989AK0010001-00       HIOS        AK  \n",
              "3      NaN            NaN  21989AK0010001-00       HIOS        AK  \n",
              "4      Yes            NaN  21989AK0010001-00       HIOS        AK  \n",
              "...    ...            ...                ...        ...       ...  \n",
              "4995   NaN            NaN  73836AK0680019-01       HIOS        AK  \n",
              "4996   NaN            NaN  73836AK0680019-01       HIOS        AK  \n",
              "4997   NaN            NaN  73836AK0680019-01       HIOS        AK  \n",
              "4998   NaN            NaN  73836AK0680019-01       HIOS        AK  \n",
              "4999   NaN            NaN  73836AK0680019-01       HIOS        AK  \n",
              "\n",
              "[5000 rows x 8 columns]"
            ],
            "text/html": [
              "\n",
              "  <div id=\"df-3c2021ef-fdf8-4920-b0e3-f65762887380\">\n",
              "    <div class=\"colab-df-container\">\n",
              "      <div>\n",
              "<style scoped>\n",
              "    .dataframe tbody tr th:only-of-type {\n",
              "        vertical-align: middle;\n",
              "    }\n",
              "\n",
              "    .dataframe tbody tr th {\n",
              "        vertical-align: top;\n",
              "    }\n",
              "\n",
              "    .dataframe thead th {\n",
              "        text-align: right;\n",
              "    }\n",
              "</style>\n",
              "<table border=\"1\" class=\"dataframe\">\n",
              "  <thead>\n",
              "    <tr style=\"text-align: right;\">\n",
              "      <th></th>\n",
              "      <th>BenefitName</th>\n",
              "      <th>BusinessYear</th>\n",
              "      <th>IsCovered</th>\n",
              "      <th>IsEHB</th>\n",
              "      <th>IsStateMandate</th>\n",
              "      <th>PlanId</th>\n",
              "      <th>SourceName</th>\n",
              "      <th>StateCode</th>\n",
              "    </tr>\n",
              "  </thead>\n",
              "  <tbody>\n",
              "    <tr>\n",
              "      <th>0</th>\n",
              "      <td>Routine Dental Services (Adult)</td>\n",
              "      <td>2014</td>\n",
              "      <td>Covered</td>\n",
              "      <td>NaN</td>\n",
              "      <td>NaN</td>\n",
              "      <td>21989AK0010001-00</td>\n",
              "      <td>HIOS</td>\n",
              "      <td>AK</td>\n",
              "    </tr>\n",
              "    <tr>\n",
              "      <th>1</th>\n",
              "      <td>Dental Check-Up for Children</td>\n",
              "      <td>2014</td>\n",
              "      <td>Covered</td>\n",
              "      <td>Yes</td>\n",
              "      <td>NaN</td>\n",
              "      <td>21989AK0010001-00</td>\n",
              "      <td>HIOS</td>\n",
              "      <td>AK</td>\n",
              "    </tr>\n",
              "    <tr>\n",
              "      <th>2</th>\n",
              "      <td>Basic Dental Care - Child</td>\n",
              "      <td>2014</td>\n",
              "      <td>Covered</td>\n",
              "      <td>Yes</td>\n",
              "      <td>NaN</td>\n",
              "      <td>21989AK0010001-00</td>\n",
              "      <td>HIOS</td>\n",
              "      <td>AK</td>\n",
              "    </tr>\n",
              "    <tr>\n",
              "      <th>3</th>\n",
              "      <td>Orthodontia - Child</td>\n",
              "      <td>2014</td>\n",
              "      <td>Covered</td>\n",
              "      <td>NaN</td>\n",
              "      <td>NaN</td>\n",
              "      <td>21989AK0010001-00</td>\n",
              "      <td>HIOS</td>\n",
              "      <td>AK</td>\n",
              "    </tr>\n",
              "    <tr>\n",
              "      <th>4</th>\n",
              "      <td>Major Dental Care - Child</td>\n",
              "      <td>2014</td>\n",
              "      <td>Covered</td>\n",
              "      <td>Yes</td>\n",
              "      <td>NaN</td>\n",
              "      <td>21989AK0010001-00</td>\n",
              "      <td>HIOS</td>\n",
              "      <td>AK</td>\n",
              "    </tr>\n",
              "    <tr>\n",
              "      <th>...</th>\n",
              "      <td>...</td>\n",
              "      <td>...</td>\n",
              "      <td>...</td>\n",
              "      <td>...</td>\n",
              "      <td>...</td>\n",
              "      <td>...</td>\n",
              "      <td>...</td>\n",
              "      <td>...</td>\n",
              "    </tr>\n",
              "    <tr>\n",
              "      <th>4995</th>\n",
              "      <td>Radiation</td>\n",
              "      <td>2014</td>\n",
              "      <td>Covered</td>\n",
              "      <td>NaN</td>\n",
              "      <td>NaN</td>\n",
              "      <td>73836AK0680019-01</td>\n",
              "      <td>HIOS</td>\n",
              "      <td>AK</td>\n",
              "    </tr>\n",
              "    <tr>\n",
              "      <th>4996</th>\n",
              "      <td>Diabetes Education</td>\n",
              "      <td>2014</td>\n",
              "      <td>Covered</td>\n",
              "      <td>NaN</td>\n",
              "      <td>NaN</td>\n",
              "      <td>73836AK0680019-01</td>\n",
              "      <td>HIOS</td>\n",
              "      <td>AK</td>\n",
              "    </tr>\n",
              "    <tr>\n",
              "      <th>4997</th>\n",
              "      <td>Prosthetic Devices</td>\n",
              "      <td>2014</td>\n",
              "      <td>Covered</td>\n",
              "      <td>NaN</td>\n",
              "      <td>NaN</td>\n",
              "      <td>73836AK0680019-01</td>\n",
              "      <td>HIOS</td>\n",
              "      <td>AK</td>\n",
              "    </tr>\n",
              "    <tr>\n",
              "      <th>4998</th>\n",
              "      <td>Infusion Therapy</td>\n",
              "      <td>2014</td>\n",
              "      <td>Covered</td>\n",
              "      <td>NaN</td>\n",
              "      <td>NaN</td>\n",
              "      <td>73836AK0680019-01</td>\n",
              "      <td>HIOS</td>\n",
              "      <td>AK</td>\n",
              "    </tr>\n",
              "    <tr>\n",
              "      <th>4999</th>\n",
              "      <td>Treatment for Temporomandibular Joint Disorders</td>\n",
              "      <td>2014</td>\n",
              "      <td>NaN</td>\n",
              "      <td>NaN</td>\n",
              "      <td>NaN</td>\n",
              "      <td>73836AK0680019-01</td>\n",
              "      <td>HIOS</td>\n",
              "      <td>AK</td>\n",
              "    </tr>\n",
              "  </tbody>\n",
              "</table>\n",
              "<p>5000 rows × 8 columns</p>\n",
              "</div>\n",
              "      <button class=\"colab-df-convert\" onclick=\"convertToInteractive('df-3c2021ef-fdf8-4920-b0e3-f65762887380')\"\n",
              "              title=\"Convert this dataframe to an interactive table.\"\n",
              "              style=\"display:none;\">\n",
              "        \n",
              "  <svg xmlns=\"http://www.w3.org/2000/svg\" height=\"24px\"viewBox=\"0 0 24 24\"\n",
              "       width=\"24px\">\n",
              "    <path d=\"M0 0h24v24H0V0z\" fill=\"none\"/>\n",
              "    <path d=\"M18.56 5.44l.94 2.06.94-2.06 2.06-.94-2.06-.94-.94-2.06-.94 2.06-2.06.94zm-11 1L8.5 8.5l.94-2.06 2.06-.94-2.06-.94L8.5 2.5l-.94 2.06-2.06.94zm10 10l.94 2.06.94-2.06 2.06-.94-2.06-.94-.94-2.06-.94 2.06-2.06.94z\"/><path d=\"M17.41 7.96l-1.37-1.37c-.4-.4-.92-.59-1.43-.59-.52 0-1.04.2-1.43.59L10.3 9.45l-7.72 7.72c-.78.78-.78 2.05 0 2.83L4 21.41c.39.39.9.59 1.41.59.51 0 1.02-.2 1.41-.59l7.78-7.78 2.81-2.81c.8-.78.8-2.07 0-2.86zM5.41 20L4 18.59l7.72-7.72 1.47 1.35L5.41 20z\"/>\n",
              "  </svg>\n",
              "      </button>\n",
              "      \n",
              "  <style>\n",
              "    .colab-df-container {\n",
              "      display:flex;\n",
              "      flex-wrap:wrap;\n",
              "      gap: 12px;\n",
              "    }\n",
              "\n",
              "    .colab-df-convert {\n",
              "      background-color: #E8F0FE;\n",
              "      border: none;\n",
              "      border-radius: 50%;\n",
              "      cursor: pointer;\n",
              "      display: none;\n",
              "      fill: #1967D2;\n",
              "      height: 32px;\n",
              "      padding: 0 0 0 0;\n",
              "      width: 32px;\n",
              "    }\n",
              "\n",
              "    .colab-df-convert:hover {\n",
              "      background-color: #E2EBFA;\n",
              "      box-shadow: 0px 1px 2px rgba(60, 64, 67, 0.3), 0px 1px 3px 1px rgba(60, 64, 67, 0.15);\n",
              "      fill: #174EA6;\n",
              "    }\n",
              "\n",
              "    [theme=dark] .colab-df-convert {\n",
              "      background-color: #3B4455;\n",
              "      fill: #D2E3FC;\n",
              "    }\n",
              "\n",
              "    [theme=dark] .colab-df-convert:hover {\n",
              "      background-color: #434B5C;\n",
              "      box-shadow: 0px 1px 3px 1px rgba(0, 0, 0, 0.15);\n",
              "      filter: drop-shadow(0px 1px 2px rgba(0, 0, 0, 0.3));\n",
              "      fill: #FFFFFF;\n",
              "    }\n",
              "  </style>\n",
              "\n",
              "      <script>\n",
              "        const buttonEl =\n",
              "          document.querySelector('#df-3c2021ef-fdf8-4920-b0e3-f65762887380 button.colab-df-convert');\n",
              "        buttonEl.style.display =\n",
              "          google.colab.kernel.accessAllowed ? 'block' : 'none';\n",
              "\n",
              "        async function convertToInteractive(key) {\n",
              "          const element = document.querySelector('#df-3c2021ef-fdf8-4920-b0e3-f65762887380');\n",
              "          const dataTable =\n",
              "            await google.colab.kernel.invokeFunction('convertToInteractive',\n",
              "                                                     [key], {});\n",
              "          if (!dataTable) return;\n",
              "\n",
              "          const docLinkHtml = 'Like what you see? Visit the ' +\n",
              "            '<a target=\"_blank\" href=https://colab.research.google.com/notebooks/data_table.ipynb>data table notebook</a>'\n",
              "            + ' to learn more about interactive tables.';\n",
              "          element.innerHTML = '';\n",
              "          dataTable['output_type'] = 'display_data';\n",
              "          await google.colab.output.renderOutput(dataTable, element);\n",
              "          const docLink = document.createElement('div');\n",
              "          docLink.innerHTML = docLinkHtml;\n",
              "          element.appendChild(docLink);\n",
              "        }\n",
              "      </script>\n",
              "    </div>\n",
              "  </div>\n",
              "  "
            ]
          },
          "metadata": {},
          "execution_count": 12
        }
      ]
    },
    {
      "cell_type": "code",
      "source": [
        "data['IsEHB']=data['IsEHB'].fillna('No')"
      ],
      "metadata": {
        "id": "hbjPfYKH3b-P"
      },
      "execution_count": 13,
      "outputs": []
    },
    {
      "cell_type": "code",
      "source": [
        "data['IsEHB']=data['IsEHB'].map({'Yes':1,'No':0})"
      ],
      "metadata": {
        "id": "CV3hh1ZR3e1E"
      },
      "execution_count": 14,
      "outputs": []
    },
    {
      "cell_type": "code",
      "source": [
        "data['IsCovered']=data['IsCovered'].fillna('0')"
      ],
      "metadata": {
        "id": "u_TtgjE73gt8"
      },
      "execution_count": 15,
      "outputs": []
    },
    {
      "cell_type": "code",
      "source": [
        "data['IsCovered']=data['IsCovered'].map({'Covered':1,'Not Covered':0,'0':0})"
      ],
      "metadata": {
        "id": "cinHorqq3iZQ"
      },
      "execution_count": 16,
      "outputs": []
    },
    {
      "cell_type": "code",
      "source": [
        "data['IsStateMandate'].unique()"
      ],
      "metadata": {
        "colab": {
          "base_uri": "https://localhost:8080/"
        },
        "id": "gXhevhv83kfk",
        "outputId": "abd3e2ec-bef4-4f9d-a906-6fe417e99929"
      },
      "execution_count": 17,
      "outputs": [
        {
          "output_type": "execute_result",
          "data": {
            "text/plain": [
              "array([nan, 'Yes'], dtype=object)"
            ]
          },
          "metadata": {},
          "execution_count": 17
        }
      ]
    },
    {
      "cell_type": "code",
      "source": [
        "data['IsStateMandate']=data['IsStateMandate'].fillna('0') \n",
        "data['IsStateMandate']=data['IsStateMandate'].map({'0':0,'Yes':1})"
      ],
      "metadata": {
        "id": "my22fGXj3mac"
      },
      "execution_count": 18,
      "outputs": []
    },
    {
      "cell_type": "code",
      "source": [
        "data=data.dropna()"
      ],
      "metadata": {
        "id": "RphBPNAB3ojg"
      },
      "execution_count": 19,
      "outputs": []
    },
    {
      "cell_type": "code",
      "source": [
        "for c in data.columns:\n",
        "    null_percentage=data[c].isnull().mean()*100\n",
        "    print(\"{c} percentage:{null_percentage}\".format(c=c,null_percentage=null_percentage))"
      ],
      "metadata": {
        "colab": {
          "base_uri": "https://localhost:8080/"
        },
        "id": "Ao0DvuWC3qlc",
        "outputId": "b2dc33f5-671e-4f9e-ce38-a1050cfbb23b"
      },
      "execution_count": 20,
      "outputs": [
        {
          "output_type": "stream",
          "name": "stdout",
          "text": [
            "BenefitName percentage:0.0\n",
            "BusinessYear percentage:0.0\n",
            "IsCovered percentage:0.0\n",
            "IsEHB percentage:0.0\n",
            "IsStateMandate percentage:0.0\n",
            "PlanId percentage:0.0\n",
            "SourceName percentage:0.0\n",
            "StateCode percentage:0.0\n"
          ]
        }
      ]
    },
    {
      "cell_type": "code",
      "source": [
        "data['Department']=''\n",
        "departments={\n",
        "    'dental':['dental','orthodontia','root canal','occusal','maintainers','pulpotomy','extractions','denture','fillings','periodontal','tissue conditioning','posterior composites','periodonatal'],\n",
        "    'health':['drugs','telehealth','hearing','physician','gastric','obesity','metabolic','cardiac','cardiovascular','brain','sclerosis','autism','disorder','anomaly','disorders','Nutritional','nutrition','foods','fit','joint','bone','osteoporosis','substance','rehabilitation','habilitation','rehabilitative','weight loss','baby','infertility','delivery','abortion','postnatal','prenatal','mastectomy','contraceptive','sexual','services','dialysis','chemotherapy','acupunture','diabetes','therapy','care','benefit','membership','anesthetics','visit','nursing','eye','eye glasses','optical','mental','surgery','surgical','transplant','implants','emergency','urgent','chronic'],\n",
        "    'equipments':['equipment','devices','aids','sealant','supplies'],\n",
        "    'diagnostics':['diagnostic','test','imaging','screening','testing','observation','trials','laboratory','mammography','diagnosis','mammogram'],\n",
        "    'child care':['child','pediatric','newborn','children'],\n",
        "    \n",
        "\n",
        "    \n",
        "  }"
      ],
      "metadata": {
        "id": "tJvTKNXw3tBs"
      },
      "execution_count": 21,
      "outputs": []
    },
    {
      "cell_type": "code",
      "source": [
        "for idx,row in data.iterrows():\n",
        "    for department,keywords in departments.items():\n",
        "        for keyword in keywords:\n",
        "            if keyword in row['BenefitName'].lower():\n",
        "                data.at[idx,'Department']=department\n",
        "                break\n",
        "        if data.at[idx,'Department']!=' ':\n",
        "            break\n",
        "            "
      ],
      "metadata": {
        "id": "wVhdQ93p3vmE"
      },
      "execution_count": 22,
      "outputs": []
    },
    {
      "cell_type": "code",
      "source": [
        "from sklearn.preprocessing import LabelEncoder"
      ],
      "metadata": {
        "id": "FyHOjcxh37Z4"
      },
      "execution_count": 23,
      "outputs": []
    },
    {
      "cell_type": "code",
      "source": [
        "le = LabelEncoder()\n",
        "data['SourceName'] = le.fit_transform(data['SourceName'])\n",
        "data['StateCode'] = le.fit_transform(data['StateCode'])\n",
        "data['Department'] = le.fit_transform(data['Department'])"
      ],
      "metadata": {
        "id": "4suNS_bS39XQ"
      },
      "execution_count": 24,
      "outputs": []
    },
    {
      "cell_type": "code",
      "source": [
        "data"
      ],
      "metadata": {
        "colab": {
          "base_uri": "https://localhost:8080/",
          "height": 423
        },
        "id": "eILZz-eR4Au0",
        "outputId": "182c3442-bad4-4a58-8275-391bc1ed8c61"
      },
      "execution_count": 25,
      "outputs": [
        {
          "output_type": "execute_result",
          "data": {
            "text/plain": [
              "                                          BenefitName  BusinessYear  \\\n",
              "0                     Routine Dental Services (Adult)          2014   \n",
              "1                        Dental Check-Up for Children          2014   \n",
              "2                           Basic Dental Care - Child          2014   \n",
              "3                                 Orthodontia - Child          2014   \n",
              "4                           Major Dental Care - Child          2014   \n",
              "...                                               ...           ...   \n",
              "4995                                        Radiation          2014   \n",
              "4996                               Diabetes Education          2014   \n",
              "4997                               Prosthetic Devices          2014   \n",
              "4998                                 Infusion Therapy          2014   \n",
              "4999  Treatment for Temporomandibular Joint Disorders          2014   \n",
              "\n",
              "      IsCovered  IsEHB  IsStateMandate             PlanId  SourceName  \\\n",
              "0             1      0               0  21989AK0010001-00           0   \n",
              "1             1      1               0  21989AK0010001-00           0   \n",
              "2             1      1               0  21989AK0010001-00           0   \n",
              "3             1      0               0  21989AK0010001-00           0   \n",
              "4             1      1               0  21989AK0010001-00           0   \n",
              "...         ...    ...             ...                ...         ...   \n",
              "4995          1      0               0  73836AK0680019-01           0   \n",
              "4996          1      0               0  73836AK0680019-01           0   \n",
              "4997          1      0               0  73836AK0680019-01           0   \n",
              "4998          1      0               0  73836AK0680019-01           0   \n",
              "4999          0      0               0  73836AK0680019-01           0   \n",
              "\n",
              "      StateCode  Department  \n",
              "0             0           1  \n",
              "1             0           1  \n",
              "2             0           1  \n",
              "3             0           1  \n",
              "4             0           1  \n",
              "...         ...         ...  \n",
              "4995          0           0  \n",
              "4996          0           0  \n",
              "4997          0           0  \n",
              "4998          0           0  \n",
              "4999          0           0  \n",
              "\n",
              "[5000 rows x 9 columns]"
            ],
            "text/html": [
              "\n",
              "  <div id=\"df-44aee919-a960-48fb-abcd-7d905ee8180e\">\n",
              "    <div class=\"colab-df-container\">\n",
              "      <div>\n",
              "<style scoped>\n",
              "    .dataframe tbody tr th:only-of-type {\n",
              "        vertical-align: middle;\n",
              "    }\n",
              "\n",
              "    .dataframe tbody tr th {\n",
              "        vertical-align: top;\n",
              "    }\n",
              "\n",
              "    .dataframe thead th {\n",
              "        text-align: right;\n",
              "    }\n",
              "</style>\n",
              "<table border=\"1\" class=\"dataframe\">\n",
              "  <thead>\n",
              "    <tr style=\"text-align: right;\">\n",
              "      <th></th>\n",
              "      <th>BenefitName</th>\n",
              "      <th>BusinessYear</th>\n",
              "      <th>IsCovered</th>\n",
              "      <th>IsEHB</th>\n",
              "      <th>IsStateMandate</th>\n",
              "      <th>PlanId</th>\n",
              "      <th>SourceName</th>\n",
              "      <th>StateCode</th>\n",
              "      <th>Department</th>\n",
              "    </tr>\n",
              "  </thead>\n",
              "  <tbody>\n",
              "    <tr>\n",
              "      <th>0</th>\n",
              "      <td>Routine Dental Services (Adult)</td>\n",
              "      <td>2014</td>\n",
              "      <td>1</td>\n",
              "      <td>0</td>\n",
              "      <td>0</td>\n",
              "      <td>21989AK0010001-00</td>\n",
              "      <td>0</td>\n",
              "      <td>0</td>\n",
              "      <td>1</td>\n",
              "    </tr>\n",
              "    <tr>\n",
              "      <th>1</th>\n",
              "      <td>Dental Check-Up for Children</td>\n",
              "      <td>2014</td>\n",
              "      <td>1</td>\n",
              "      <td>1</td>\n",
              "      <td>0</td>\n",
              "      <td>21989AK0010001-00</td>\n",
              "      <td>0</td>\n",
              "      <td>0</td>\n",
              "      <td>1</td>\n",
              "    </tr>\n",
              "    <tr>\n",
              "      <th>2</th>\n",
              "      <td>Basic Dental Care - Child</td>\n",
              "      <td>2014</td>\n",
              "      <td>1</td>\n",
              "      <td>1</td>\n",
              "      <td>0</td>\n",
              "      <td>21989AK0010001-00</td>\n",
              "      <td>0</td>\n",
              "      <td>0</td>\n",
              "      <td>1</td>\n",
              "    </tr>\n",
              "    <tr>\n",
              "      <th>3</th>\n",
              "      <td>Orthodontia - Child</td>\n",
              "      <td>2014</td>\n",
              "      <td>1</td>\n",
              "      <td>0</td>\n",
              "      <td>0</td>\n",
              "      <td>21989AK0010001-00</td>\n",
              "      <td>0</td>\n",
              "      <td>0</td>\n",
              "      <td>1</td>\n",
              "    </tr>\n",
              "    <tr>\n",
              "      <th>4</th>\n",
              "      <td>Major Dental Care - Child</td>\n",
              "      <td>2014</td>\n",
              "      <td>1</td>\n",
              "      <td>1</td>\n",
              "      <td>0</td>\n",
              "      <td>21989AK0010001-00</td>\n",
              "      <td>0</td>\n",
              "      <td>0</td>\n",
              "      <td>1</td>\n",
              "    </tr>\n",
              "    <tr>\n",
              "      <th>...</th>\n",
              "      <td>...</td>\n",
              "      <td>...</td>\n",
              "      <td>...</td>\n",
              "      <td>...</td>\n",
              "      <td>...</td>\n",
              "      <td>...</td>\n",
              "      <td>...</td>\n",
              "      <td>...</td>\n",
              "      <td>...</td>\n",
              "    </tr>\n",
              "    <tr>\n",
              "      <th>4995</th>\n",
              "      <td>Radiation</td>\n",
              "      <td>2014</td>\n",
              "      <td>1</td>\n",
              "      <td>0</td>\n",
              "      <td>0</td>\n",
              "      <td>73836AK0680019-01</td>\n",
              "      <td>0</td>\n",
              "      <td>0</td>\n",
              "      <td>0</td>\n",
              "    </tr>\n",
              "    <tr>\n",
              "      <th>4996</th>\n",
              "      <td>Diabetes Education</td>\n",
              "      <td>2014</td>\n",
              "      <td>1</td>\n",
              "      <td>0</td>\n",
              "      <td>0</td>\n",
              "      <td>73836AK0680019-01</td>\n",
              "      <td>0</td>\n",
              "      <td>0</td>\n",
              "      <td>0</td>\n",
              "    </tr>\n",
              "    <tr>\n",
              "      <th>4997</th>\n",
              "      <td>Prosthetic Devices</td>\n",
              "      <td>2014</td>\n",
              "      <td>1</td>\n",
              "      <td>0</td>\n",
              "      <td>0</td>\n",
              "      <td>73836AK0680019-01</td>\n",
              "      <td>0</td>\n",
              "      <td>0</td>\n",
              "      <td>0</td>\n",
              "    </tr>\n",
              "    <tr>\n",
              "      <th>4998</th>\n",
              "      <td>Infusion Therapy</td>\n",
              "      <td>2014</td>\n",
              "      <td>1</td>\n",
              "      <td>0</td>\n",
              "      <td>0</td>\n",
              "      <td>73836AK0680019-01</td>\n",
              "      <td>0</td>\n",
              "      <td>0</td>\n",
              "      <td>0</td>\n",
              "    </tr>\n",
              "    <tr>\n",
              "      <th>4999</th>\n",
              "      <td>Treatment for Temporomandibular Joint Disorders</td>\n",
              "      <td>2014</td>\n",
              "      <td>0</td>\n",
              "      <td>0</td>\n",
              "      <td>0</td>\n",
              "      <td>73836AK0680019-01</td>\n",
              "      <td>0</td>\n",
              "      <td>0</td>\n",
              "      <td>0</td>\n",
              "    </tr>\n",
              "  </tbody>\n",
              "</table>\n",
              "<p>5000 rows × 9 columns</p>\n",
              "</div>\n",
              "      <button class=\"colab-df-convert\" onclick=\"convertToInteractive('df-44aee919-a960-48fb-abcd-7d905ee8180e')\"\n",
              "              title=\"Convert this dataframe to an interactive table.\"\n",
              "              style=\"display:none;\">\n",
              "        \n",
              "  <svg xmlns=\"http://www.w3.org/2000/svg\" height=\"24px\"viewBox=\"0 0 24 24\"\n",
              "       width=\"24px\">\n",
              "    <path d=\"M0 0h24v24H0V0z\" fill=\"none\"/>\n",
              "    <path d=\"M18.56 5.44l.94 2.06.94-2.06 2.06-.94-2.06-.94-.94-2.06-.94 2.06-2.06.94zm-11 1L8.5 8.5l.94-2.06 2.06-.94-2.06-.94L8.5 2.5l-.94 2.06-2.06.94zm10 10l.94 2.06.94-2.06 2.06-.94-2.06-.94-.94-2.06-.94 2.06-2.06.94z\"/><path d=\"M17.41 7.96l-1.37-1.37c-.4-.4-.92-.59-1.43-.59-.52 0-1.04.2-1.43.59L10.3 9.45l-7.72 7.72c-.78.78-.78 2.05 0 2.83L4 21.41c.39.39.9.59 1.41.59.51 0 1.02-.2 1.41-.59l7.78-7.78 2.81-2.81c.8-.78.8-2.07 0-2.86zM5.41 20L4 18.59l7.72-7.72 1.47 1.35L5.41 20z\"/>\n",
              "  </svg>\n",
              "      </button>\n",
              "      \n",
              "  <style>\n",
              "    .colab-df-container {\n",
              "      display:flex;\n",
              "      flex-wrap:wrap;\n",
              "      gap: 12px;\n",
              "    }\n",
              "\n",
              "    .colab-df-convert {\n",
              "      background-color: #E8F0FE;\n",
              "      border: none;\n",
              "      border-radius: 50%;\n",
              "      cursor: pointer;\n",
              "      display: none;\n",
              "      fill: #1967D2;\n",
              "      height: 32px;\n",
              "      padding: 0 0 0 0;\n",
              "      width: 32px;\n",
              "    }\n",
              "\n",
              "    .colab-df-convert:hover {\n",
              "      background-color: #E2EBFA;\n",
              "      box-shadow: 0px 1px 2px rgba(60, 64, 67, 0.3), 0px 1px 3px 1px rgba(60, 64, 67, 0.15);\n",
              "      fill: #174EA6;\n",
              "    }\n",
              "\n",
              "    [theme=dark] .colab-df-convert {\n",
              "      background-color: #3B4455;\n",
              "      fill: #D2E3FC;\n",
              "    }\n",
              "\n",
              "    [theme=dark] .colab-df-convert:hover {\n",
              "      background-color: #434B5C;\n",
              "      box-shadow: 0px 1px 3px 1px rgba(0, 0, 0, 0.15);\n",
              "      filter: drop-shadow(0px 1px 2px rgba(0, 0, 0, 0.3));\n",
              "      fill: #FFFFFF;\n",
              "    }\n",
              "  </style>\n",
              "\n",
              "      <script>\n",
              "        const buttonEl =\n",
              "          document.querySelector('#df-44aee919-a960-48fb-abcd-7d905ee8180e button.colab-df-convert');\n",
              "        buttonEl.style.display =\n",
              "          google.colab.kernel.accessAllowed ? 'block' : 'none';\n",
              "\n",
              "        async function convertToInteractive(key) {\n",
              "          const element = document.querySelector('#df-44aee919-a960-48fb-abcd-7d905ee8180e');\n",
              "          const dataTable =\n",
              "            await google.colab.kernel.invokeFunction('convertToInteractive',\n",
              "                                                     [key], {});\n",
              "          if (!dataTable) return;\n",
              "\n",
              "          const docLinkHtml = 'Like what you see? Visit the ' +\n",
              "            '<a target=\"_blank\" href=https://colab.research.google.com/notebooks/data_table.ipynb>data table notebook</a>'\n",
              "            + ' to learn more about interactive tables.';\n",
              "          element.innerHTML = '';\n",
              "          dataTable['output_type'] = 'display_data';\n",
              "          await google.colab.output.renderOutput(dataTable, element);\n",
              "          const docLink = document.createElement('div');\n",
              "          docLink.innerHTML = docLinkHtml;\n",
              "          element.appendChild(docLink);\n",
              "        }\n",
              "      </script>\n",
              "    </div>\n",
              "  </div>\n",
              "  "
            ]
          },
          "metadata": {},
          "execution_count": 25
        }
      ]
    },
    {
      "cell_type": "code",
      "source": [],
      "metadata": {
        "id": "ZbEYSEzJ4Jt8"
      },
      "execution_count": null,
      "outputs": []
    }
  ]
}