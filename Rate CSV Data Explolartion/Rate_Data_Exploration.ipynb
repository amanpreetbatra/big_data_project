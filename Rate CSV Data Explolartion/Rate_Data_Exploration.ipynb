{
 "cells": [
  {
   "cell_type": "code",
   "execution_count": null,
   "metadata": {
    "collapsed": true
   },
   "outputs": [],
   "source": []
  },
  {
   "cell_type": "code",
   "execution_count": null,
   "metadata": {},
   "outputs": [],
   "source": []
  },
  {
   "cell_type": "code",
   "execution_count": 34,
   "metadata": {},
   "outputs": [],
   "source": [
    "import numpy as np\n",
    "import pandas as pd\n",
    "from  matplotlib import pyplot\n",
    "import seaborn as sns"
   ]
  },
  {
   "cell_type": "code",
   "execution_count": 25,
   "metadata": {
    "pycharm": {
     "is_executing": true
    }
   },
   "outputs": [],
   "source": [
    "# rate_chunks = pd.read_csv(\"/home/amanpreet/Downloads/database/archive (1)/Rate.csv\",iterator=True,chunksize = 1000)\n",
    "# rates = pd.concat(chunk for chunk in rate_chunks)"
   ]
  },
  {
   "cell_type": "code",
   "execution_count": 26,
   "metadata": {},
   "outputs": [
    {
     "data": {
      "text/html": [
       "<div>\n",
       "<style scoped>\n",
       "    .dataframe tbody tr th:only-of-type {\n",
       "        vertical-align: middle;\n",
       "    }\n",
       "\n",
       "    .dataframe tbody tr th {\n",
       "        vertical-align: top;\n",
       "    }\n",
       "\n",
       "    .dataframe thead th {\n",
       "        text-align: right;\n",
       "    }\n",
       "</style>\n",
       "<table border=\"1\" class=\"dataframe\">\n",
       "  <thead>\n",
       "    <tr style=\"text-align: right;\">\n",
       "      <th></th>\n",
       "      <th>BusinessYear</th>\n",
       "      <th>StateCode</th>\n",
       "      <th>IssuerId</th>\n",
       "      <th>SourceName</th>\n",
       "      <th>VersionNum</th>\n",
       "      <th>ImportDate</th>\n",
       "      <th>IssuerId2</th>\n",
       "      <th>FederalTIN</th>\n",
       "      <th>RateEffectiveDate</th>\n",
       "      <th>RateExpirationDate</th>\n",
       "      <th>...</th>\n",
       "      <th>IndividualRate</th>\n",
       "      <th>IndividualTobaccoRate</th>\n",
       "      <th>Couple</th>\n",
       "      <th>PrimarySubscriberAndOneDependent</th>\n",
       "      <th>PrimarySubscriberAndTwoDependents</th>\n",
       "      <th>PrimarySubscriberAndThreeOrMoreDependents</th>\n",
       "      <th>CoupleAndOneDependent</th>\n",
       "      <th>CoupleAndTwoDependents</th>\n",
       "      <th>CoupleAndThreeOrMoreDependents</th>\n",
       "      <th>RowNumber</th>\n",
       "    </tr>\n",
       "  </thead>\n",
       "  <tbody>\n",
       "    <tr>\n",
       "      <th>0</th>\n",
       "      <td>2014</td>\n",
       "      <td>AK</td>\n",
       "      <td>21989</td>\n",
       "      <td>HIOS</td>\n",
       "      <td>6</td>\n",
       "      <td>2014-03-19 07:06:49</td>\n",
       "      <td>21989</td>\n",
       "      <td>93-0438772</td>\n",
       "      <td>2014-01-01</td>\n",
       "      <td>2014-12-31</td>\n",
       "      <td>...</td>\n",
       "      <td>29.00</td>\n",
       "      <td>NaN</td>\n",
       "      <td>NaN</td>\n",
       "      <td>NaN</td>\n",
       "      <td>NaN</td>\n",
       "      <td>NaN</td>\n",
       "      <td>NaN</td>\n",
       "      <td>NaN</td>\n",
       "      <td>NaN</td>\n",
       "      <td>14</td>\n",
       "    </tr>\n",
       "    <tr>\n",
       "      <th>1</th>\n",
       "      <td>2014</td>\n",
       "      <td>AK</td>\n",
       "      <td>21989</td>\n",
       "      <td>HIOS</td>\n",
       "      <td>6</td>\n",
       "      <td>2014-03-19 07:06:49</td>\n",
       "      <td>21989</td>\n",
       "      <td>93-0438772</td>\n",
       "      <td>2014-01-01</td>\n",
       "      <td>2014-12-31</td>\n",
       "      <td>...</td>\n",
       "      <td>36.95</td>\n",
       "      <td>NaN</td>\n",
       "      <td>73.9</td>\n",
       "      <td>107.61</td>\n",
       "      <td>107.61</td>\n",
       "      <td>107.61</td>\n",
       "      <td>144.56</td>\n",
       "      <td>144.56</td>\n",
       "      <td>144.56</td>\n",
       "      <td>14</td>\n",
       "    </tr>\n",
       "    <tr>\n",
       "      <th>2</th>\n",
       "      <td>2014</td>\n",
       "      <td>AK</td>\n",
       "      <td>21989</td>\n",
       "      <td>HIOS</td>\n",
       "      <td>6</td>\n",
       "      <td>2014-03-19 07:06:49</td>\n",
       "      <td>21989</td>\n",
       "      <td>93-0438772</td>\n",
       "      <td>2014-01-01</td>\n",
       "      <td>2014-12-31</td>\n",
       "      <td>...</td>\n",
       "      <td>36.95</td>\n",
       "      <td>NaN</td>\n",
       "      <td>73.9</td>\n",
       "      <td>107.61</td>\n",
       "      <td>107.61</td>\n",
       "      <td>107.61</td>\n",
       "      <td>144.56</td>\n",
       "      <td>144.56</td>\n",
       "      <td>144.56</td>\n",
       "      <td>15</td>\n",
       "    </tr>\n",
       "    <tr>\n",
       "      <th>3</th>\n",
       "      <td>2014</td>\n",
       "      <td>AK</td>\n",
       "      <td>21989</td>\n",
       "      <td>HIOS</td>\n",
       "      <td>6</td>\n",
       "      <td>2014-03-19 07:06:49</td>\n",
       "      <td>21989</td>\n",
       "      <td>93-0438772</td>\n",
       "      <td>2014-01-01</td>\n",
       "      <td>2014-12-31</td>\n",
       "      <td>...</td>\n",
       "      <td>32.00</td>\n",
       "      <td>NaN</td>\n",
       "      <td>NaN</td>\n",
       "      <td>NaN</td>\n",
       "      <td>NaN</td>\n",
       "      <td>NaN</td>\n",
       "      <td>NaN</td>\n",
       "      <td>NaN</td>\n",
       "      <td>NaN</td>\n",
       "      <td>15</td>\n",
       "    </tr>\n",
       "    <tr>\n",
       "      <th>4</th>\n",
       "      <td>2014</td>\n",
       "      <td>AK</td>\n",
       "      <td>21989</td>\n",
       "      <td>HIOS</td>\n",
       "      <td>6</td>\n",
       "      <td>2014-03-19 07:06:49</td>\n",
       "      <td>21989</td>\n",
       "      <td>93-0438772</td>\n",
       "      <td>2014-01-01</td>\n",
       "      <td>2014-12-31</td>\n",
       "      <td>...</td>\n",
       "      <td>32.00</td>\n",
       "      <td>NaN</td>\n",
       "      <td>NaN</td>\n",
       "      <td>NaN</td>\n",
       "      <td>NaN</td>\n",
       "      <td>NaN</td>\n",
       "      <td>NaN</td>\n",
       "      <td>NaN</td>\n",
       "      <td>NaN</td>\n",
       "      <td>16</td>\n",
       "    </tr>\n",
       "    <tr>\n",
       "      <th>5</th>\n",
       "      <td>2014</td>\n",
       "      <td>AK</td>\n",
       "      <td>21989</td>\n",
       "      <td>HIOS</td>\n",
       "      <td>6</td>\n",
       "      <td>2014-03-19 07:06:49</td>\n",
       "      <td>21989</td>\n",
       "      <td>93-0438772</td>\n",
       "      <td>2014-01-01</td>\n",
       "      <td>2014-12-31</td>\n",
       "      <td>...</td>\n",
       "      <td>36.95</td>\n",
       "      <td>NaN</td>\n",
       "      <td>73.9</td>\n",
       "      <td>107.61</td>\n",
       "      <td>107.61</td>\n",
       "      <td>107.61</td>\n",
       "      <td>144.56</td>\n",
       "      <td>144.56</td>\n",
       "      <td>144.56</td>\n",
       "      <td>16</td>\n",
       "    </tr>\n",
       "    <tr>\n",
       "      <th>6</th>\n",
       "      <td>2014</td>\n",
       "      <td>AK</td>\n",
       "      <td>21989</td>\n",
       "      <td>HIOS</td>\n",
       "      <td>6</td>\n",
       "      <td>2014-03-19 07:06:49</td>\n",
       "      <td>21989</td>\n",
       "      <td>93-0438772</td>\n",
       "      <td>2014-01-01</td>\n",
       "      <td>2014-12-31</td>\n",
       "      <td>...</td>\n",
       "      <td>32.45</td>\n",
       "      <td>NaN</td>\n",
       "      <td>64.9</td>\n",
       "      <td>94.50</td>\n",
       "      <td>94.50</td>\n",
       "      <td>94.50</td>\n",
       "      <td>126.95</td>\n",
       "      <td>126.95</td>\n",
       "      <td>126.95</td>\n",
       "      <td>17</td>\n",
       "    </tr>\n",
       "    <tr>\n",
       "      <th>7</th>\n",
       "      <td>2014</td>\n",
       "      <td>AK</td>\n",
       "      <td>21989</td>\n",
       "      <td>HIOS</td>\n",
       "      <td>6</td>\n",
       "      <td>2014-03-19 07:06:49</td>\n",
       "      <td>21989</td>\n",
       "      <td>93-0438772</td>\n",
       "      <td>2014-01-01</td>\n",
       "      <td>2014-12-31</td>\n",
       "      <td>...</td>\n",
       "      <td>32.00</td>\n",
       "      <td>NaN</td>\n",
       "      <td>NaN</td>\n",
       "      <td>NaN</td>\n",
       "      <td>NaN</td>\n",
       "      <td>NaN</td>\n",
       "      <td>NaN</td>\n",
       "      <td>NaN</td>\n",
       "      <td>NaN</td>\n",
       "      <td>17</td>\n",
       "    </tr>\n",
       "    <tr>\n",
       "      <th>8</th>\n",
       "      <td>2014</td>\n",
       "      <td>AK</td>\n",
       "      <td>21989</td>\n",
       "      <td>HIOS</td>\n",
       "      <td>6</td>\n",
       "      <td>2014-03-19 07:06:49</td>\n",
       "      <td>21989</td>\n",
       "      <td>93-0438772</td>\n",
       "      <td>2014-01-01</td>\n",
       "      <td>2014-12-31</td>\n",
       "      <td>...</td>\n",
       "      <td>32.00</td>\n",
       "      <td>NaN</td>\n",
       "      <td>NaN</td>\n",
       "      <td>NaN</td>\n",
       "      <td>NaN</td>\n",
       "      <td>NaN</td>\n",
       "      <td>NaN</td>\n",
       "      <td>NaN</td>\n",
       "      <td>NaN</td>\n",
       "      <td>18</td>\n",
       "    </tr>\n",
       "    <tr>\n",
       "      <th>9</th>\n",
       "      <td>2014</td>\n",
       "      <td>AK</td>\n",
       "      <td>21989</td>\n",
       "      <td>HIOS</td>\n",
       "      <td>6</td>\n",
       "      <td>2014-03-19 07:06:49</td>\n",
       "      <td>21989</td>\n",
       "      <td>93-0438772</td>\n",
       "      <td>2014-01-01</td>\n",
       "      <td>2014-12-31</td>\n",
       "      <td>...</td>\n",
       "      <td>32.45</td>\n",
       "      <td>NaN</td>\n",
       "      <td>64.9</td>\n",
       "      <td>94.50</td>\n",
       "      <td>94.50</td>\n",
       "      <td>94.50</td>\n",
       "      <td>126.95</td>\n",
       "      <td>126.95</td>\n",
       "      <td>126.95</td>\n",
       "      <td>18</td>\n",
       "    </tr>\n",
       "  </tbody>\n",
       "</table>\n",
       "<p>10 rows × 24 columns</p>\n",
       "</div>"
      ],
      "text/plain": [
       "   BusinessYear StateCode  IssuerId SourceName  VersionNum  \\\n",
       "0          2014        AK     21989       HIOS           6   \n",
       "1          2014        AK     21989       HIOS           6   \n",
       "2          2014        AK     21989       HIOS           6   \n",
       "3          2014        AK     21989       HIOS           6   \n",
       "4          2014        AK     21989       HIOS           6   \n",
       "5          2014        AK     21989       HIOS           6   \n",
       "6          2014        AK     21989       HIOS           6   \n",
       "7          2014        AK     21989       HIOS           6   \n",
       "8          2014        AK     21989       HIOS           6   \n",
       "9          2014        AK     21989       HIOS           6   \n",
       "\n",
       "            ImportDate  IssuerId2  FederalTIN RateEffectiveDate  \\\n",
       "0  2014-03-19 07:06:49      21989  93-0438772        2014-01-01   \n",
       "1  2014-03-19 07:06:49      21989  93-0438772        2014-01-01   \n",
       "2  2014-03-19 07:06:49      21989  93-0438772        2014-01-01   \n",
       "3  2014-03-19 07:06:49      21989  93-0438772        2014-01-01   \n",
       "4  2014-03-19 07:06:49      21989  93-0438772        2014-01-01   \n",
       "5  2014-03-19 07:06:49      21989  93-0438772        2014-01-01   \n",
       "6  2014-03-19 07:06:49      21989  93-0438772        2014-01-01   \n",
       "7  2014-03-19 07:06:49      21989  93-0438772        2014-01-01   \n",
       "8  2014-03-19 07:06:49      21989  93-0438772        2014-01-01   \n",
       "9  2014-03-19 07:06:49      21989  93-0438772        2014-01-01   \n",
       "\n",
       "  RateExpirationDate  ... IndividualRate IndividualTobaccoRate Couple  \\\n",
       "0         2014-12-31  ...          29.00                   NaN    NaN   \n",
       "1         2014-12-31  ...          36.95                   NaN   73.9   \n",
       "2         2014-12-31  ...          36.95                   NaN   73.9   \n",
       "3         2014-12-31  ...          32.00                   NaN    NaN   \n",
       "4         2014-12-31  ...          32.00                   NaN    NaN   \n",
       "5         2014-12-31  ...          36.95                   NaN   73.9   \n",
       "6         2014-12-31  ...          32.45                   NaN   64.9   \n",
       "7         2014-12-31  ...          32.00                   NaN    NaN   \n",
       "8         2014-12-31  ...          32.00                   NaN    NaN   \n",
       "9         2014-12-31  ...          32.45                   NaN   64.9   \n",
       "\n",
       "  PrimarySubscriberAndOneDependent  PrimarySubscriberAndTwoDependents  \\\n",
       "0                              NaN                                NaN   \n",
       "1                           107.61                             107.61   \n",
       "2                           107.61                             107.61   \n",
       "3                              NaN                                NaN   \n",
       "4                              NaN                                NaN   \n",
       "5                           107.61                             107.61   \n",
       "6                            94.50                              94.50   \n",
       "7                              NaN                                NaN   \n",
       "8                              NaN                                NaN   \n",
       "9                            94.50                              94.50   \n",
       "\n",
       "   PrimarySubscriberAndThreeOrMoreDependents  CoupleAndOneDependent  \\\n",
       "0                                        NaN                    NaN   \n",
       "1                                     107.61                 144.56   \n",
       "2                                     107.61                 144.56   \n",
       "3                                        NaN                    NaN   \n",
       "4                                        NaN                    NaN   \n",
       "5                                     107.61                 144.56   \n",
       "6                                      94.50                 126.95   \n",
       "7                                        NaN                    NaN   \n",
       "8                                        NaN                    NaN   \n",
       "9                                      94.50                 126.95   \n",
       "\n",
       "   CoupleAndTwoDependents  CoupleAndThreeOrMoreDependents  RowNumber  \n",
       "0                     NaN                             NaN         14  \n",
       "1                  144.56                          144.56         14  \n",
       "2                  144.56                          144.56         15  \n",
       "3                     NaN                             NaN         15  \n",
       "4                     NaN                             NaN         16  \n",
       "5                  144.56                          144.56         16  \n",
       "6                  126.95                          126.95         17  \n",
       "7                     NaN                             NaN         17  \n",
       "8                     NaN                             NaN         18  \n",
       "9                  126.95                          126.95         18  \n",
       "\n",
       "[10 rows x 24 columns]"
      ]
     },
     "execution_count": 26,
     "metadata": {},
     "output_type": "execute_result"
    }
   ],
   "source": [
    "# rates.head(10)"
   ]
  },
  {
   "cell_type": "code",
   "execution_count": null,
   "metadata": {},
   "outputs": [],
   "source": []
  },
  {
   "cell_type": "code",
   "execution_count": 27,
   "metadata": {},
   "outputs": [
    {
     "name": "stdout",
     "output_type": "stream",
     "text": [
      "       BusinessYear      IssuerId    VersionNum     IssuerId2  IndividualRate  \\\n",
      "count  1.269444e+07  1.269444e+07  1.269444e+07  1.269444e+07    1.269444e+07   \n",
      "mean   2.015034e+03  5.248592e+04  6.865558e+00  5.248592e+04    4.098026e+03   \n",
      "std    7.940521e-01  2.641263e+04  3.857180e+00  2.641263e+04    6.122271e+04   \n",
      "min    2.014000e+03  1.004600e+04  1.000000e+00  1.004600e+04    0.000000e+00   \n",
      "25%    2.014000e+03  3.021900e+04  4.000000e+00  3.021900e+04    2.933000e+01   \n",
      "50%    2.015000e+03  4.953200e+04  6.000000e+00  4.953200e+04    2.916000e+02   \n",
      "75%    2.016000e+03  7.652600e+04  9.000000e+00  7.652600e+04    4.789800e+02   \n",
      "max    2.016000e+03  9.996900e+04  2.400000e+01  9.996900e+04    9.999990e+05   \n",
      "\n",
      "       IndividualTobaccoRate        Couple  PrimarySubscriberAndOneDependent  \\\n",
      "count           4.932349e+06  40941.000000                      40941.000000   \n",
      "mean            5.436911e+02     48.115714                         49.835901   \n",
      "std             2.945916e+02     30.422891                         29.691985   \n",
      "min             4.173000e+01      0.000000                          0.000000   \n",
      "25%             3.391200e+02     26.710000                         27.390000   \n",
      "50%             4.632900e+02     49.770000                         51.240000   \n",
      "75%             6.843900e+02     69.900000                         72.230000   \n",
      "max             6.604610e+03    182.400000                        169.650000   \n",
      "\n",
      "       PrimarySubscriberAndTwoDependents  \\\n",
      "count                       40941.000000   \n",
      "mean                           70.660012   \n",
      "std                            44.620130   \n",
      "min                             0.000000   \n",
      "25%                            27.910000   \n",
      "50%                            74.680000   \n",
      "75%                           107.670000   \n",
      "max                           251.740000   \n",
      "\n",
      "       PrimarySubscriberAndThreeOrMoreDependents  CoupleAndOneDependent  \\\n",
      "count                               40941.000000           40941.000000   \n",
      "mean                                   89.405494              72.782793   \n",
      "std                                    57.699279              48.232537   \n",
      "min                                     0.000000               0.000000   \n",
      "25%                                    29.410000              28.260000   \n",
      "50%                                    98.800000              77.250000   \n",
      "75%                                   137.080000             110.430000   \n",
      "max                                   357.940000             260.850000   \n",
      "\n",
      "       CoupleAndTwoDependents  CoupleAndThreeOrMoreDependents     RowNumber  \n",
      "count            40941.000000                    40941.000000  1.269444e+07  \n",
      "mean                89.012859                      107.807774  6.348572e+03  \n",
      "std                 59.139094                       73.241174  9.011435e+03  \n",
      "min                  0.000000                        0.000000  1.400000e+01  \n",
      "25%                 28.260000                       29.490000  8.730000e+02  \n",
      "50%                 97.910000                      116.710000  2.728000e+03  \n",
      "75%                136.330000                      167.960000  7.577000e+03  \n",
      "max                339.310000                      449.140000  6.349300e+04  \n"
     ]
    }
   ],
   "source": [
    "# print(rates.describe())\n",
    "\n"
   ]
  },
  {
   "cell_type": "markdown",
   "metadata": {},
   "source": [
    "    BusinessYear:  This column indicates the year of the plan, which could be relevant to the user's preference for a more recent plan.\n",
    "    \n",
    "    StateCode:   This column indicates the state where the plan is available, which could be relevant to the user's location and eligibility for certain plans.\n",
    "    \n",
    "    MetalLevel:   This column indicates the metal level of the plan (e.g., bronze, silver, gold, platinum), which could be relevant to the user's budget and coverage needs.\n",
    "    \n",
    "    IssuerName:   This column indicates the name of the insurance company that offers the plan, which could be relevant to the user's preference for a certain insurer.\n",
    "    \n",
    "    Age:  This column indicates the age of the individual covered by the plan, which could be relevant to the user's age.\n",
    "    \n",
    "    Tobacco:  This column indicates whether the plan covers tobacco use or not, which could be relevant to the user's tobacco use.\n",
    "    \n",
    "    ChildOnlyOffering:  This column indicates whether the plan is only for children or not, which could be relevant to the user's number of children.\n",
    "    \n",
    "    \n",
    "    Couple, CoupleAndOneDependent, CoupleAndTwoDependents, CoupleAndThreeOrMoreDependents: These columns indicate the premium cost of the plan for different coverage scenarios, which could be relevant to the user's estimated budget and family size."
   ]
  },
  {
   "cell_type": "code",
   "execution_count": 35,
   "metadata": {},
   "outputs": [],
   "source": [
    "rate_fields = ['StateCode','PlanId','IndividualRate','PrimarySubscriberAndThreeOrMoreDependents','BusinessYear','Age','RatingAreaId','Tobacco','SourceName']\n",
    "rate_chunks = pd.read_csv(\"/home/amanpreet/Downloads/database/archive (1)/Rate.csv\",iterator=True,chunksize = 1000, usecols=rate_fields)\n",
    "rates_2= pd.concat(chunk for chunk in rate_chunks)"
   ]
  },
  {
   "cell_type": "code",
   "execution_count": 36,
   "metadata": {},
   "outputs": [
    {
     "data": {
      "text/plain": "   BusinessYear StateCode SourceName          PlanId   RatingAreaId  \\\n0          2014        AK       HIOS  21989AK0010001  Rating Area 1   \n1          2014        AK       HIOS  21989AK0020001  Rating Area 1   \n2          2014        AK       HIOS  21989AK0020001  Rating Area 2   \n3          2014        AK       HIOS  21989AK0010001  Rating Area 1   \n4          2014        AK       HIOS  21989AK0010001  Rating Area 1   \n\n         Tobacco            Age  IndividualRate  \\\n0  No Preference           0-20           29.00   \n1  No Preference  Family Option           36.95   \n2  No Preference  Family Option           36.95   \n3  No Preference             21           32.00   \n4  No Preference             22           32.00   \n\n   PrimarySubscriberAndThreeOrMoreDependents  \n0                                        NaN  \n1                                     107.61  \n2                                     107.61  \n3                                        NaN  \n4                                        NaN  ",
      "text/html": "<div>\n<style scoped>\n    .dataframe tbody tr th:only-of-type {\n        vertical-align: middle;\n    }\n\n    .dataframe tbody tr th {\n        vertical-align: top;\n    }\n\n    .dataframe thead th {\n        text-align: right;\n    }\n</style>\n<table border=\"1\" class=\"dataframe\">\n  <thead>\n    <tr style=\"text-align: right;\">\n      <th></th>\n      <th>BusinessYear</th>\n      <th>StateCode</th>\n      <th>SourceName</th>\n      <th>PlanId</th>\n      <th>RatingAreaId</th>\n      <th>Tobacco</th>\n      <th>Age</th>\n      <th>IndividualRate</th>\n      <th>PrimarySubscriberAndThreeOrMoreDependents</th>\n    </tr>\n  </thead>\n  <tbody>\n    <tr>\n      <th>0</th>\n      <td>2014</td>\n      <td>AK</td>\n      <td>HIOS</td>\n      <td>21989AK0010001</td>\n      <td>Rating Area 1</td>\n      <td>No Preference</td>\n      <td>0-20</td>\n      <td>29.00</td>\n      <td>NaN</td>\n    </tr>\n    <tr>\n      <th>1</th>\n      <td>2014</td>\n      <td>AK</td>\n      <td>HIOS</td>\n      <td>21989AK0020001</td>\n      <td>Rating Area 1</td>\n      <td>No Preference</td>\n      <td>Family Option</td>\n      <td>36.95</td>\n      <td>107.61</td>\n    </tr>\n    <tr>\n      <th>2</th>\n      <td>2014</td>\n      <td>AK</td>\n      <td>HIOS</td>\n      <td>21989AK0020001</td>\n      <td>Rating Area 2</td>\n      <td>No Preference</td>\n      <td>Family Option</td>\n      <td>36.95</td>\n      <td>107.61</td>\n    </tr>\n    <tr>\n      <th>3</th>\n      <td>2014</td>\n      <td>AK</td>\n      <td>HIOS</td>\n      <td>21989AK0010001</td>\n      <td>Rating Area 1</td>\n      <td>No Preference</td>\n      <td>21</td>\n      <td>32.00</td>\n      <td>NaN</td>\n    </tr>\n    <tr>\n      <th>4</th>\n      <td>2014</td>\n      <td>AK</td>\n      <td>HIOS</td>\n      <td>21989AK0010001</td>\n      <td>Rating Area 1</td>\n      <td>No Preference</td>\n      <td>22</td>\n      <td>32.00</td>\n      <td>NaN</td>\n    </tr>\n  </tbody>\n</table>\n</div>"
     },
     "execution_count": 36,
     "metadata": {},
     "output_type": "execute_result"
    }
   ],
   "source": [
    "rates_2.head(5)"
   ]
  },
  {
   "cell_type": "code",
   "execution_count": 4,
   "metadata": {},
   "outputs": [
    {
     "data": {
      "text/plain": [
       "Index(['BusinessYear', 'StateCode', 'SourceName', 'PlanId', 'RatingAreaId',\n",
       "       'Tobacco', 'Age', 'IndividualRate',\n",
       "       'PrimarySubscriberAndThreeOrMoreDependents'],\n",
       "      dtype='object')"
      ]
     },
     "execution_count": 4,
     "metadata": {},
     "output_type": "execute_result"
    }
   ],
   "source": [
    "rates_2.columns"
   ]
  },
  {
   "cell_type": "code",
   "execution_count": 5,
   "metadata": {},
   "outputs": [
    {
     "name": "stderr",
     "output_type": "stream",
     "text": [
      "/tmp/ipykernel_11968/2406390103.py:1: DeprecationWarning: `import pandas_profiling` is going to be deprecated by April 1st. Please use `import ydata_profiling` instead.\n",
      "  from pandas_profiling import ProfileReport\n"
     ]
    }
   ],
   "source": [
    "from pandas_profiling import ProfileReport "
   ]
  },
  {
   "cell_type": "markdown",
   "metadata": {},
   "source": []
  },
  {
   "cell_type": "code",
   "execution_count": 58,
   "metadata": {},
   "outputs": [],
   "source": [
    "# profile = ProfileReport(rates,title = \"Profiling Report_Rates_CSV\", explorative = True)"
   ]
  },
  {
   "cell_type": "code",
   "execution_count": 59,
   "metadata": {},
   "outputs": [
    {
     "data": {
      "application/vnd.jupyter.widget-view+json": {
       "model_id": "96f3a04503d94cc7812a0f2a799d0dc0",
       "version_major": 2,
       "version_minor": 0
      },
      "text/plain": [
       "Summarize dataset:   0%|          | 0/5 [00:00<?, ?it/s]"
      ]
     },
     "metadata": {},
     "output_type": "display_data"
    },
    {
     "name": "stderr",
     "output_type": "stream",
     "text": [
      "/home/amanpreet/PycharmProjects/big_data_project/venv/lib/python3.10/site-packages/pandas_profiling/model/pandas/discretize_pandas.py:52: FutureWarning: In a future version, `df.iloc[:, i] = newvals` will attempt to set the values inplace instead of always setting a new array. To retain the old behavior, use either `df[df.columns[i]] = newvals` or, if columns are non-unique, `df.isetitem(i, newvals)`\n",
      "  discretized_df.loc[:, column] = self._discretize_column(\n"
     ]
    },
    {
     "ename": "KeyboardInterrupt",
     "evalue": "",
     "output_type": "error",
     "traceback": [
      "\u001B[0;31m---------------------------------------------------------------------------\u001B[0m",
      "\u001B[0;31mKeyboardInterrupt\u001B[0m                         Traceback (most recent call last)",
      "Cell \u001B[0;32mIn[59], line 1\u001B[0m\n\u001B[0;32m----> 1\u001B[0m \u001B[43mprofile\u001B[49m\u001B[38;5;241;43m.\u001B[39;49m\u001B[43mto_widgets\u001B[49m\u001B[43m(\u001B[49m\u001B[43m)\u001B[49m\n",
      "File \u001B[0;32m~/PycharmProjects/big_data_project/venv/lib/python3.10/site-packages/typeguard/__init__.py:1033\u001B[0m, in \u001B[0;36mtypechecked.<locals>.wrapper\u001B[0;34m(*args, **kwargs)\u001B[0m\n\u001B[1;32m   1031\u001B[0m memo \u001B[38;5;241m=\u001B[39m _CallMemo(python_func, _localns, args\u001B[38;5;241m=\u001B[39margs, kwargs\u001B[38;5;241m=\u001B[39mkwargs)\n\u001B[1;32m   1032\u001B[0m check_argument_types(memo)\n\u001B[0;32m-> 1033\u001B[0m retval \u001B[38;5;241m=\u001B[39m \u001B[43mfunc\u001B[49m\u001B[43m(\u001B[49m\u001B[38;5;241;43m*\u001B[39;49m\u001B[43margs\u001B[49m\u001B[43m,\u001B[49m\u001B[43m \u001B[49m\u001B[38;5;241;43m*\u001B[39;49m\u001B[38;5;241;43m*\u001B[39;49m\u001B[43mkwargs\u001B[49m\u001B[43m)\u001B[49m\n\u001B[1;32m   1034\u001B[0m \u001B[38;5;28;01mtry\u001B[39;00m:\n\u001B[1;32m   1035\u001B[0m     check_return_type(retval, memo)\n",
      "File \u001B[0;32m~/PycharmProjects/big_data_project/venv/lib/python3.10/site-packages/pandas_profiling/profile_report.py:466\u001B[0m, in \u001B[0;36mProfileReport.to_widgets\u001B[0;34m(self)\u001B[0m\n\u001B[1;32m    462\u001B[0m     \u001B[38;5;28;01mpass\u001B[39;00m\n\u001B[1;32m    464\u001B[0m \u001B[38;5;28;01mfrom\u001B[39;00m \u001B[38;5;21;01mIPython\u001B[39;00m\u001B[38;5;21;01m.\u001B[39;00m\u001B[38;5;21;01mcore\u001B[39;00m\u001B[38;5;21;01m.\u001B[39;00m\u001B[38;5;21;01mdisplay\u001B[39;00m \u001B[38;5;28;01mimport\u001B[39;00m display\n\u001B[0;32m--> 466\u001B[0m display(\u001B[38;5;28;43mself\u001B[39;49m\u001B[38;5;241;43m.\u001B[39;49m\u001B[43mwidgets\u001B[49m)\n",
      "File \u001B[0;32m~/PycharmProjects/big_data_project/venv/lib/python3.10/site-packages/typeguard/__init__.py:1033\u001B[0m, in \u001B[0;36mtypechecked.<locals>.wrapper\u001B[0;34m(*args, **kwargs)\u001B[0m\n\u001B[1;32m   1031\u001B[0m memo \u001B[38;5;241m=\u001B[39m _CallMemo(python_func, _localns, args\u001B[38;5;241m=\u001B[39margs, kwargs\u001B[38;5;241m=\u001B[39mkwargs)\n\u001B[1;32m   1032\u001B[0m check_argument_types(memo)\n\u001B[0;32m-> 1033\u001B[0m retval \u001B[38;5;241m=\u001B[39m \u001B[43mfunc\u001B[49m\u001B[43m(\u001B[49m\u001B[38;5;241;43m*\u001B[39;49m\u001B[43margs\u001B[49m\u001B[43m,\u001B[49m\u001B[43m \u001B[49m\u001B[38;5;241;43m*\u001B[39;49m\u001B[38;5;241;43m*\u001B[39;49m\u001B[43mkwargs\u001B[49m\u001B[43m)\u001B[49m\n\u001B[1;32m   1034\u001B[0m \u001B[38;5;28;01mtry\u001B[39;00m:\n\u001B[1;32m   1035\u001B[0m     check_return_type(retval, memo)\n",
      "File \u001B[0;32m~/PycharmProjects/big_data_project/venv/lib/python3.10/site-packages/pandas_profiling/profile_report.py:243\u001B[0m, in \u001B[0;36mProfileReport.widgets\u001B[0;34m(self)\u001B[0m\n\u001B[1;32m    240\u001B[0m \u001B[38;5;129m@property\u001B[39m\n\u001B[1;32m    241\u001B[0m \u001B[38;5;28;01mdef\u001B[39;00m \u001B[38;5;21mwidgets\u001B[39m(\u001B[38;5;28mself\u001B[39m) \u001B[38;5;241m-\u001B[39m\u001B[38;5;241m>\u001B[39m Any:\n\u001B[1;32m    242\u001B[0m     \u001B[38;5;28;01mif\u001B[39;00m (\n\u001B[0;32m--> 243\u001B[0m         \u001B[38;5;28misinstance\u001B[39m(\u001B[38;5;28;43mself\u001B[39;49m\u001B[38;5;241;43m.\u001B[39;49m\u001B[43mdescription_set\u001B[49m[\u001B[38;5;124m\"\u001B[39m\u001B[38;5;124mtable\u001B[39m\u001B[38;5;124m\"\u001B[39m][\u001B[38;5;124m\"\u001B[39m\u001B[38;5;124mn\u001B[39m\u001B[38;5;124m\"\u001B[39m], \u001B[38;5;28mlist\u001B[39m)\n\u001B[1;32m    244\u001B[0m         \u001B[38;5;129;01mand\u001B[39;00m \u001B[38;5;28mlen\u001B[39m(\u001B[38;5;28mself\u001B[39m\u001B[38;5;241m.\u001B[39mdescription_set[\u001B[38;5;124m\"\u001B[39m\u001B[38;5;124mtable\u001B[39m\u001B[38;5;124m\"\u001B[39m][\u001B[38;5;124m\"\u001B[39m\u001B[38;5;124mn\u001B[39m\u001B[38;5;124m\"\u001B[39m]) \u001B[38;5;241m>\u001B[39m \u001B[38;5;241m1\u001B[39m\n\u001B[1;32m    245\u001B[0m     ):\n\u001B[1;32m    246\u001B[0m         \u001B[38;5;28;01mraise\u001B[39;00m \u001B[38;5;167;01mRuntimeError\u001B[39;00m(\n\u001B[1;32m    247\u001B[0m             \u001B[38;5;124m\"\u001B[39m\u001B[38;5;124mWidgets interface not (yet) supported for comparing reports, please use the HTML rendering.\u001B[39m\u001B[38;5;124m\"\u001B[39m\n\u001B[1;32m    248\u001B[0m         )\n\u001B[1;32m    250\u001B[0m     \u001B[38;5;28;01mif\u001B[39;00m \u001B[38;5;28mself\u001B[39m\u001B[38;5;241m.\u001B[39m_widgets \u001B[38;5;129;01mis\u001B[39;00m \u001B[38;5;28;01mNone\u001B[39;00m:\n",
      "File \u001B[0;32m~/PycharmProjects/big_data_project/venv/lib/python3.10/site-packages/typeguard/__init__.py:1033\u001B[0m, in \u001B[0;36mtypechecked.<locals>.wrapper\u001B[0;34m(*args, **kwargs)\u001B[0m\n\u001B[1;32m   1031\u001B[0m memo \u001B[38;5;241m=\u001B[39m _CallMemo(python_func, _localns, args\u001B[38;5;241m=\u001B[39margs, kwargs\u001B[38;5;241m=\u001B[39mkwargs)\n\u001B[1;32m   1032\u001B[0m check_argument_types(memo)\n\u001B[0;32m-> 1033\u001B[0m retval \u001B[38;5;241m=\u001B[39m \u001B[43mfunc\u001B[49m\u001B[43m(\u001B[49m\u001B[38;5;241;43m*\u001B[39;49m\u001B[43margs\u001B[49m\u001B[43m,\u001B[49m\u001B[43m \u001B[49m\u001B[38;5;241;43m*\u001B[39;49m\u001B[38;5;241;43m*\u001B[39;49m\u001B[43mkwargs\u001B[49m\u001B[43m)\u001B[49m\n\u001B[1;32m   1034\u001B[0m \u001B[38;5;28;01mtry\u001B[39;00m:\n\u001B[1;32m   1035\u001B[0m     check_return_type(retval, memo)\n",
      "File \u001B[0;32m~/PycharmProjects/big_data_project/venv/lib/python3.10/site-packages/pandas_profiling/profile_report.py:207\u001B[0m, in \u001B[0;36mProfileReport.description_set\u001B[0;34m(self)\u001B[0m\n\u001B[1;32m    204\u001B[0m \u001B[38;5;129m@property\u001B[39m\n\u001B[1;32m    205\u001B[0m \u001B[38;5;28;01mdef\u001B[39;00m \u001B[38;5;21mdescription_set\u001B[39m(\u001B[38;5;28mself\u001B[39m) \u001B[38;5;241m-\u001B[39m\u001B[38;5;241m>\u001B[39m Dict[\u001B[38;5;28mstr\u001B[39m, Any]:\n\u001B[1;32m    206\u001B[0m     \u001B[38;5;28;01mif\u001B[39;00m \u001B[38;5;28mself\u001B[39m\u001B[38;5;241m.\u001B[39m_description_set \u001B[38;5;129;01mis\u001B[39;00m \u001B[38;5;28;01mNone\u001B[39;00m:\n\u001B[0;32m--> 207\u001B[0m         \u001B[38;5;28mself\u001B[39m\u001B[38;5;241m.\u001B[39m_description_set \u001B[38;5;241m=\u001B[39m \u001B[43mdescribe_df\u001B[49m\u001B[43m(\u001B[49m\n\u001B[1;32m    208\u001B[0m \u001B[43m            \u001B[49m\u001B[38;5;28;43mself\u001B[39;49m\u001B[38;5;241;43m.\u001B[39;49m\u001B[43mconfig\u001B[49m\u001B[43m,\u001B[49m\n\u001B[1;32m    209\u001B[0m \u001B[43m            \u001B[49m\u001B[38;5;28;43mself\u001B[39;49m\u001B[38;5;241;43m.\u001B[39;49m\u001B[43mdf\u001B[49m\u001B[43m,\u001B[49m\n\u001B[1;32m    210\u001B[0m \u001B[43m            \u001B[49m\u001B[38;5;28;43mself\u001B[39;49m\u001B[38;5;241;43m.\u001B[39;49m\u001B[43msummarizer\u001B[49m\u001B[43m,\u001B[49m\n\u001B[1;32m    211\u001B[0m \u001B[43m            \u001B[49m\u001B[38;5;28;43mself\u001B[39;49m\u001B[38;5;241;43m.\u001B[39;49m\u001B[43mtypeset\u001B[49m\u001B[43m,\u001B[49m\n\u001B[1;32m    212\u001B[0m \u001B[43m            \u001B[49m\u001B[38;5;28;43mself\u001B[39;49m\u001B[38;5;241;43m.\u001B[39;49m\u001B[43m_sample\u001B[49m\u001B[43m,\u001B[49m\n\u001B[1;32m    213\u001B[0m \u001B[43m        \u001B[49m\u001B[43m)\u001B[49m\n\u001B[1;32m    214\u001B[0m     \u001B[38;5;28;01mreturn\u001B[39;00m \u001B[38;5;28mself\u001B[39m\u001B[38;5;241m.\u001B[39m_description_set\n",
      "File \u001B[0;32m~/PycharmProjects/big_data_project/venv/lib/python3.10/site-packages/pandas_profiling/model/describe.py:97\u001B[0m, in \u001B[0;36mdescribe\u001B[0;34m(config, df, summarizer, typeset, sample)\u001B[0m\n\u001B[1;32m     94\u001B[0m correlation_names \u001B[38;5;241m=\u001B[39m get_active_correlations(config)\n\u001B[1;32m     95\u001B[0m pbar\u001B[38;5;241m.\u001B[39mtotal \u001B[38;5;241m+\u001B[39m\u001B[38;5;241m=\u001B[39m \u001B[38;5;28mlen\u001B[39m(correlation_names)\n\u001B[0;32m---> 97\u001B[0m correlations \u001B[38;5;241m=\u001B[39m {\n\u001B[1;32m     98\u001B[0m     correlation_name: progress(\n\u001B[1;32m     99\u001B[0m         calculate_correlation, pbar, \u001B[38;5;124mf\u001B[39m\u001B[38;5;124m\"\u001B[39m\u001B[38;5;124mCalculate \u001B[39m\u001B[38;5;132;01m{\u001B[39;00mcorrelation_name\u001B[38;5;132;01m}\u001B[39;00m\u001B[38;5;124m correlation\u001B[39m\u001B[38;5;124m\"\u001B[39m\n\u001B[1;32m    100\u001B[0m     )(config, df, correlation_name, series_description)\n\u001B[1;32m    101\u001B[0m     \u001B[38;5;28;01mfor\u001B[39;00m correlation_name \u001B[38;5;129;01min\u001B[39;00m correlation_names\n\u001B[1;32m    102\u001B[0m }\n\u001B[1;32m    104\u001B[0m \u001B[38;5;66;03m# make sure correlations is not None\u001B[39;00m\n\u001B[1;32m    105\u001B[0m correlations \u001B[38;5;241m=\u001B[39m {\n\u001B[1;32m    106\u001B[0m     key: value \u001B[38;5;28;01mfor\u001B[39;00m key, value \u001B[38;5;129;01min\u001B[39;00m correlations\u001B[38;5;241m.\u001B[39mitems() \u001B[38;5;28;01mif\u001B[39;00m value \u001B[38;5;129;01mis\u001B[39;00m \u001B[38;5;129;01mnot\u001B[39;00m \u001B[38;5;28;01mNone\u001B[39;00m\n\u001B[1;32m    107\u001B[0m }\n",
      "File \u001B[0;32m~/PycharmProjects/big_data_project/venv/lib/python3.10/site-packages/pandas_profiling/model/describe.py:98\u001B[0m, in \u001B[0;36m<dictcomp>\u001B[0;34m(.0)\u001B[0m\n\u001B[1;32m     94\u001B[0m correlation_names \u001B[38;5;241m=\u001B[39m get_active_correlations(config)\n\u001B[1;32m     95\u001B[0m pbar\u001B[38;5;241m.\u001B[39mtotal \u001B[38;5;241m+\u001B[39m\u001B[38;5;241m=\u001B[39m \u001B[38;5;28mlen\u001B[39m(correlation_names)\n\u001B[1;32m     97\u001B[0m correlations \u001B[38;5;241m=\u001B[39m {\n\u001B[0;32m---> 98\u001B[0m     correlation_name: \u001B[43mprogress\u001B[49m\u001B[43m(\u001B[49m\n\u001B[1;32m     99\u001B[0m \u001B[43m        \u001B[49m\u001B[43mcalculate_correlation\u001B[49m\u001B[43m,\u001B[49m\u001B[43m \u001B[49m\u001B[43mpbar\u001B[49m\u001B[43m,\u001B[49m\u001B[43m \u001B[49m\u001B[38;5;124;43mf\u001B[39;49m\u001B[38;5;124;43m\"\u001B[39;49m\u001B[38;5;124;43mCalculate \u001B[39;49m\u001B[38;5;132;43;01m{\u001B[39;49;00m\u001B[43mcorrelation_name\u001B[49m\u001B[38;5;132;43;01m}\u001B[39;49;00m\u001B[38;5;124;43m correlation\u001B[39;49m\u001B[38;5;124;43m\"\u001B[39;49m\n\u001B[1;32m    100\u001B[0m \u001B[43m    \u001B[49m\u001B[43m)\u001B[49m\u001B[43m(\u001B[49m\u001B[43mconfig\u001B[49m\u001B[43m,\u001B[49m\u001B[43m \u001B[49m\u001B[43mdf\u001B[49m\u001B[43m,\u001B[49m\u001B[43m \u001B[49m\u001B[43mcorrelation_name\u001B[49m\u001B[43m,\u001B[49m\u001B[43m \u001B[49m\u001B[43mseries_description\u001B[49m\u001B[43m)\u001B[49m\n\u001B[1;32m    101\u001B[0m     \u001B[38;5;28;01mfor\u001B[39;00m correlation_name \u001B[38;5;129;01min\u001B[39;00m correlation_names\n\u001B[1;32m    102\u001B[0m }\n\u001B[1;32m    104\u001B[0m \u001B[38;5;66;03m# make sure correlations is not None\u001B[39;00m\n\u001B[1;32m    105\u001B[0m correlations \u001B[38;5;241m=\u001B[39m {\n\u001B[1;32m    106\u001B[0m     key: value \u001B[38;5;28;01mfor\u001B[39;00m key, value \u001B[38;5;129;01min\u001B[39;00m correlations\u001B[38;5;241m.\u001B[39mitems() \u001B[38;5;28;01mif\u001B[39;00m value \u001B[38;5;129;01mis\u001B[39;00m \u001B[38;5;129;01mnot\u001B[39;00m \u001B[38;5;28;01mNone\u001B[39;00m\n\u001B[1;32m    107\u001B[0m }\n",
      "File \u001B[0;32m~/PycharmProjects/big_data_project/venv/lib/python3.10/site-packages/pandas_profiling/utils/progress_bar.py:11\u001B[0m, in \u001B[0;36mprogress.<locals>.inner\u001B[0;34m(*args, **kwargs)\u001B[0m\n\u001B[1;32m      8\u001B[0m \u001B[38;5;129m@wraps\u001B[39m(fn)\n\u001B[1;32m      9\u001B[0m \u001B[38;5;28;01mdef\u001B[39;00m \u001B[38;5;21minner\u001B[39m(\u001B[38;5;241m*\u001B[39margs, \u001B[38;5;241m*\u001B[39m\u001B[38;5;241m*\u001B[39mkwargs) \u001B[38;5;241m-\u001B[39m\u001B[38;5;241m>\u001B[39m Any:\n\u001B[1;32m     10\u001B[0m     bar\u001B[38;5;241m.\u001B[39mset_postfix_str(message)\n\u001B[0;32m---> 11\u001B[0m     ret \u001B[38;5;241m=\u001B[39m \u001B[43mfn\u001B[49m\u001B[43m(\u001B[49m\u001B[38;5;241;43m*\u001B[39;49m\u001B[43margs\u001B[49m\u001B[43m,\u001B[49m\u001B[43m \u001B[49m\u001B[38;5;241;43m*\u001B[39;49m\u001B[38;5;241;43m*\u001B[39;49m\u001B[43mkwargs\u001B[49m\u001B[43m)\u001B[49m\n\u001B[1;32m     12\u001B[0m     bar\u001B[38;5;241m.\u001B[39mupdate()\n\u001B[1;32m     13\u001B[0m     \u001B[38;5;28;01mreturn\u001B[39;00m ret\n",
      "File \u001B[0;32m~/PycharmProjects/big_data_project/venv/lib/python3.10/site-packages/pandas_profiling/model/correlations.py:107\u001B[0m, in \u001B[0;36mcalculate_correlation\u001B[0;34m(config, df, correlation_name, summary)\u001B[0m\n\u001B[1;32m    105\u001B[0m correlation \u001B[38;5;241m=\u001B[39m \u001B[38;5;28;01mNone\u001B[39;00m\n\u001B[1;32m    106\u001B[0m \u001B[38;5;28;01mtry\u001B[39;00m:\n\u001B[0;32m--> 107\u001B[0m     correlation \u001B[38;5;241m=\u001B[39m \u001B[43mcorrelation_measures\u001B[49m\u001B[43m[\u001B[49m\u001B[43mcorrelation_name\u001B[49m\u001B[43m]\u001B[49m\u001B[38;5;241;43m.\u001B[39;49m\u001B[43mcompute\u001B[49m\u001B[43m(\u001B[49m\n\u001B[1;32m    108\u001B[0m \u001B[43m        \u001B[49m\u001B[43mconfig\u001B[49m\u001B[43m,\u001B[49m\u001B[43m \u001B[49m\u001B[43mdf\u001B[49m\u001B[43m,\u001B[49m\u001B[43m \u001B[49m\u001B[43msummary\u001B[49m\n\u001B[1;32m    109\u001B[0m \u001B[43m    \u001B[49m\u001B[43m)\u001B[49m\n\u001B[1;32m    110\u001B[0m \u001B[38;5;28;01mexcept\u001B[39;00m (\u001B[38;5;167;01mValueError\u001B[39;00m, \u001B[38;5;167;01mAssertionError\u001B[39;00m, \u001B[38;5;167;01mTypeError\u001B[39;00m, DataError, \u001B[38;5;167;01mIndexError\u001B[39;00m) \u001B[38;5;28;01mas\u001B[39;00m e:\n\u001B[1;32m    111\u001B[0m     warn_correlation(correlation_name, \u001B[38;5;28mstr\u001B[39m(e))\n",
      "File \u001B[0;32m~/PycharmProjects/big_data_project/venv/lib/python3.10/site-packages/multimethod/__init__.py:315\u001B[0m, in \u001B[0;36mmultimethod.__call__\u001B[0;34m(self, *args, **kwargs)\u001B[0m\n\u001B[1;32m    313\u001B[0m func \u001B[38;5;241m=\u001B[39m \u001B[38;5;28mself\u001B[39m[\u001B[38;5;28mtuple\u001B[39m(func(arg) \u001B[38;5;28;01mfor\u001B[39;00m func, arg \u001B[38;5;129;01min\u001B[39;00m \u001B[38;5;28mzip\u001B[39m(\u001B[38;5;28mself\u001B[39m\u001B[38;5;241m.\u001B[39mtype_checkers, args))]\n\u001B[1;32m    314\u001B[0m \u001B[38;5;28;01mtry\u001B[39;00m:\n\u001B[0;32m--> 315\u001B[0m     \u001B[38;5;28;01mreturn\u001B[39;00m \u001B[43mfunc\u001B[49m\u001B[43m(\u001B[49m\u001B[38;5;241;43m*\u001B[39;49m\u001B[43margs\u001B[49m\u001B[43m,\u001B[49m\u001B[43m \u001B[49m\u001B[38;5;241;43m*\u001B[39;49m\u001B[38;5;241;43m*\u001B[39;49m\u001B[43mkwargs\u001B[49m\u001B[43m)\u001B[49m\n\u001B[1;32m    316\u001B[0m \u001B[38;5;28;01mexcept\u001B[39;00m \u001B[38;5;167;01mTypeError\u001B[39;00m \u001B[38;5;28;01mas\u001B[39;00m ex:\n\u001B[1;32m    317\u001B[0m     \u001B[38;5;28;01mraise\u001B[39;00m DispatchError(\u001B[38;5;124mf\u001B[39m\u001B[38;5;124m\"\u001B[39m\u001B[38;5;124mFunction \u001B[39m\u001B[38;5;132;01m{\u001B[39;00mfunc\u001B[38;5;241m.\u001B[39m\u001B[38;5;18m__code__\u001B[39m\u001B[38;5;132;01m}\u001B[39;00m\u001B[38;5;124m\"\u001B[39m) \u001B[38;5;28;01mfrom\u001B[39;00m \u001B[38;5;21;01mex\u001B[39;00m\n",
      "File \u001B[0;32m~/PycharmProjects/big_data_project/venv/lib/python3.10/site-packages/pandas_profiling/model/pandas/correlations_pandas.py:203\u001B[0m, in \u001B[0;36mpandas_auto_compute\u001B[0;34m(config, df, summary)\u001B[0m\n\u001B[1;32m    196\u001B[0m     \u001B[38;5;28;01mdef\u001B[39;00m \u001B[38;5;21mf\u001B[39m(col_name: \u001B[38;5;28mstr\u001B[39m, method: Callable) \u001B[38;5;241m-\u001B[39m\u001B[38;5;241m>\u001B[39m pd\u001B[38;5;241m.\u001B[39mSeries:\n\u001B[1;32m    197\u001B[0m         \u001B[38;5;28;01mreturn\u001B[39;00m (\n\u001B[1;32m    198\u001B[0m             df_discretized\n\u001B[1;32m    199\u001B[0m             \u001B[38;5;28;01mif\u001B[39;00m col_name \u001B[38;5;129;01min\u001B[39;00m numerical_columns \u001B[38;5;129;01mand\u001B[39;00m method \u001B[38;5;129;01mis\u001B[39;00m _pairwise_cramers\n\u001B[1;32m    200\u001B[0m             \u001B[38;5;28;01melse\u001B[39;00m df\n\u001B[1;32m    201\u001B[0m         )\n\u001B[0;32m--> 203\u001B[0m     score \u001B[38;5;241m=\u001B[39m \u001B[43mmethod\u001B[49m\u001B[43m(\u001B[49m\n\u001B[1;32m    204\u001B[0m \u001B[43m        \u001B[49m\u001B[43mf\u001B[49m\u001B[43m(\u001B[49m\u001B[43mcol_1_name\u001B[49m\u001B[43m,\u001B[49m\u001B[43m \u001B[49m\u001B[43mmethod\u001B[49m\u001B[43m)\u001B[49m\u001B[43m[\u001B[49m\u001B[43mcol_1_name\u001B[49m\u001B[43m]\u001B[49m\u001B[43m,\u001B[49m\u001B[43m \u001B[49m\u001B[43mf\u001B[49m\u001B[43m(\u001B[49m\u001B[43mcol_2_name\u001B[49m\u001B[43m,\u001B[49m\u001B[43m \u001B[49m\u001B[43mmethod\u001B[49m\u001B[43m)\u001B[49m\u001B[43m[\u001B[49m\u001B[43mcol_2_name\u001B[49m\u001B[43m]\u001B[49m\n\u001B[1;32m    205\u001B[0m \u001B[43m    \u001B[49m\u001B[43m)\u001B[49m\n\u001B[1;32m    206\u001B[0m     (\n\u001B[1;32m    207\u001B[0m         correlation_matrix\u001B[38;5;241m.\u001B[39mloc[col_1_name, col_2_name],\n\u001B[1;32m    208\u001B[0m         correlation_matrix\u001B[38;5;241m.\u001B[39mloc[col_2_name, col_1_name],\n\u001B[1;32m    209\u001B[0m     ) \u001B[38;5;241m=\u001B[39m (score, score)\n\u001B[1;32m    211\u001B[0m \u001B[38;5;28;01mreturn\u001B[39;00m correlation_matrix\n",
      "File \u001B[0;32m~/PycharmProjects/big_data_project/venv/lib/python3.10/site-packages/pandas_profiling/model/pandas/correlations_pandas.py:80\u001B[0m, in \u001B[0;36m_pairwise_cramers\u001B[0;34m(col_1, col_2)\u001B[0m\n\u001B[1;32m     79\u001B[0m \u001B[38;5;28;01mdef\u001B[39;00m \u001B[38;5;21m_pairwise_cramers\u001B[39m(col_1: pd\u001B[38;5;241m.\u001B[39mSeries, col_2: pd\u001B[38;5;241m.\u001B[39mSeries) \u001B[38;5;241m-\u001B[39m\u001B[38;5;241m>\u001B[39m \u001B[38;5;28mfloat\u001B[39m:\n\u001B[0;32m---> 80\u001B[0m     \u001B[38;5;28;01mreturn\u001B[39;00m _cramers_corrected_stat(\u001B[43mpd\u001B[49m\u001B[38;5;241;43m.\u001B[39;49m\u001B[43mcrosstab\u001B[49m\u001B[43m(\u001B[49m\u001B[43mcol_1\u001B[49m\u001B[43m,\u001B[49m\u001B[43m \u001B[49m\u001B[43mcol_2\u001B[49m\u001B[43m)\u001B[49m, correction\u001B[38;5;241m=\u001B[39m\u001B[38;5;28;01mTrue\u001B[39;00m)\n",
      "File \u001B[0;32m~/.local/lib/python3.10/site-packages/pandas/core/reshape/pivot.py:691\u001B[0m, in \u001B[0;36mcrosstab\u001B[0;34m(index, columns, values, rownames, colnames, aggfunc, margins, margins_name, dropna, normalize)\u001B[0m\n\u001B[1;32m    688\u001B[0m     df[\u001B[38;5;124m\"\u001B[39m\u001B[38;5;124m__dummy__\u001B[39m\u001B[38;5;124m\"\u001B[39m] \u001B[38;5;241m=\u001B[39m values\n\u001B[1;32m    689\u001B[0m     kwargs \u001B[38;5;241m=\u001B[39m {\u001B[38;5;124m\"\u001B[39m\u001B[38;5;124maggfunc\u001B[39m\u001B[38;5;124m\"\u001B[39m: aggfunc}\n\u001B[0;32m--> 691\u001B[0m table \u001B[38;5;241m=\u001B[39m \u001B[43mdf\u001B[49m\u001B[38;5;241;43m.\u001B[39;49m\u001B[43mpivot_table\u001B[49m\u001B[43m(\u001B[49m\n\u001B[1;32m    692\u001B[0m \u001B[43m    \u001B[49m\u001B[38;5;124;43m\"\u001B[39;49m\u001B[38;5;124;43m__dummy__\u001B[39;49m\u001B[38;5;124;43m\"\u001B[39;49m\u001B[43m,\u001B[49m\n\u001B[1;32m    693\u001B[0m \u001B[43m    \u001B[49m\u001B[43mindex\u001B[49m\u001B[38;5;241;43m=\u001B[39;49m\u001B[43munique_rownames\u001B[49m\u001B[43m,\u001B[49m\n\u001B[1;32m    694\u001B[0m \u001B[43m    \u001B[49m\u001B[43mcolumns\u001B[49m\u001B[38;5;241;43m=\u001B[39;49m\u001B[43munique_colnames\u001B[49m\u001B[43m,\u001B[49m\n\u001B[1;32m    695\u001B[0m \u001B[43m    \u001B[49m\u001B[43mmargins\u001B[49m\u001B[38;5;241;43m=\u001B[39;49m\u001B[43mmargins\u001B[49m\u001B[43m,\u001B[49m\n\u001B[1;32m    696\u001B[0m \u001B[43m    \u001B[49m\u001B[43mmargins_name\u001B[49m\u001B[38;5;241;43m=\u001B[39;49m\u001B[43mmargins_name\u001B[49m\u001B[43m,\u001B[49m\n\u001B[1;32m    697\u001B[0m \u001B[43m    \u001B[49m\u001B[43mdropna\u001B[49m\u001B[38;5;241;43m=\u001B[39;49m\u001B[43mdropna\u001B[49m\u001B[43m,\u001B[49m\n\u001B[1;32m    698\u001B[0m \u001B[43m    \u001B[49m\u001B[38;5;241;43m*\u001B[39;49m\u001B[38;5;241;43m*\u001B[39;49m\u001B[43mkwargs\u001B[49m\u001B[43m,\u001B[49m\n\u001B[1;32m    699\u001B[0m \u001B[43m\u001B[49m\u001B[43m)\u001B[49m\n\u001B[1;32m    701\u001B[0m \u001B[38;5;66;03m# Post-process\u001B[39;00m\n\u001B[1;32m    702\u001B[0m \u001B[38;5;28;01mif\u001B[39;00m normalize \u001B[38;5;129;01mis\u001B[39;00m \u001B[38;5;129;01mnot\u001B[39;00m \u001B[38;5;28;01mFalse\u001B[39;00m:\n",
      "File \u001B[0;32m~/.local/lib/python3.10/site-packages/pandas/core/frame.py:8728\u001B[0m, in \u001B[0;36mDataFrame.pivot_table\u001B[0;34m(self, values, index, columns, aggfunc, fill_value, margins, dropna, margins_name, observed, sort)\u001B[0m\n\u001B[1;32m   8711\u001B[0m \u001B[38;5;129m@Substitution\u001B[39m(\u001B[38;5;124m\"\u001B[39m\u001B[38;5;124m\"\u001B[39m)\n\u001B[1;32m   8712\u001B[0m \u001B[38;5;129m@Appender\u001B[39m(_shared_docs[\u001B[38;5;124m\"\u001B[39m\u001B[38;5;124mpivot_table\u001B[39m\u001B[38;5;124m\"\u001B[39m])\n\u001B[1;32m   8713\u001B[0m \u001B[38;5;28;01mdef\u001B[39;00m \u001B[38;5;21mpivot_table\u001B[39m(\n\u001B[0;32m   (...)\u001B[0m\n\u001B[1;32m   8724\u001B[0m     sort\u001B[38;5;241m=\u001B[39m\u001B[38;5;28;01mTrue\u001B[39;00m,\n\u001B[1;32m   8725\u001B[0m ) \u001B[38;5;241m-\u001B[39m\u001B[38;5;241m>\u001B[39m DataFrame:\n\u001B[1;32m   8726\u001B[0m     \u001B[38;5;28;01mfrom\u001B[39;00m \u001B[38;5;21;01mpandas\u001B[39;00m\u001B[38;5;21;01m.\u001B[39;00m\u001B[38;5;21;01mcore\u001B[39;00m\u001B[38;5;21;01m.\u001B[39;00m\u001B[38;5;21;01mreshape\u001B[39;00m\u001B[38;5;21;01m.\u001B[39;00m\u001B[38;5;21;01mpivot\u001B[39;00m \u001B[38;5;28;01mimport\u001B[39;00m pivot_table\n\u001B[0;32m-> 8728\u001B[0m     \u001B[38;5;28;01mreturn\u001B[39;00m \u001B[43mpivot_table\u001B[49m\u001B[43m(\u001B[49m\n\u001B[1;32m   8729\u001B[0m \u001B[43m        \u001B[49m\u001B[38;5;28;43mself\u001B[39;49m\u001B[43m,\u001B[49m\n\u001B[1;32m   8730\u001B[0m \u001B[43m        \u001B[49m\u001B[43mvalues\u001B[49m\u001B[38;5;241;43m=\u001B[39;49m\u001B[43mvalues\u001B[49m\u001B[43m,\u001B[49m\n\u001B[1;32m   8731\u001B[0m \u001B[43m        \u001B[49m\u001B[43mindex\u001B[49m\u001B[38;5;241;43m=\u001B[39;49m\u001B[43mindex\u001B[49m\u001B[43m,\u001B[49m\n\u001B[1;32m   8732\u001B[0m \u001B[43m        \u001B[49m\u001B[43mcolumns\u001B[49m\u001B[38;5;241;43m=\u001B[39;49m\u001B[43mcolumns\u001B[49m\u001B[43m,\u001B[49m\n\u001B[1;32m   8733\u001B[0m \u001B[43m        \u001B[49m\u001B[43maggfunc\u001B[49m\u001B[38;5;241;43m=\u001B[39;49m\u001B[43maggfunc\u001B[49m\u001B[43m,\u001B[49m\n\u001B[1;32m   8734\u001B[0m \u001B[43m        \u001B[49m\u001B[43mfill_value\u001B[49m\u001B[38;5;241;43m=\u001B[39;49m\u001B[43mfill_value\u001B[49m\u001B[43m,\u001B[49m\n\u001B[1;32m   8735\u001B[0m \u001B[43m        \u001B[49m\u001B[43mmargins\u001B[49m\u001B[38;5;241;43m=\u001B[39;49m\u001B[43mmargins\u001B[49m\u001B[43m,\u001B[49m\n\u001B[1;32m   8736\u001B[0m \u001B[43m        \u001B[49m\u001B[43mdropna\u001B[49m\u001B[38;5;241;43m=\u001B[39;49m\u001B[43mdropna\u001B[49m\u001B[43m,\u001B[49m\n\u001B[1;32m   8737\u001B[0m \u001B[43m        \u001B[49m\u001B[43mmargins_name\u001B[49m\u001B[38;5;241;43m=\u001B[39;49m\u001B[43mmargins_name\u001B[49m\u001B[43m,\u001B[49m\n\u001B[1;32m   8738\u001B[0m \u001B[43m        \u001B[49m\u001B[43mobserved\u001B[49m\u001B[38;5;241;43m=\u001B[39;49m\u001B[43mobserved\u001B[49m\u001B[43m,\u001B[49m\n\u001B[1;32m   8739\u001B[0m \u001B[43m        \u001B[49m\u001B[43msort\u001B[49m\u001B[38;5;241;43m=\u001B[39;49m\u001B[43msort\u001B[49m\u001B[43m,\u001B[49m\n\u001B[1;32m   8740\u001B[0m \u001B[43m    \u001B[49m\u001B[43m)\u001B[49m\n",
      "File \u001B[0;32m~/.local/lib/python3.10/site-packages/pandas/core/reshape/pivot.py:97\u001B[0m, in \u001B[0;36mpivot_table\u001B[0;34m(data, values, index, columns, aggfunc, fill_value, margins, dropna, margins_name, observed, sort)\u001B[0m\n\u001B[1;32m     94\u001B[0m     table \u001B[38;5;241m=\u001B[39m concat(pieces, keys\u001B[38;5;241m=\u001B[39mkeys, axis\u001B[38;5;241m=\u001B[39m\u001B[38;5;241m1\u001B[39m)\n\u001B[1;32m     95\u001B[0m     \u001B[38;5;28;01mreturn\u001B[39;00m table\u001B[38;5;241m.\u001B[39m__finalize__(data, method\u001B[38;5;241m=\u001B[39m\u001B[38;5;124m\"\u001B[39m\u001B[38;5;124mpivot_table\u001B[39m\u001B[38;5;124m\"\u001B[39m)\n\u001B[0;32m---> 97\u001B[0m table \u001B[38;5;241m=\u001B[39m \u001B[43m__internal_pivot_table\u001B[49m\u001B[43m(\u001B[49m\n\u001B[1;32m     98\u001B[0m \u001B[43m    \u001B[49m\u001B[43mdata\u001B[49m\u001B[43m,\u001B[49m\n\u001B[1;32m     99\u001B[0m \u001B[43m    \u001B[49m\u001B[43mvalues\u001B[49m\u001B[43m,\u001B[49m\n\u001B[1;32m    100\u001B[0m \u001B[43m    \u001B[49m\u001B[43mindex\u001B[49m\u001B[43m,\u001B[49m\n\u001B[1;32m    101\u001B[0m \u001B[43m    \u001B[49m\u001B[43mcolumns\u001B[49m\u001B[43m,\u001B[49m\n\u001B[1;32m    102\u001B[0m \u001B[43m    \u001B[49m\u001B[43maggfunc\u001B[49m\u001B[43m,\u001B[49m\n\u001B[1;32m    103\u001B[0m \u001B[43m    \u001B[49m\u001B[43mfill_value\u001B[49m\u001B[43m,\u001B[49m\n\u001B[1;32m    104\u001B[0m \u001B[43m    \u001B[49m\u001B[43mmargins\u001B[49m\u001B[43m,\u001B[49m\n\u001B[1;32m    105\u001B[0m \u001B[43m    \u001B[49m\u001B[43mdropna\u001B[49m\u001B[43m,\u001B[49m\n\u001B[1;32m    106\u001B[0m \u001B[43m    \u001B[49m\u001B[43mmargins_name\u001B[49m\u001B[43m,\u001B[49m\n\u001B[1;32m    107\u001B[0m \u001B[43m    \u001B[49m\u001B[43mobserved\u001B[49m\u001B[43m,\u001B[49m\n\u001B[1;32m    108\u001B[0m \u001B[43m    \u001B[49m\u001B[43msort\u001B[49m\u001B[43m,\u001B[49m\n\u001B[1;32m    109\u001B[0m \u001B[43m\u001B[49m\u001B[43m)\u001B[49m\n\u001B[1;32m    110\u001B[0m \u001B[38;5;28;01mreturn\u001B[39;00m table\u001B[38;5;241m.\u001B[39m__finalize__(data, method\u001B[38;5;241m=\u001B[39m\u001B[38;5;124m\"\u001B[39m\u001B[38;5;124mpivot_table\u001B[39m\u001B[38;5;124m\"\u001B[39m)\n",
      "File \u001B[0;32m~/.local/lib/python3.10/site-packages/pandas/core/reshape/pivot.py:177\u001B[0m, in \u001B[0;36m__internal_pivot_table\u001B[0;34m(data, values, index, columns, aggfunc, fill_value, margins, dropna, margins_name, observed, sort)\u001B[0m\n\u001B[1;32m    167\u001B[0m msg \u001B[38;5;241m=\u001B[39m (\n\u001B[1;32m    168\u001B[0m     \u001B[38;5;124m\"\u001B[39m\u001B[38;5;124mpivot_table dropped a column because it failed to aggregate. This behavior \u001B[39m\u001B[38;5;124m\"\u001B[39m\n\u001B[1;32m    169\u001B[0m     \u001B[38;5;124m\"\u001B[39m\u001B[38;5;124mis deprecated and will raise in a future version of pandas. Select only the \u001B[39m\u001B[38;5;124m\"\u001B[39m\n\u001B[1;32m    170\u001B[0m     \u001B[38;5;124m\"\u001B[39m\u001B[38;5;124mcolumns that can be aggregated.\u001B[39m\u001B[38;5;124m\"\u001B[39m\n\u001B[1;32m    171\u001B[0m )\n\u001B[1;32m    172\u001B[0m \u001B[38;5;28;01mwith\u001B[39;00m rewrite_warning(\n\u001B[1;32m    173\u001B[0m     target_message\u001B[38;5;241m=\u001B[39m\u001B[38;5;124m\"\u001B[39m\u001B[38;5;124mThe default value of numeric_only\u001B[39m\u001B[38;5;124m\"\u001B[39m,\n\u001B[1;32m    174\u001B[0m     target_category\u001B[38;5;241m=\u001B[39m\u001B[38;5;167;01mFutureWarning\u001B[39;00m,\n\u001B[1;32m    175\u001B[0m     new_message\u001B[38;5;241m=\u001B[39mmsg,\n\u001B[1;32m    176\u001B[0m ):\n\u001B[0;32m--> 177\u001B[0m     agged \u001B[38;5;241m=\u001B[39m \u001B[43mgrouped\u001B[49m\u001B[38;5;241;43m.\u001B[39;49m\u001B[43magg\u001B[49m\u001B[43m(\u001B[49m\u001B[43maggfunc\u001B[49m\u001B[43m)\u001B[49m\n\u001B[1;32m    179\u001B[0m \u001B[38;5;28;01mif\u001B[39;00m dropna \u001B[38;5;129;01mand\u001B[39;00m \u001B[38;5;28misinstance\u001B[39m(agged, ABCDataFrame) \u001B[38;5;129;01mand\u001B[39;00m \u001B[38;5;28mlen\u001B[39m(agged\u001B[38;5;241m.\u001B[39mcolumns):\n\u001B[1;32m    180\u001B[0m     agged \u001B[38;5;241m=\u001B[39m agged\u001B[38;5;241m.\u001B[39mdropna(how\u001B[38;5;241m=\u001B[39m\u001B[38;5;124m\"\u001B[39m\u001B[38;5;124mall\u001B[39m\u001B[38;5;124m\"\u001B[39m)\n",
      "File \u001B[0;32m~/.local/lib/python3.10/site-packages/pandas/core/groupby/generic.py:908\u001B[0m, in \u001B[0;36mDataFrameGroupBy.aggregate\u001B[0;34m(self, func, engine, engine_kwargs, *args, **kwargs)\u001B[0m\n\u001B[1;32m    903\u001B[0m \u001B[38;5;28;01mif\u001B[39;00m result \u001B[38;5;129;01mis\u001B[39;00m \u001B[38;5;28;01mNone\u001B[39;00m:\n\u001B[1;32m    904\u001B[0m \n\u001B[1;32m    905\u001B[0m     \u001B[38;5;66;03m# grouper specific aggregations\u001B[39;00m\n\u001B[1;32m    906\u001B[0m     \u001B[38;5;28;01mif\u001B[39;00m \u001B[38;5;28mself\u001B[39m\u001B[38;5;241m.\u001B[39mgrouper\u001B[38;5;241m.\u001B[39mnkeys \u001B[38;5;241m>\u001B[39m \u001B[38;5;241m1\u001B[39m:\n\u001B[1;32m    907\u001B[0m         \u001B[38;5;66;03m# test_groupby_as_index_series_scalar gets here with 'not self.as_index'\u001B[39;00m\n\u001B[0;32m--> 908\u001B[0m         \u001B[38;5;28;01mreturn\u001B[39;00m \u001B[38;5;28;43mself\u001B[39;49m\u001B[38;5;241;43m.\u001B[39;49m\u001B[43m_python_agg_general\u001B[49m\u001B[43m(\u001B[49m\u001B[43mfunc\u001B[49m\u001B[43m,\u001B[49m\u001B[43m \u001B[49m\u001B[38;5;241;43m*\u001B[39;49m\u001B[43margs\u001B[49m\u001B[43m,\u001B[49m\u001B[43m \u001B[49m\u001B[38;5;241;43m*\u001B[39;49m\u001B[38;5;241;43m*\u001B[39;49m\u001B[43mkwargs\u001B[49m\u001B[43m)\u001B[49m\n\u001B[1;32m    909\u001B[0m     \u001B[38;5;28;01melif\u001B[39;00m args \u001B[38;5;129;01mor\u001B[39;00m kwargs:\n\u001B[1;32m    910\u001B[0m         \u001B[38;5;66;03m# test_pass_args_kwargs gets here (with and without as_index)\u001B[39;00m\n\u001B[1;32m    911\u001B[0m         \u001B[38;5;66;03m# can't return early\u001B[39;00m\n\u001B[1;32m    912\u001B[0m         result \u001B[38;5;241m=\u001B[39m \u001B[38;5;28mself\u001B[39m\u001B[38;5;241m.\u001B[39m_aggregate_frame(func, \u001B[38;5;241m*\u001B[39margs, \u001B[38;5;241m*\u001B[39m\u001B[38;5;241m*\u001B[39mkwargs)\n",
      "File \u001B[0;32m~/.local/lib/python3.10/site-packages/pandas/core/groupby/groupby.py:1654\u001B[0m, in \u001B[0;36mGroupBy._python_agg_general\u001B[0;34m(self, func, raise_on_typeerror, *args, **kwargs)\u001B[0m\n\u001B[1;32m   1650\u001B[0m name \u001B[38;5;241m=\u001B[39m obj\u001B[38;5;241m.\u001B[39mname\n\u001B[1;32m   1652\u001B[0m \u001B[38;5;28;01mtry\u001B[39;00m:\n\u001B[1;32m   1653\u001B[0m     \u001B[38;5;66;03m# if this function is invalid for this dtype, we will ignore it.\u001B[39;00m\n\u001B[0;32m-> 1654\u001B[0m     result \u001B[38;5;241m=\u001B[39m \u001B[38;5;28;43mself\u001B[39;49m\u001B[38;5;241;43m.\u001B[39;49m\u001B[43mgrouper\u001B[49m\u001B[38;5;241;43m.\u001B[39;49m\u001B[43magg_series\u001B[49m\u001B[43m(\u001B[49m\u001B[43mobj\u001B[49m\u001B[43m,\u001B[49m\u001B[43m \u001B[49m\u001B[43mf\u001B[49m\u001B[43m)\u001B[49m\n\u001B[1;32m   1655\u001B[0m \u001B[38;5;28;01mexcept\u001B[39;00m \u001B[38;5;167;01mTypeError\u001B[39;00m:\n\u001B[1;32m   1656\u001B[0m     \u001B[38;5;28;01mif\u001B[39;00m raise_on_typeerror:\n",
      "File \u001B[0;32m~/.local/lib/python3.10/site-packages/pandas/core/groupby/ops.py:1081\u001B[0m, in \u001B[0;36mBaseGrouper.agg_series\u001B[0;34m(self, obj, func, preserve_dtype)\u001B[0m\n\u001B[1;32m   1078\u001B[0m     preserve_dtype \u001B[38;5;241m=\u001B[39m \u001B[38;5;28;01mTrue\u001B[39;00m\n\u001B[1;32m   1080\u001B[0m \u001B[38;5;28;01melse\u001B[39;00m:\n\u001B[0;32m-> 1081\u001B[0m     result \u001B[38;5;241m=\u001B[39m \u001B[38;5;28;43mself\u001B[39;49m\u001B[38;5;241;43m.\u001B[39;49m\u001B[43m_aggregate_series_pure_python\u001B[49m\u001B[43m(\u001B[49m\u001B[43mobj\u001B[49m\u001B[43m,\u001B[49m\u001B[43m \u001B[49m\u001B[43mfunc\u001B[49m\u001B[43m)\u001B[49m\n\u001B[1;32m   1083\u001B[0m npvalues \u001B[38;5;241m=\u001B[39m lib\u001B[38;5;241m.\u001B[39mmaybe_convert_objects(result, try_float\u001B[38;5;241m=\u001B[39m\u001B[38;5;28;01mFalse\u001B[39;00m)\n\u001B[1;32m   1084\u001B[0m \u001B[38;5;28;01mif\u001B[39;00m preserve_dtype:\n",
      "File \u001B[0;32m~/.local/lib/python3.10/site-packages/pandas/core/groupby/ops.py:1103\u001B[0m, in \u001B[0;36mBaseGrouper._aggregate_series_pure_python\u001B[0;34m(self, obj, func)\u001B[0m\n\u001B[1;32m   1100\u001B[0m \u001B[38;5;66;03m# equiv: splitter = self._get_splitter(obj, axis=0)\u001B[39;00m\n\u001B[1;32m   1101\u001B[0m splitter \u001B[38;5;241m=\u001B[39m get_splitter(obj, ids, ngroups, axis\u001B[38;5;241m=\u001B[39m\u001B[38;5;241m0\u001B[39m)\n\u001B[0;32m-> 1103\u001B[0m \u001B[38;5;28;01mfor\u001B[39;00m i, group \u001B[38;5;129;01min\u001B[39;00m \u001B[38;5;28menumerate\u001B[39m(splitter):\n\u001B[1;32m   1104\u001B[0m     res \u001B[38;5;241m=\u001B[39m func(group)\n\u001B[1;32m   1105\u001B[0m     res \u001B[38;5;241m=\u001B[39m libreduction\u001B[38;5;241m.\u001B[39mextract_result(res)\n",
      "File \u001B[0;32m~/.local/lib/python3.10/site-packages/pandas/core/groupby/ops.py:1329\u001B[0m, in \u001B[0;36mDataSplitter.__iter__\u001B[0;34m(self)\u001B[0m\n\u001B[1;32m   1324\u001B[0m \u001B[38;5;28;01mif\u001B[39;00m \u001B[38;5;28mself\u001B[39m\u001B[38;5;241m.\u001B[39mngroups \u001B[38;5;241m==\u001B[39m \u001B[38;5;241m0\u001B[39m:\n\u001B[1;32m   1325\u001B[0m     \u001B[38;5;66;03m# we are inside a generator, rather than raise StopIteration\u001B[39;00m\n\u001B[1;32m   1326\u001B[0m     \u001B[38;5;66;03m# we merely return signal the end\u001B[39;00m\n\u001B[1;32m   1327\u001B[0m     \u001B[38;5;28;01mreturn\u001B[39;00m\n\u001B[0;32m-> 1329\u001B[0m starts, ends \u001B[38;5;241m=\u001B[39m \u001B[43mlib\u001B[49m\u001B[38;5;241;43m.\u001B[39;49m\u001B[43mgenerate_slices\u001B[49m\u001B[43m(\u001B[49m\u001B[38;5;28;43mself\u001B[39;49m\u001B[38;5;241;43m.\u001B[39;49m\u001B[43mslabels\u001B[49m\u001B[43m,\u001B[49m\u001B[43m \u001B[49m\u001B[38;5;28;43mself\u001B[39;49m\u001B[38;5;241;43m.\u001B[39;49m\u001B[43mngroups\u001B[49m\u001B[43m)\u001B[49m\n\u001B[1;32m   1331\u001B[0m \u001B[38;5;28;01mfor\u001B[39;00m start, end \u001B[38;5;129;01min\u001B[39;00m \u001B[38;5;28mzip\u001B[39m(starts, ends):\n\u001B[1;32m   1332\u001B[0m     \u001B[38;5;28;01myield\u001B[39;00m \u001B[38;5;28mself\u001B[39m\u001B[38;5;241m.\u001B[39m_chop(sdata, \u001B[38;5;28mslice\u001B[39m(start, end))\n",
      "\u001B[0;31mKeyboardInterrupt\u001B[0m: "
     ]
    }
   ],
   "source": [
    "# profile.to_widgets()"
   ]
  },
  {
   "cell_type": "code",
   "execution_count": null,
   "metadata": {},
   "outputs": [],
   "source": [
    "# profile.to_file(\"output.html\")"
   ]
  },
  {
   "cell_type": "code",
   "execution_count": null,
   "metadata": {},
   "outputs": [],
   "source": [
    "profile_chosen_values = ProfileReport(rates_2,title = \"Profiling Report_Cleaned_Rates_CSV\", explorative = True)"
   ]
  },
  {
   "cell_type": "code",
   "execution_count": null,
   "metadata": {},
   "outputs": [],
   "source": [
    "profile_chosen_values.to_widgets()"
   ]
  },
  {
   "cell_type": "code",
   "execution_count": null,
   "metadata": {},
   "outputs": [],
   "source": [
    "profile_chosen_values.to_file(\"output_cleaned.html\")"
   ]
  },
  {
   "cell_type": "code",
   "execution_count": 40,
   "metadata": {},
   "outputs": [
    {
     "data": {
      "text/plain": "   BusinessYear StateCode SourceName          PlanId   RatingAreaId  \\\n0          2014        AK       HIOS  21989AK0010001  Rating Area 1   \n1          2014        AK       HIOS  21989AK0020001  Rating Area 1   \n2          2014        AK       HIOS  21989AK0020001  Rating Area 2   \n3          2014        AK       HIOS  21989AK0010001  Rating Area 1   \n4          2014        AK       HIOS  21989AK0010001  Rating Area 1   \n\n         Tobacco Age  IndividualRate  \\\n0  No Preference  10           29.00   \n1  No Preference  -5           36.95   \n2  No Preference  -5           36.95   \n3  No Preference  21           32.00   \n4  No Preference  22           32.00   \n\n   PrimarySubscriberAndThreeOrMoreDependents  tobacco_rate  \n0                                        NaN         29.00  \n1                                     107.61         36.95  \n2                                     107.61         36.95  \n3                                        NaN         32.00  \n4                                        NaN         32.00  ",
      "text/html": "<div>\n<style scoped>\n    .dataframe tbody tr th:only-of-type {\n        vertical-align: middle;\n    }\n\n    .dataframe tbody tr th {\n        vertical-align: top;\n    }\n\n    .dataframe thead th {\n        text-align: right;\n    }\n</style>\n<table border=\"1\" class=\"dataframe\">\n  <thead>\n    <tr style=\"text-align: right;\">\n      <th></th>\n      <th>BusinessYear</th>\n      <th>StateCode</th>\n      <th>SourceName</th>\n      <th>PlanId</th>\n      <th>RatingAreaId</th>\n      <th>Tobacco</th>\n      <th>Age</th>\n      <th>IndividualRate</th>\n      <th>PrimarySubscriberAndThreeOrMoreDependents</th>\n      <th>tobacco_rate</th>\n    </tr>\n  </thead>\n  <tbody>\n    <tr>\n      <th>0</th>\n      <td>2014</td>\n      <td>AK</td>\n      <td>HIOS</td>\n      <td>21989AK0010001</td>\n      <td>Rating Area 1</td>\n      <td>No Preference</td>\n      <td>10</td>\n      <td>29.00</td>\n      <td>NaN</td>\n      <td>29.00</td>\n    </tr>\n    <tr>\n      <th>1</th>\n      <td>2014</td>\n      <td>AK</td>\n      <td>HIOS</td>\n      <td>21989AK0020001</td>\n      <td>Rating Area 1</td>\n      <td>No Preference</td>\n      <td>-5</td>\n      <td>36.95</td>\n      <td>107.61</td>\n      <td>36.95</td>\n    </tr>\n    <tr>\n      <th>2</th>\n      <td>2014</td>\n      <td>AK</td>\n      <td>HIOS</td>\n      <td>21989AK0020001</td>\n      <td>Rating Area 2</td>\n      <td>No Preference</td>\n      <td>-5</td>\n      <td>36.95</td>\n      <td>107.61</td>\n      <td>36.95</td>\n    </tr>\n    <tr>\n      <th>3</th>\n      <td>2014</td>\n      <td>AK</td>\n      <td>HIOS</td>\n      <td>21989AK0010001</td>\n      <td>Rating Area 1</td>\n      <td>No Preference</td>\n      <td>21</td>\n      <td>32.00</td>\n      <td>NaN</td>\n      <td>32.00</td>\n    </tr>\n    <tr>\n      <th>4</th>\n      <td>2014</td>\n      <td>AK</td>\n      <td>HIOS</td>\n      <td>21989AK0010001</td>\n      <td>Rating Area 1</td>\n      <td>No Preference</td>\n      <td>22</td>\n      <td>32.00</td>\n      <td>NaN</td>\n      <td>32.00</td>\n    </tr>\n  </tbody>\n</table>\n</div>"
     },
     "execution_count": 40,
     "metadata": {},
     "output_type": "execute_result"
    }
   ],
   "source": [
    "df = rates_2\n",
    "df['tobacco_rate'] = np.where(df['Tobacco']!= 'Tobacco User/Non-Tobacco User ',df['IndividualRate'],df['IndividualRate']*1.03)\n",
    "df.head()"
   ]
  },
  {
   "cell_type": "code",
   "execution_count": 41,
   "metadata": {},
   "outputs": [],
   "source": [
    "df['Age'] = np.where(df['Age']== 'Family Option',-5,df['Age']) # Family Plan = -5\n",
    "df['Age'] = np.where(df['Age']== '0-20',10,df['Age'])  # Minor = 10 below 20 years of age\n",
    "df['Age'] = np.where(df['Age']== '65 and over',100,df['Age'])  # Old age = 100 more than 65 years of age\n"
   ]
  },
  {
   "cell_type": "code",
   "execution_count": 23,
   "metadata": {},
   "outputs": [],
   "source": [
    "# df11 = df.loc[df['Age'] == -5 ]\n",
    "# df11 = df.loc[df['Tobacco'] == 'No Preference']\n",
    "# df11 = df11.loc[df11['PrimarySubscriberAndThreeOrMoreDependents'] > 0]\n",
    "# df11.head()\n",
    "# df['PrimarySubscriberAndThreeOrMoreDependents'] = np.where(df['PrimarySubscriberAndThreeOrMoreDependents']< 1,0,df['PrimarySubscriberAndThreeOrMoreDependents'])"
   ]
  },
  {
   "cell_type": "code",
   "execution_count": 42,
   "metadata": {},
   "outputs": [
    {
     "data": {
      "text/plain": "   BusinessYear StateCode SourceName          PlanId   RatingAreaId  \\\n0          2014        AK       HIOS  21989AK0010001  Rating Area 1   \n1          2014        AK       HIOS  21989AK0020001  Rating Area 1   \n2          2014        AK       HIOS  21989AK0020001  Rating Area 2   \n3          2014        AK       HIOS  21989AK0010001  Rating Area 1   \n4          2014        AK       HIOS  21989AK0010001  Rating Area 1   \n\n         Tobacco Age  IndividualRate  \\\n0  No Preference  10           29.00   \n1  No Preference  -5           36.95   \n2  No Preference  -5           36.95   \n3  No Preference  21           32.00   \n4  No Preference  22           32.00   \n\n   PrimarySubscriberAndThreeOrMoreDependents  tobacco_rate  \n0                                        NaN         29.00  \n1                                     107.61         36.95  \n2                                     107.61         36.95  \n3                                        NaN         32.00  \n4                                        NaN         32.00  ",
      "text/html": "<div>\n<style scoped>\n    .dataframe tbody tr th:only-of-type {\n        vertical-align: middle;\n    }\n\n    .dataframe tbody tr th {\n        vertical-align: top;\n    }\n\n    .dataframe thead th {\n        text-align: right;\n    }\n</style>\n<table border=\"1\" class=\"dataframe\">\n  <thead>\n    <tr style=\"text-align: right;\">\n      <th></th>\n      <th>BusinessYear</th>\n      <th>StateCode</th>\n      <th>SourceName</th>\n      <th>PlanId</th>\n      <th>RatingAreaId</th>\n      <th>Tobacco</th>\n      <th>Age</th>\n      <th>IndividualRate</th>\n      <th>PrimarySubscriberAndThreeOrMoreDependents</th>\n      <th>tobacco_rate</th>\n    </tr>\n  </thead>\n  <tbody>\n    <tr>\n      <th>0</th>\n      <td>2014</td>\n      <td>AK</td>\n      <td>HIOS</td>\n      <td>21989AK0010001</td>\n      <td>Rating Area 1</td>\n      <td>No Preference</td>\n      <td>10</td>\n      <td>29.00</td>\n      <td>NaN</td>\n      <td>29.00</td>\n    </tr>\n    <tr>\n      <th>1</th>\n      <td>2014</td>\n      <td>AK</td>\n      <td>HIOS</td>\n      <td>21989AK0020001</td>\n      <td>Rating Area 1</td>\n      <td>No Preference</td>\n      <td>-5</td>\n      <td>36.95</td>\n      <td>107.61</td>\n      <td>36.95</td>\n    </tr>\n    <tr>\n      <th>2</th>\n      <td>2014</td>\n      <td>AK</td>\n      <td>HIOS</td>\n      <td>21989AK0020001</td>\n      <td>Rating Area 2</td>\n      <td>No Preference</td>\n      <td>-5</td>\n      <td>36.95</td>\n      <td>107.61</td>\n      <td>36.95</td>\n    </tr>\n    <tr>\n      <th>3</th>\n      <td>2014</td>\n      <td>AK</td>\n      <td>HIOS</td>\n      <td>21989AK0010001</td>\n      <td>Rating Area 1</td>\n      <td>No Preference</td>\n      <td>21</td>\n      <td>32.00</td>\n      <td>NaN</td>\n      <td>32.00</td>\n    </tr>\n    <tr>\n      <th>4</th>\n      <td>2014</td>\n      <td>AK</td>\n      <td>HIOS</td>\n      <td>21989AK0010001</td>\n      <td>Rating Area 1</td>\n      <td>No Preference</td>\n      <td>22</td>\n      <td>32.00</td>\n      <td>NaN</td>\n      <td>32.00</td>\n    </tr>\n  </tbody>\n</table>\n</div>"
     },
     "execution_count": 42,
     "metadata": {},
     "output_type": "execute_result"
    }
   ],
   "source": [
    "df.head()"
   ]
  },
  {
   "cell_type": "code",
   "execution_count": null,
   "metadata": {},
   "outputs": [],
   "source": []
  },
  {
   "cell_type": "code",
   "execution_count": 43,
   "metadata": {},
   "outputs": [
    {
     "data": {
      "text/plain": "(12694445, 10)"
     },
     "execution_count": 43,
     "metadata": {},
     "output_type": "execute_result"
    }
   ],
   "source": [
    "df.shape\n"
   ]
  },
  {
   "cell_type": "code",
   "execution_count": 44,
   "metadata": {},
   "outputs": [],
   "source": [
    "df['PrimarySubscriberAndThreeOrMoreDependents']=df['PrimarySubscriberAndThreeOrMoreDependents'].fillna(0) "
   ]
  },
  {
   "cell_type": "code",
   "execution_count": 45,
   "metadata": {},
   "outputs": [
    {
     "data": {
      "text/plain": "          BusinessYear StateCode SourceName          PlanId    RatingAreaId  \\\n0                 2014        AK       HIOS  21989AK0010001   Rating Area 1   \n1                 2014        AK       HIOS  21989AK0020001   Rating Area 1   \n2                 2014        AK       HIOS  21989AK0020001   Rating Area 2   \n3                 2014        AK       HIOS  21989AK0010001   Rating Area 1   \n4                 2014        AK       HIOS  21989AK0010001   Rating Area 1   \n...                ...       ...        ...             ...             ...   \n12694440          2016        WV      SERFF  96480WV0090003  Rating Area 11   \n12694441          2016        WV      SERFF  96480WV0090003  Rating Area 11   \n12694442          2016        WV      SERFF  96480WV0090003  Rating Area 11   \n12694443          2016        WV      SERFF  96480WV0090003  Rating Area 11   \n12694444          2016        WV      SERFF  96480WV0090003  Rating Area 11   \n\n                Tobacco  Age  IndividualRate  \\\n0         No Preference   10           29.00   \n1         No Preference   -5           36.95   \n2         No Preference   -5           36.95   \n3         No Preference   21           32.00   \n4         No Preference   22           32.00   \n...                 ...  ...             ...   \n12694440  No Preference   61           14.05   \n12694441  No Preference   62           14.05   \n12694442  No Preference   63           14.05   \n12694443  No Preference   64           14.05   \n12694444  No Preference  100           14.05   \n\n          PrimarySubscriberAndThreeOrMoreDependents  tobacco_rate  \n0                                               0.0         29.00  \n1                                               1.0        107.61  \n2                                               1.0        107.61  \n3                                               0.0         32.00  \n4                                               0.0         32.00  \n...                                             ...           ...  \n12694440                                        0.0         14.05  \n12694441                                        0.0         14.05  \n12694442                                        0.0         14.05  \n12694443                                        0.0         14.05  \n12694444                                        0.0         14.05  \n\n[12694445 rows x 10 columns]",
      "text/html": "<div>\n<style scoped>\n    .dataframe tbody tr th:only-of-type {\n        vertical-align: middle;\n    }\n\n    .dataframe tbody tr th {\n        vertical-align: top;\n    }\n\n    .dataframe thead th {\n        text-align: right;\n    }\n</style>\n<table border=\"1\" class=\"dataframe\">\n  <thead>\n    <tr style=\"text-align: right;\">\n      <th></th>\n      <th>BusinessYear</th>\n      <th>StateCode</th>\n      <th>SourceName</th>\n      <th>PlanId</th>\n      <th>RatingAreaId</th>\n      <th>Tobacco</th>\n      <th>Age</th>\n      <th>IndividualRate</th>\n      <th>PrimarySubscriberAndThreeOrMoreDependents</th>\n      <th>tobacco_rate</th>\n    </tr>\n  </thead>\n  <tbody>\n    <tr>\n      <th>0</th>\n      <td>2014</td>\n      <td>AK</td>\n      <td>HIOS</td>\n      <td>21989AK0010001</td>\n      <td>Rating Area 1</td>\n      <td>No Preference</td>\n      <td>10</td>\n      <td>29.00</td>\n      <td>0.0</td>\n      <td>29.00</td>\n    </tr>\n    <tr>\n      <th>1</th>\n      <td>2014</td>\n      <td>AK</td>\n      <td>HIOS</td>\n      <td>21989AK0020001</td>\n      <td>Rating Area 1</td>\n      <td>No Preference</td>\n      <td>-5</td>\n      <td>36.95</td>\n      <td>1.0</td>\n      <td>107.61</td>\n    </tr>\n    <tr>\n      <th>2</th>\n      <td>2014</td>\n      <td>AK</td>\n      <td>HIOS</td>\n      <td>21989AK0020001</td>\n      <td>Rating Area 2</td>\n      <td>No Preference</td>\n      <td>-5</td>\n      <td>36.95</td>\n      <td>1.0</td>\n      <td>107.61</td>\n    </tr>\n    <tr>\n      <th>3</th>\n      <td>2014</td>\n      <td>AK</td>\n      <td>HIOS</td>\n      <td>21989AK0010001</td>\n      <td>Rating Area 1</td>\n      <td>No Preference</td>\n      <td>21</td>\n      <td>32.00</td>\n      <td>0.0</td>\n      <td>32.00</td>\n    </tr>\n    <tr>\n      <th>4</th>\n      <td>2014</td>\n      <td>AK</td>\n      <td>HIOS</td>\n      <td>21989AK0010001</td>\n      <td>Rating Area 1</td>\n      <td>No Preference</td>\n      <td>22</td>\n      <td>32.00</td>\n      <td>0.0</td>\n      <td>32.00</td>\n    </tr>\n    <tr>\n      <th>...</th>\n      <td>...</td>\n      <td>...</td>\n      <td>...</td>\n      <td>...</td>\n      <td>...</td>\n      <td>...</td>\n      <td>...</td>\n      <td>...</td>\n      <td>...</td>\n      <td>...</td>\n    </tr>\n    <tr>\n      <th>12694440</th>\n      <td>2016</td>\n      <td>WV</td>\n      <td>SERFF</td>\n      <td>96480WV0090003</td>\n      <td>Rating Area 11</td>\n      <td>No Preference</td>\n      <td>61</td>\n      <td>14.05</td>\n      <td>0.0</td>\n      <td>14.05</td>\n    </tr>\n    <tr>\n      <th>12694441</th>\n      <td>2016</td>\n      <td>WV</td>\n      <td>SERFF</td>\n      <td>96480WV0090003</td>\n      <td>Rating Area 11</td>\n      <td>No Preference</td>\n      <td>62</td>\n      <td>14.05</td>\n      <td>0.0</td>\n      <td>14.05</td>\n    </tr>\n    <tr>\n      <th>12694442</th>\n      <td>2016</td>\n      <td>WV</td>\n      <td>SERFF</td>\n      <td>96480WV0090003</td>\n      <td>Rating Area 11</td>\n      <td>No Preference</td>\n      <td>63</td>\n      <td>14.05</td>\n      <td>0.0</td>\n      <td>14.05</td>\n    </tr>\n    <tr>\n      <th>12694443</th>\n      <td>2016</td>\n      <td>WV</td>\n      <td>SERFF</td>\n      <td>96480WV0090003</td>\n      <td>Rating Area 11</td>\n      <td>No Preference</td>\n      <td>64</td>\n      <td>14.05</td>\n      <td>0.0</td>\n      <td>14.05</td>\n    </tr>\n    <tr>\n      <th>12694444</th>\n      <td>2016</td>\n      <td>WV</td>\n      <td>SERFF</td>\n      <td>96480WV0090003</td>\n      <td>Rating Area 11</td>\n      <td>No Preference</td>\n      <td>100</td>\n      <td>14.05</td>\n      <td>0.0</td>\n      <td>14.05</td>\n    </tr>\n  </tbody>\n</table>\n<p>12694445 rows × 10 columns</p>\n</div>"
     },
     "execution_count": 45,
     "metadata": {},
     "output_type": "execute_result"
    }
   ],
   "source": [
    "df['tobacco_rate'] = np.where(df['PrimarySubscriberAndThreeOrMoreDependents']>0, df['PrimarySubscriberAndThreeOrMoreDependents'],df['tobacco_rate'])\n",
    "df['PrimarySubscriberAndThreeOrMoreDependents'] = np.where(df['PrimarySubscriberAndThreeOrMoreDependents']>0, 1,df['PrimarySubscriberAndThreeOrMoreDependents'])\n",
    "df"
   ]
  },
  {
   "cell_type": "code",
   "execution_count": 31,
   "metadata": {},
   "outputs": [
    {
     "data": {
      "text/plain": "          BusinessYear StateCode SourceName          PlanId    RatingAreaId  \\\n14551             2014        AL       HIOS  44580AL0360002   Rating Area 3   \n14552             2014        AL       HIOS  44580AL0360002   Rating Area 3   \n14555             2014        AL       HIOS  44580AL0360002   Rating Area 3   \n14556             2014        AL       HIOS  44580AL0360002   Rating Area 3   \n14559             2014        AL       HIOS  44580AL0360002   Rating Area 3   \n...                ...       ...        ...             ...             ...   \n12694440          2016        WV      SERFF  96480WV0090003  Rating Area 11   \n12694441          2016        WV      SERFF  96480WV0090003  Rating Area 11   \n12694442          2016        WV      SERFF  96480WV0090003  Rating Area 11   \n12694443          2016        WV      SERFF  96480WV0090003  Rating Area 11   \n12694444          2016        WV      SERFF  96480WV0090003  Rating Area 11   \n\n          Age  IndividualRate  PrimarySubscriberAndThreeOrMoreDependents  \\\n14551      10          111.74                                        0.0   \n14552      21          175.99                                        0.0   \n14555      22          175.99                                        0.0   \n14556      23          175.99                                        0.0   \n14559      24          175.99                                        0.0   \n...       ...             ...                                        ...   \n12694440   61           14.05                                        0.0   \n12694441   62           14.05                                        0.0   \n12694442   63           14.05                                        0.0   \n12694443   64           14.05                                        0.0   \n12694444  100           14.05                                        0.0   \n\n          tobacco_rate        Tobacco  \n14551             0.00            NaN  \n14552             0.00            NaN  \n14555             0.00            NaN  \n14556             0.00            NaN  \n14559             0.00            NaN  \n...                ...            ...  \n12694440         14.05  No Preference  \n12694441         14.05  No Preference  \n12694442         14.05  No Preference  \n12694443         14.05  No Preference  \n12694444         14.05  No Preference  \n\n[12694445 rows x 10 columns]",
      "text/html": "<div>\n<style scoped>\n    .dataframe tbody tr th:only-of-type {\n        vertical-align: middle;\n    }\n\n    .dataframe tbody tr th {\n        vertical-align: top;\n    }\n\n    .dataframe thead th {\n        text-align: right;\n    }\n</style>\n<table border=\"1\" class=\"dataframe\">\n  <thead>\n    <tr style=\"text-align: right;\">\n      <th></th>\n      <th>BusinessYear</th>\n      <th>StateCode</th>\n      <th>SourceName</th>\n      <th>PlanId</th>\n      <th>RatingAreaId</th>\n      <th>Age</th>\n      <th>IndividualRate</th>\n      <th>PrimarySubscriberAndThreeOrMoreDependents</th>\n      <th>tobacco_rate</th>\n      <th>Tobacco</th>\n    </tr>\n  </thead>\n  <tbody>\n    <tr>\n      <th>14551</th>\n      <td>2014</td>\n      <td>AL</td>\n      <td>HIOS</td>\n      <td>44580AL0360002</td>\n      <td>Rating Area 3</td>\n      <td>10</td>\n      <td>111.74</td>\n      <td>0.0</td>\n      <td>0.00</td>\n      <td>NaN</td>\n    </tr>\n    <tr>\n      <th>14552</th>\n      <td>2014</td>\n      <td>AL</td>\n      <td>HIOS</td>\n      <td>44580AL0360002</td>\n      <td>Rating Area 3</td>\n      <td>21</td>\n      <td>175.99</td>\n      <td>0.0</td>\n      <td>0.00</td>\n      <td>NaN</td>\n    </tr>\n    <tr>\n      <th>14555</th>\n      <td>2014</td>\n      <td>AL</td>\n      <td>HIOS</td>\n      <td>44580AL0360002</td>\n      <td>Rating Area 3</td>\n      <td>22</td>\n      <td>175.99</td>\n      <td>0.0</td>\n      <td>0.00</td>\n      <td>NaN</td>\n    </tr>\n    <tr>\n      <th>14556</th>\n      <td>2014</td>\n      <td>AL</td>\n      <td>HIOS</td>\n      <td>44580AL0360002</td>\n      <td>Rating Area 3</td>\n      <td>23</td>\n      <td>175.99</td>\n      <td>0.0</td>\n      <td>0.00</td>\n      <td>NaN</td>\n    </tr>\n    <tr>\n      <th>14559</th>\n      <td>2014</td>\n      <td>AL</td>\n      <td>HIOS</td>\n      <td>44580AL0360002</td>\n      <td>Rating Area 3</td>\n      <td>24</td>\n      <td>175.99</td>\n      <td>0.0</td>\n      <td>0.00</td>\n      <td>NaN</td>\n    </tr>\n    <tr>\n      <th>...</th>\n      <td>...</td>\n      <td>...</td>\n      <td>...</td>\n      <td>...</td>\n      <td>...</td>\n      <td>...</td>\n      <td>...</td>\n      <td>...</td>\n      <td>...</td>\n      <td>...</td>\n    </tr>\n    <tr>\n      <th>12694440</th>\n      <td>2016</td>\n      <td>WV</td>\n      <td>SERFF</td>\n      <td>96480WV0090003</td>\n      <td>Rating Area 11</td>\n      <td>61</td>\n      <td>14.05</td>\n      <td>0.0</td>\n      <td>14.05</td>\n      <td>No Preference</td>\n    </tr>\n    <tr>\n      <th>12694441</th>\n      <td>2016</td>\n      <td>WV</td>\n      <td>SERFF</td>\n      <td>96480WV0090003</td>\n      <td>Rating Area 11</td>\n      <td>62</td>\n      <td>14.05</td>\n      <td>0.0</td>\n      <td>14.05</td>\n      <td>No Preference</td>\n    </tr>\n    <tr>\n      <th>12694442</th>\n      <td>2016</td>\n      <td>WV</td>\n      <td>SERFF</td>\n      <td>96480WV0090003</td>\n      <td>Rating Area 11</td>\n      <td>63</td>\n      <td>14.05</td>\n      <td>0.0</td>\n      <td>14.05</td>\n      <td>No Preference</td>\n    </tr>\n    <tr>\n      <th>12694443</th>\n      <td>2016</td>\n      <td>WV</td>\n      <td>SERFF</td>\n      <td>96480WV0090003</td>\n      <td>Rating Area 11</td>\n      <td>64</td>\n      <td>14.05</td>\n      <td>0.0</td>\n      <td>14.05</td>\n      <td>No Preference</td>\n    </tr>\n    <tr>\n      <th>12694444</th>\n      <td>2016</td>\n      <td>WV</td>\n      <td>SERFF</td>\n      <td>96480WV0090003</td>\n      <td>Rating Area 11</td>\n      <td>100</td>\n      <td>14.05</td>\n      <td>0.0</td>\n      <td>14.05</td>\n      <td>No Preference</td>\n    </tr>\n  </tbody>\n</table>\n<p>12694445 rows × 10 columns</p>\n</div>"
     },
     "execution_count": 31,
     "metadata": {},
     "output_type": "execute_result"
    }
   ],
   "source": []
  },
  {
   "cell_type": "code",
   "execution_count": 46,
   "metadata": {},
   "outputs": [],
   "source": [
    "df.Age = df.Age.astype(int)"
   ]
  },
  {
   "cell_type": "code",
   "execution_count": null,
   "metadata": {},
   "outputs": [],
   "source": [
    "profile_final = ProfileReport(df,title = \"Profiling Report_Rates_CSV\", explorative = True)\n",
    "\n",
    "profile_final.to_file(\"output_cleaned_final.html\")"
   ]
  },
  {
   "cell_type": "code",
   "execution_count": null,
   "metadata": {},
   "outputs": [],
   "source": [
    "df.to_csv('clean.csv')"
   ]
  },
  {
   "cell_type": "code",
   "execution_count": null,
   "metadata": {},
   "outputs": [],
   "source": []
  },
  {
   "cell_type": "code",
   "execution_count": 50,
   "metadata": {},
   "outputs": [
    {
     "data": {
      "text/plain": "          BusinessYear StateCode SourceName          PlanId    RatingAreaId  \\\n0                 2014        AK       HIOS  21989AK0010001   Rating Area 1   \n1                 2014        AK       HIOS  21989AK0020001   Rating Area 1   \n2                 2014        AK       HIOS  21989AK0020001   Rating Area 2   \n3                 2014        AK       HIOS  21989AK0010001   Rating Area 1   \n4                 2014        AK       HIOS  21989AK0010001   Rating Area 1   \n...                ...       ...        ...             ...             ...   \n17584562          2016        WV      SERFF  50328WV0020018  Rating Area 11   \n17584563          2016        WV      SERFF  50328WV0020018  Rating Area 11   \n17584564          2016        WV      SERFF  50328WV0020018  Rating Area 11   \n17584565          2016        WV      SERFF  50328WV0020018  Rating Area 11   \n17584566          2016        WV      SERFF  50328WV0020018  Rating Area 11   \n\n                   Tobacco  Age  IndividualRate  \\\n0            No Preference   10           29.00   \n1            No Preference   -5           36.95   \n2            No Preference   -5           36.95   \n3            No Preference   21           32.00   \n4            No Preference   22           32.00   \n...                    ...  ...             ...   \n17584562  Non-Tobacco User   61          702.16   \n17584563  Non-Tobacco User   62          717.91   \n17584564  Non-Tobacco User   63          737.65   \n17584565  Non-Tobacco User   64          749.64   \n17584566  Non-Tobacco User  100          749.64   \n\n          PrimarySubscriberAndThreeOrMoreDependents  tobacco_rate  \n0                                               0.0         29.00  \n1                                               1.0        107.61  \n2                                               1.0        107.61  \n3                                               0.0         32.00  \n4                                               0.0         32.00  \n...                                             ...           ...  \n17584562                                        0.0        702.16  \n17584563                                        0.0        717.91  \n17584564                                        0.0        737.65  \n17584565                                        0.0        749.64  \n17584566                                        0.0        749.64  \n\n[17584567 rows x 10 columns]",
      "text/html": "<div>\n<style scoped>\n    .dataframe tbody tr th:only-of-type {\n        vertical-align: middle;\n    }\n\n    .dataframe tbody tr th {\n        vertical-align: top;\n    }\n\n    .dataframe thead th {\n        text-align: right;\n    }\n</style>\n<table border=\"1\" class=\"dataframe\">\n  <thead>\n    <tr style=\"text-align: right;\">\n      <th></th>\n      <th>BusinessYear</th>\n      <th>StateCode</th>\n      <th>SourceName</th>\n      <th>PlanId</th>\n      <th>RatingAreaId</th>\n      <th>Tobacco</th>\n      <th>Age</th>\n      <th>IndividualRate</th>\n      <th>PrimarySubscriberAndThreeOrMoreDependents</th>\n      <th>tobacco_rate</th>\n    </tr>\n  </thead>\n  <tbody>\n    <tr>\n      <th>0</th>\n      <td>2014</td>\n      <td>AK</td>\n      <td>HIOS</td>\n      <td>21989AK0010001</td>\n      <td>Rating Area 1</td>\n      <td>No Preference</td>\n      <td>10</td>\n      <td>29.00</td>\n      <td>0.0</td>\n      <td>29.00</td>\n    </tr>\n    <tr>\n      <th>1</th>\n      <td>2014</td>\n      <td>AK</td>\n      <td>HIOS</td>\n      <td>21989AK0020001</td>\n      <td>Rating Area 1</td>\n      <td>No Preference</td>\n      <td>-5</td>\n      <td>36.95</td>\n      <td>1.0</td>\n      <td>107.61</td>\n    </tr>\n    <tr>\n      <th>2</th>\n      <td>2014</td>\n      <td>AK</td>\n      <td>HIOS</td>\n      <td>21989AK0020001</td>\n      <td>Rating Area 2</td>\n      <td>No Preference</td>\n      <td>-5</td>\n      <td>36.95</td>\n      <td>1.0</td>\n      <td>107.61</td>\n    </tr>\n    <tr>\n      <th>3</th>\n      <td>2014</td>\n      <td>AK</td>\n      <td>HIOS</td>\n      <td>21989AK0010001</td>\n      <td>Rating Area 1</td>\n      <td>No Preference</td>\n      <td>21</td>\n      <td>32.00</td>\n      <td>0.0</td>\n      <td>32.00</td>\n    </tr>\n    <tr>\n      <th>4</th>\n      <td>2014</td>\n      <td>AK</td>\n      <td>HIOS</td>\n      <td>21989AK0010001</td>\n      <td>Rating Area 1</td>\n      <td>No Preference</td>\n      <td>22</td>\n      <td>32.00</td>\n      <td>0.0</td>\n      <td>32.00</td>\n    </tr>\n    <tr>\n      <th>...</th>\n      <td>...</td>\n      <td>...</td>\n      <td>...</td>\n      <td>...</td>\n      <td>...</td>\n      <td>...</td>\n      <td>...</td>\n      <td>...</td>\n      <td>...</td>\n      <td>...</td>\n    </tr>\n    <tr>\n      <th>17584562</th>\n      <td>2016</td>\n      <td>WV</td>\n      <td>SERFF</td>\n      <td>50328WV0020018</td>\n      <td>Rating Area 11</td>\n      <td>Non-Tobacco User</td>\n      <td>61</td>\n      <td>702.16</td>\n      <td>0.0</td>\n      <td>702.16</td>\n    </tr>\n    <tr>\n      <th>17584563</th>\n      <td>2016</td>\n      <td>WV</td>\n      <td>SERFF</td>\n      <td>50328WV0020018</td>\n      <td>Rating Area 11</td>\n      <td>Non-Tobacco User</td>\n      <td>62</td>\n      <td>717.91</td>\n      <td>0.0</td>\n      <td>717.91</td>\n    </tr>\n    <tr>\n      <th>17584564</th>\n      <td>2016</td>\n      <td>WV</td>\n      <td>SERFF</td>\n      <td>50328WV0020018</td>\n      <td>Rating Area 11</td>\n      <td>Non-Tobacco User</td>\n      <td>63</td>\n      <td>737.65</td>\n      <td>0.0</td>\n      <td>737.65</td>\n    </tr>\n    <tr>\n      <th>17584565</th>\n      <td>2016</td>\n      <td>WV</td>\n      <td>SERFF</td>\n      <td>50328WV0020018</td>\n      <td>Rating Area 11</td>\n      <td>Non-Tobacco User</td>\n      <td>64</td>\n      <td>749.64</td>\n      <td>0.0</td>\n      <td>749.64</td>\n    </tr>\n    <tr>\n      <th>17584566</th>\n      <td>2016</td>\n      <td>WV</td>\n      <td>SERFF</td>\n      <td>50328WV0020018</td>\n      <td>Rating Area 11</td>\n      <td>Non-Tobacco User</td>\n      <td>100</td>\n      <td>749.64</td>\n      <td>0.0</td>\n      <td>749.64</td>\n    </tr>\n  </tbody>\n</table>\n<p>17584567 rows × 10 columns</p>\n</div>"
     },
     "execution_count": 50,
     "metadata": {},
     "output_type": "execute_result"
    }
   ],
   "source": [
    "filtered_df = df[df['Tobacco'] == 'Tobacco User/Non-Tobacco User']\n",
    "\n",
    "# create a copy of the filtered dataframe\n",
    "new_df = filtered_df.copy()\n",
    "new_df2 = filtered_df.copy()\n",
    "# change the value in the Tobacco column to 'Tobacco User' for the first half of the rows\n",
    "new_df.loc[new_df.index[:len(filtered_df)], 'Tobacco'] = 'Tobacco User'\n",
    "\n",
    "# change the value in the Tobacco column to 'Non-Tobacco User' for the second half of the rows\n",
    "new_df2.loc[new_df.index[:len(filtered_df)], 'Tobacco'] = 'Non-Tobacco User'\n",
    "\n",
    "# replace the tobacco_rate column value with the IndividualRate value for the 'Non-Tobacco User' rows\n",
    "new_df2.loc[new_df['Tobacco'] == 'Non-Tobacco User', 'tobacco_rate'] = new_df2.loc[new_df['Tobacco'] == 'Non-Tobacco User', 'IndividualRate']\n",
    "\n",
    "# concatenate the original dataframe with the modified filtered dataframe\n",
    "ff = pd.concat([new_df,new_df2])\n",
    "final_df = pd.concat([df[df['Tobacco'] != 'Tobacco User/Non-Tobacco User'], ff])\n",
    "\n",
    "# reset the index\n",
    "final_df = final_df.reset_index(drop=True)\n",
    "\n",
    "final_df"
   ]
  },
  {
   "cell_type": "code",
   "execution_count": 52,
   "outputs": [],
   "source": [
    "\n",
    "final_df.to_csv('clean_2.csv')"
   ],
   "metadata": {
    "collapsed": false
   }
  },
  {
   "cell_type": "code",
   "execution_count": 51,
   "outputs": [
    {
     "data": {
      "text/plain": "   BusinessYear StateCode SourceName          PlanId   RatingAreaId  \\\n0          2014        AK       HIOS  21989AK0010001  Rating Area 1   \n1          2014        AK       HIOS  21989AK0020001  Rating Area 1   \n2          2014        AK       HIOS  21989AK0020001  Rating Area 2   \n3          2014        AK       HIOS  21989AK0010001  Rating Area 1   \n4          2014        AK       HIOS  21989AK0010001  Rating Area 1   \n\n         Tobacco  Age  IndividualRate  \\\n0  No Preference   10           29.00   \n1  No Preference   -5           36.95   \n2  No Preference   -5           36.95   \n3  No Preference   21           32.00   \n4  No Preference   22           32.00   \n\n   PrimarySubscriberAndThreeOrMoreDependents  tobacco_rate  \n0                                        0.0         29.00  \n1                                        1.0        107.61  \n2                                        1.0        107.61  \n3                                        0.0         32.00  \n4                                        0.0         32.00  ",
      "text/html": "<div>\n<style scoped>\n    .dataframe tbody tr th:only-of-type {\n        vertical-align: middle;\n    }\n\n    .dataframe tbody tr th {\n        vertical-align: top;\n    }\n\n    .dataframe thead th {\n        text-align: right;\n    }\n</style>\n<table border=\"1\" class=\"dataframe\">\n  <thead>\n    <tr style=\"text-align: right;\">\n      <th></th>\n      <th>BusinessYear</th>\n      <th>StateCode</th>\n      <th>SourceName</th>\n      <th>PlanId</th>\n      <th>RatingAreaId</th>\n      <th>Tobacco</th>\n      <th>Age</th>\n      <th>IndividualRate</th>\n      <th>PrimarySubscriberAndThreeOrMoreDependents</th>\n      <th>tobacco_rate</th>\n    </tr>\n  </thead>\n  <tbody>\n    <tr>\n      <th>0</th>\n      <td>2014</td>\n      <td>AK</td>\n      <td>HIOS</td>\n      <td>21989AK0010001</td>\n      <td>Rating Area 1</td>\n      <td>No Preference</td>\n      <td>10</td>\n      <td>29.00</td>\n      <td>0.0</td>\n      <td>29.00</td>\n    </tr>\n    <tr>\n      <th>1</th>\n      <td>2014</td>\n      <td>AK</td>\n      <td>HIOS</td>\n      <td>21989AK0020001</td>\n      <td>Rating Area 1</td>\n      <td>No Preference</td>\n      <td>-5</td>\n      <td>36.95</td>\n      <td>1.0</td>\n      <td>107.61</td>\n    </tr>\n    <tr>\n      <th>2</th>\n      <td>2014</td>\n      <td>AK</td>\n      <td>HIOS</td>\n      <td>21989AK0020001</td>\n      <td>Rating Area 2</td>\n      <td>No Preference</td>\n      <td>-5</td>\n      <td>36.95</td>\n      <td>1.0</td>\n      <td>107.61</td>\n    </tr>\n    <tr>\n      <th>3</th>\n      <td>2014</td>\n      <td>AK</td>\n      <td>HIOS</td>\n      <td>21989AK0010001</td>\n      <td>Rating Area 1</td>\n      <td>No Preference</td>\n      <td>21</td>\n      <td>32.00</td>\n      <td>0.0</td>\n      <td>32.00</td>\n    </tr>\n    <tr>\n      <th>4</th>\n      <td>2014</td>\n      <td>AK</td>\n      <td>HIOS</td>\n      <td>21989AK0010001</td>\n      <td>Rating Area 1</td>\n      <td>No Preference</td>\n      <td>22</td>\n      <td>32.00</td>\n      <td>0.0</td>\n      <td>32.00</td>\n    </tr>\n  </tbody>\n</table>\n</div>"
     },
     "execution_count": 51,
     "metadata": {},
     "output_type": "execute_result"
    }
   ],
   "source": [
    "final_df.head()"
   ],
   "metadata": {
    "collapsed": false
   }
  },
  {
   "cell_type": "code",
   "execution_count": null,
   "outputs": [],
   "source": [],
   "metadata": {
    "collapsed": false
   }
  }
 ],
 "metadata": {
  "kernelspec": {
   "display_name": "Python 3 (ipykernel)",
   "language": "python",
   "name": "python3"
  },
  "language_info": {
   "codemirror_mode": {
    "name": "ipython",
    "version": 3
   },
   "file_extension": ".py",
   "mimetype": "text/x-python",
   "name": "python",
   "nbconvert_exporter": "python",
   "pygments_lexer": "ipython3",
   "version": "3.10.7"
  }
 },
 "nbformat": 4,
 "nbformat_minor": 1
}
