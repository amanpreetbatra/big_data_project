{
 "cells": [
  {
   "cell_type": "code",
   "execution_count": null,
   "metadata": {
    "collapsed": true
   },
   "outputs": [],
   "source": []
  },
  {
   "cell_type": "code",
   "execution_count": null,
   "metadata": {},
   "outputs": [],
   "source": []
  },
  {
   "cell_type": "code",
   "execution_count": 2,
   "metadata": {
    "pycharm": {
     "is_executing": true
    }
   },
   "outputs": [],
   "source": [
    "import numpy as np\n",
    "import pandas as pd\n",
    "from  matplotlib import pyplot\n",
    "import seaborn as sns"
   ]
  },
  {
   "cell_type": "code",
   "execution_count": 3,
   "metadata": {},
   "outputs": [],
   "source": [
    "rate_chunks = pd.read_csv(\"/home/amanpreet/Downloads/database/archive (1)/Rate.csv\",iterator=True,chunksize = 1000)\n",
    "rates = pd.concat(chunk for chunk in rate_chunks)"
   ]
  },
  {
   "cell_type": "code",
   "execution_count": 4,
   "metadata": {},
   "outputs": [
    {
     "data": {
      "text/html": [
       "<div>\n",
       "<style scoped>\n",
       "    .dataframe tbody tr th:only-of-type {\n",
       "        vertical-align: middle;\n",
       "    }\n",
       "\n",
       "    .dataframe tbody tr th {\n",
       "        vertical-align: top;\n",
       "    }\n",
       "\n",
       "    .dataframe thead th {\n",
       "        text-align: right;\n",
       "    }\n",
       "</style>\n",
       "<table border=\"1\" class=\"dataframe\">\n",
       "  <thead>\n",
       "    <tr style=\"text-align: right;\">\n",
       "      <th></th>\n",
       "      <th>BusinessYear</th>\n",
       "      <th>StateCode</th>\n",
       "      <th>IssuerId</th>\n",
       "      <th>SourceName</th>\n",
       "      <th>VersionNum</th>\n",
       "      <th>ImportDate</th>\n",
       "      <th>IssuerId2</th>\n",
       "      <th>FederalTIN</th>\n",
       "      <th>RateEffectiveDate</th>\n",
       "      <th>RateExpirationDate</th>\n",
       "      <th>...</th>\n",
       "      <th>IndividualRate</th>\n",
       "      <th>IndividualTobaccoRate</th>\n",
       "      <th>Couple</th>\n",
       "      <th>PrimarySubscriberAndOneDependent</th>\n",
       "      <th>PrimarySubscriberAndTwoDependents</th>\n",
       "      <th>PrimarySubscriberAndThreeOrMoreDependents</th>\n",
       "      <th>CoupleAndOneDependent</th>\n",
       "      <th>CoupleAndTwoDependents</th>\n",
       "      <th>CoupleAndThreeOrMoreDependents</th>\n",
       "      <th>RowNumber</th>\n",
       "    </tr>\n",
       "  </thead>\n",
       "  <tbody>\n",
       "    <tr>\n",
       "      <th>0</th>\n",
       "      <td>2014</td>\n",
       "      <td>AK</td>\n",
       "      <td>21989</td>\n",
       "      <td>HIOS</td>\n",
       "      <td>6</td>\n",
       "      <td>2014-03-19 07:06:49</td>\n",
       "      <td>21989</td>\n",
       "      <td>93-0438772</td>\n",
       "      <td>2014-01-01</td>\n",
       "      <td>2014-12-31</td>\n",
       "      <td>...</td>\n",
       "      <td>29.00</td>\n",
       "      <td>NaN</td>\n",
       "      <td>NaN</td>\n",
       "      <td>NaN</td>\n",
       "      <td>NaN</td>\n",
       "      <td>NaN</td>\n",
       "      <td>NaN</td>\n",
       "      <td>NaN</td>\n",
       "      <td>NaN</td>\n",
       "      <td>14</td>\n",
       "    </tr>\n",
       "    <tr>\n",
       "      <th>1</th>\n",
       "      <td>2014</td>\n",
       "      <td>AK</td>\n",
       "      <td>21989</td>\n",
       "      <td>HIOS</td>\n",
       "      <td>6</td>\n",
       "      <td>2014-03-19 07:06:49</td>\n",
       "      <td>21989</td>\n",
       "      <td>93-0438772</td>\n",
       "      <td>2014-01-01</td>\n",
       "      <td>2014-12-31</td>\n",
       "      <td>...</td>\n",
       "      <td>36.95</td>\n",
       "      <td>NaN</td>\n",
       "      <td>73.9</td>\n",
       "      <td>107.61</td>\n",
       "      <td>107.61</td>\n",
       "      <td>107.61</td>\n",
       "      <td>144.56</td>\n",
       "      <td>144.56</td>\n",
       "      <td>144.56</td>\n",
       "      <td>14</td>\n",
       "    </tr>\n",
       "    <tr>\n",
       "      <th>2</th>\n",
       "      <td>2014</td>\n",
       "      <td>AK</td>\n",
       "      <td>21989</td>\n",
       "      <td>HIOS</td>\n",
       "      <td>6</td>\n",
       "      <td>2014-03-19 07:06:49</td>\n",
       "      <td>21989</td>\n",
       "      <td>93-0438772</td>\n",
       "      <td>2014-01-01</td>\n",
       "      <td>2014-12-31</td>\n",
       "      <td>...</td>\n",
       "      <td>36.95</td>\n",
       "      <td>NaN</td>\n",
       "      <td>73.9</td>\n",
       "      <td>107.61</td>\n",
       "      <td>107.61</td>\n",
       "      <td>107.61</td>\n",
       "      <td>144.56</td>\n",
       "      <td>144.56</td>\n",
       "      <td>144.56</td>\n",
       "      <td>15</td>\n",
       "    </tr>\n",
       "    <tr>\n",
       "      <th>3</th>\n",
       "      <td>2014</td>\n",
       "      <td>AK</td>\n",
       "      <td>21989</td>\n",
       "      <td>HIOS</td>\n",
       "      <td>6</td>\n",
       "      <td>2014-03-19 07:06:49</td>\n",
       "      <td>21989</td>\n",
       "      <td>93-0438772</td>\n",
       "      <td>2014-01-01</td>\n",
       "      <td>2014-12-31</td>\n",
       "      <td>...</td>\n",
       "      <td>32.00</td>\n",
       "      <td>NaN</td>\n",
       "      <td>NaN</td>\n",
       "      <td>NaN</td>\n",
       "      <td>NaN</td>\n",
       "      <td>NaN</td>\n",
       "      <td>NaN</td>\n",
       "      <td>NaN</td>\n",
       "      <td>NaN</td>\n",
       "      <td>15</td>\n",
       "    </tr>\n",
       "    <tr>\n",
       "      <th>4</th>\n",
       "      <td>2014</td>\n",
       "      <td>AK</td>\n",
       "      <td>21989</td>\n",
       "      <td>HIOS</td>\n",
       "      <td>6</td>\n",
       "      <td>2014-03-19 07:06:49</td>\n",
       "      <td>21989</td>\n",
       "      <td>93-0438772</td>\n",
       "      <td>2014-01-01</td>\n",
       "      <td>2014-12-31</td>\n",
       "      <td>...</td>\n",
       "      <td>32.00</td>\n",
       "      <td>NaN</td>\n",
       "      <td>NaN</td>\n",
       "      <td>NaN</td>\n",
       "      <td>NaN</td>\n",
       "      <td>NaN</td>\n",
       "      <td>NaN</td>\n",
       "      <td>NaN</td>\n",
       "      <td>NaN</td>\n",
       "      <td>16</td>\n",
       "    </tr>\n",
       "    <tr>\n",
       "      <th>5</th>\n",
       "      <td>2014</td>\n",
       "      <td>AK</td>\n",
       "      <td>21989</td>\n",
       "      <td>HIOS</td>\n",
       "      <td>6</td>\n",
       "      <td>2014-03-19 07:06:49</td>\n",
       "      <td>21989</td>\n",
       "      <td>93-0438772</td>\n",
       "      <td>2014-01-01</td>\n",
       "      <td>2014-12-31</td>\n",
       "      <td>...</td>\n",
       "      <td>36.95</td>\n",
       "      <td>NaN</td>\n",
       "      <td>73.9</td>\n",
       "      <td>107.61</td>\n",
       "      <td>107.61</td>\n",
       "      <td>107.61</td>\n",
       "      <td>144.56</td>\n",
       "      <td>144.56</td>\n",
       "      <td>144.56</td>\n",
       "      <td>16</td>\n",
       "    </tr>\n",
       "    <tr>\n",
       "      <th>6</th>\n",
       "      <td>2014</td>\n",
       "      <td>AK</td>\n",
       "      <td>21989</td>\n",
       "      <td>HIOS</td>\n",
       "      <td>6</td>\n",
       "      <td>2014-03-19 07:06:49</td>\n",
       "      <td>21989</td>\n",
       "      <td>93-0438772</td>\n",
       "      <td>2014-01-01</td>\n",
       "      <td>2014-12-31</td>\n",
       "      <td>...</td>\n",
       "      <td>32.45</td>\n",
       "      <td>NaN</td>\n",
       "      <td>64.9</td>\n",
       "      <td>94.50</td>\n",
       "      <td>94.50</td>\n",
       "      <td>94.50</td>\n",
       "      <td>126.95</td>\n",
       "      <td>126.95</td>\n",
       "      <td>126.95</td>\n",
       "      <td>17</td>\n",
       "    </tr>\n",
       "    <tr>\n",
       "      <th>7</th>\n",
       "      <td>2014</td>\n",
       "      <td>AK</td>\n",
       "      <td>21989</td>\n",
       "      <td>HIOS</td>\n",
       "      <td>6</td>\n",
       "      <td>2014-03-19 07:06:49</td>\n",
       "      <td>21989</td>\n",
       "      <td>93-0438772</td>\n",
       "      <td>2014-01-01</td>\n",
       "      <td>2014-12-31</td>\n",
       "      <td>...</td>\n",
       "      <td>32.00</td>\n",
       "      <td>NaN</td>\n",
       "      <td>NaN</td>\n",
       "      <td>NaN</td>\n",
       "      <td>NaN</td>\n",
       "      <td>NaN</td>\n",
       "      <td>NaN</td>\n",
       "      <td>NaN</td>\n",
       "      <td>NaN</td>\n",
       "      <td>17</td>\n",
       "    </tr>\n",
       "    <tr>\n",
       "      <th>8</th>\n",
       "      <td>2014</td>\n",
       "      <td>AK</td>\n",
       "      <td>21989</td>\n",
       "      <td>HIOS</td>\n",
       "      <td>6</td>\n",
       "      <td>2014-03-19 07:06:49</td>\n",
       "      <td>21989</td>\n",
       "      <td>93-0438772</td>\n",
       "      <td>2014-01-01</td>\n",
       "      <td>2014-12-31</td>\n",
       "      <td>...</td>\n",
       "      <td>32.00</td>\n",
       "      <td>NaN</td>\n",
       "      <td>NaN</td>\n",
       "      <td>NaN</td>\n",
       "      <td>NaN</td>\n",
       "      <td>NaN</td>\n",
       "      <td>NaN</td>\n",
       "      <td>NaN</td>\n",
       "      <td>NaN</td>\n",
       "      <td>18</td>\n",
       "    </tr>\n",
       "    <tr>\n",
       "      <th>9</th>\n",
       "      <td>2014</td>\n",
       "      <td>AK</td>\n",
       "      <td>21989</td>\n",
       "      <td>HIOS</td>\n",
       "      <td>6</td>\n",
       "      <td>2014-03-19 07:06:49</td>\n",
       "      <td>21989</td>\n",
       "      <td>93-0438772</td>\n",
       "      <td>2014-01-01</td>\n",
       "      <td>2014-12-31</td>\n",
       "      <td>...</td>\n",
       "      <td>32.45</td>\n",
       "      <td>NaN</td>\n",
       "      <td>64.9</td>\n",
       "      <td>94.50</td>\n",
       "      <td>94.50</td>\n",
       "      <td>94.50</td>\n",
       "      <td>126.95</td>\n",
       "      <td>126.95</td>\n",
       "      <td>126.95</td>\n",
       "      <td>18</td>\n",
       "    </tr>\n",
       "  </tbody>\n",
       "</table>\n",
       "<p>10 rows × 24 columns</p>\n",
       "</div>"
      ],
      "text/plain": [
       "   BusinessYear StateCode  IssuerId SourceName  VersionNum  \\\n",
       "0          2014        AK     21989       HIOS           6   \n",
       "1          2014        AK     21989       HIOS           6   \n",
       "2          2014        AK     21989       HIOS           6   \n",
       "3          2014        AK     21989       HIOS           6   \n",
       "4          2014        AK     21989       HIOS           6   \n",
       "5          2014        AK     21989       HIOS           6   \n",
       "6          2014        AK     21989       HIOS           6   \n",
       "7          2014        AK     21989       HIOS           6   \n",
       "8          2014        AK     21989       HIOS           6   \n",
       "9          2014        AK     21989       HIOS           6   \n",
       "\n",
       "            ImportDate  IssuerId2  FederalTIN RateEffectiveDate  \\\n",
       "0  2014-03-19 07:06:49      21989  93-0438772        2014-01-01   \n",
       "1  2014-03-19 07:06:49      21989  93-0438772        2014-01-01   \n",
       "2  2014-03-19 07:06:49      21989  93-0438772        2014-01-01   \n",
       "3  2014-03-19 07:06:49      21989  93-0438772        2014-01-01   \n",
       "4  2014-03-19 07:06:49      21989  93-0438772        2014-01-01   \n",
       "5  2014-03-19 07:06:49      21989  93-0438772        2014-01-01   \n",
       "6  2014-03-19 07:06:49      21989  93-0438772        2014-01-01   \n",
       "7  2014-03-19 07:06:49      21989  93-0438772        2014-01-01   \n",
       "8  2014-03-19 07:06:49      21989  93-0438772        2014-01-01   \n",
       "9  2014-03-19 07:06:49      21989  93-0438772        2014-01-01   \n",
       "\n",
       "  RateExpirationDate  ... IndividualRate IndividualTobaccoRate Couple  \\\n",
       "0         2014-12-31  ...          29.00                   NaN    NaN   \n",
       "1         2014-12-31  ...          36.95                   NaN   73.9   \n",
       "2         2014-12-31  ...          36.95                   NaN   73.9   \n",
       "3         2014-12-31  ...          32.00                   NaN    NaN   \n",
       "4         2014-12-31  ...          32.00                   NaN    NaN   \n",
       "5         2014-12-31  ...          36.95                   NaN   73.9   \n",
       "6         2014-12-31  ...          32.45                   NaN   64.9   \n",
       "7         2014-12-31  ...          32.00                   NaN    NaN   \n",
       "8         2014-12-31  ...          32.00                   NaN    NaN   \n",
       "9         2014-12-31  ...          32.45                   NaN   64.9   \n",
       "\n",
       "  PrimarySubscriberAndOneDependent  PrimarySubscriberAndTwoDependents  \\\n",
       "0                              NaN                                NaN   \n",
       "1                           107.61                             107.61   \n",
       "2                           107.61                             107.61   \n",
       "3                              NaN                                NaN   \n",
       "4                              NaN                                NaN   \n",
       "5                           107.61                             107.61   \n",
       "6                            94.50                              94.50   \n",
       "7                              NaN                                NaN   \n",
       "8                              NaN                                NaN   \n",
       "9                            94.50                              94.50   \n",
       "\n",
       "   PrimarySubscriberAndThreeOrMoreDependents  CoupleAndOneDependent  \\\n",
       "0                                        NaN                    NaN   \n",
       "1                                     107.61                 144.56   \n",
       "2                                     107.61                 144.56   \n",
       "3                                        NaN                    NaN   \n",
       "4                                        NaN                    NaN   \n",
       "5                                     107.61                 144.56   \n",
       "6                                      94.50                 126.95   \n",
       "7                                        NaN                    NaN   \n",
       "8                                        NaN                    NaN   \n",
       "9                                      94.50                 126.95   \n",
       "\n",
       "   CoupleAndTwoDependents  CoupleAndThreeOrMoreDependents  RowNumber  \n",
       "0                     NaN                             NaN         14  \n",
       "1                  144.56                          144.56         14  \n",
       "2                  144.56                          144.56         15  \n",
       "3                     NaN                             NaN         15  \n",
       "4                     NaN                             NaN         16  \n",
       "5                  144.56                          144.56         16  \n",
       "6                  126.95                          126.95         17  \n",
       "7                     NaN                             NaN         17  \n",
       "8                     NaN                             NaN         18  \n",
       "9                  126.95                          126.95         18  \n",
       "\n",
       "[10 rows x 24 columns]"
      ]
     },
     "execution_count": 4,
     "metadata": {},
     "output_type": "execute_result"
    }
   ],
   "source": [
    "rates.head(10)"
   ]
  },
  {
   "cell_type": "code",
   "execution_count": null,
   "metadata": {},
   "outputs": [],
   "source": []
  },
  {
   "cell_type": "code",
   "execution_count": 14,
   "metadata": {},
   "outputs": [
    {
     "name": "stdout",
     "output_type": "stream",
     "text": [
      "       BusinessYear      IssuerId    VersionNum     IssuerId2  IndividualRate  \\\n",
      "count  1.269444e+07  1.269444e+07  1.269444e+07  1.269444e+07    1.269444e+07   \n",
      "mean   2.015034e+03  5.248592e+04  6.865558e+00  5.248592e+04    4.098026e+03   \n",
      "std    7.940521e-01  2.641263e+04  3.857180e+00  2.641263e+04    6.122271e+04   \n",
      "min    2.014000e+03  1.004600e+04  1.000000e+00  1.004600e+04    0.000000e+00   \n",
      "25%    2.014000e+03  3.021900e+04  4.000000e+00  3.021900e+04    2.933000e+01   \n",
      "50%    2.015000e+03  4.953200e+04  6.000000e+00  4.953200e+04    2.916000e+02   \n",
      "75%    2.016000e+03  7.652600e+04  9.000000e+00  7.652600e+04    4.789800e+02   \n",
      "max    2.016000e+03  9.996900e+04  2.400000e+01  9.996900e+04    9.999990e+05   \n",
      "\n",
      "       IndividualTobaccoRate        Couple  PrimarySubscriberAndOneDependent  \\\n",
      "count           4.932349e+06  40941.000000                      40941.000000   \n",
      "mean            5.436911e+02     48.115714                         49.835901   \n",
      "std             2.945916e+02     30.422891                         29.691985   \n",
      "min             4.173000e+01      0.000000                          0.000000   \n",
      "25%             3.391200e+02     26.710000                         27.390000   \n",
      "50%             4.632900e+02     49.770000                         51.240000   \n",
      "75%             6.843900e+02     69.900000                         72.230000   \n",
      "max             6.604610e+03    182.400000                        169.650000   \n",
      "\n",
      "       PrimarySubscriberAndTwoDependents  \\\n",
      "count                       40941.000000   \n",
      "mean                           70.660012   \n",
      "std                            44.620130   \n",
      "min                             0.000000   \n",
      "25%                            27.910000   \n",
      "50%                            74.680000   \n",
      "75%                           107.670000   \n",
      "max                           251.740000   \n",
      "\n",
      "       PrimarySubscriberAndThreeOrMoreDependents  CoupleAndOneDependent  \\\n",
      "count                               40941.000000           40941.000000   \n",
      "mean                                   89.405494              72.782793   \n",
      "std                                    57.699279              48.232537   \n",
      "min                                     0.000000               0.000000   \n",
      "25%                                    29.410000              28.260000   \n",
      "50%                                    98.800000              77.250000   \n",
      "75%                                   137.080000             110.430000   \n",
      "max                                   357.940000             260.850000   \n",
      "\n",
      "       CoupleAndTwoDependents  CoupleAndThreeOrMoreDependents     RowNumber  \n",
      "count            40941.000000                    40941.000000  1.269444e+07  \n",
      "mean                89.012859                      107.807774  6.348572e+03  \n",
      "std                 59.139094                       73.241174  9.011435e+03  \n",
      "min                  0.000000                        0.000000  1.400000e+01  \n",
      "25%                 28.260000                       29.490000  8.730000e+02  \n",
      "50%                 97.910000                      116.710000  2.728000e+03  \n",
      "75%                136.330000                      167.960000  7.577000e+03  \n",
      "max                339.310000                      449.140000  6.349300e+04  \n"
     ]
    }
   ],
   "source": [
    "print(rates.describe())\n",
    "\n"
   ]
  },
  {
   "cell_type": "markdown",
   "metadata": {},
   "source": [
    "    BusinessYear:  This column indicates the year of the plan, which could be relevant to the user's preference for a more recent plan.\n",
    "    \n",
    "    StateCode:   This column indicates the state where the plan is available, which could be relevant to the user's location and eligibility for certain plans.\n",
    "    \n",
    "    MetalLevel:   This column indicates the metal level of the plan (e.g., bronze, silver, gold, platinum), which could be relevant to the user's budget and coverage needs.\n",
    "    \n",
    "    IssuerName:   This column indicates the name of the insurance company that offers the plan, which could be relevant to the user's preference for a certain insurer.\n",
    "    \n",
    "    Age:  This column indicates the age of the individual covered by the plan, which could be relevant to the user's age.\n",
    "    \n",
    "    Tobacco:  This column indicates whether the plan covers tobacco use or not, which could be relevant to the user's tobacco use.\n",
    "    \n",
    "    ChildOnlyOffering:  This column indicates whether the plan is only for children or not, which could be relevant to the user's number of children.\n",
    "    \n",
    "    \n",
    "    Couple, CoupleAndOneDependent, CoupleAndTwoDependents, CoupleAndThreeOrMoreDependents: These columns indicate the premium cost of the plan for different coverage scenarios, which could be relevant to the user's estimated budget and family size."
   ]
  },
  {
   "cell_type": "code",
   "execution_count": 10,
   "metadata": {},
   "outputs": [],
   "source": [
    "rate_fields = ['StateCode','PlanId','IndividualRate','PrimarySubscriberAndThreeOrMoreDependents','BusinessYear','Age','RatingAreaId','Tobacco']\n",
    "rate_chunks = pd.read_csv(\"/home/amanpreet/Downloads/database/archive (1)/Rate.csv\",iterator=True,chunksize = 1000, usecols=rate_fields)\n",
    "rates_2= pd.concat(chunk for chunk in rate_chunks)"
   ]
  },
  {
   "cell_type": "code",
   "execution_count": 11,
   "metadata": {},
   "outputs": [
    {
     "data": {
      "text/html": [
       "<div>\n",
       "<style scoped>\n",
       "    .dataframe tbody tr th:only-of-type {\n",
       "        vertical-align: middle;\n",
       "    }\n",
       "\n",
       "    .dataframe tbody tr th {\n",
       "        vertical-align: top;\n",
       "    }\n",
       "\n",
       "    .dataframe thead th {\n",
       "        text-align: right;\n",
       "    }\n",
       "</style>\n",
       "<table border=\"1\" class=\"dataframe\">\n",
       "  <thead>\n",
       "    <tr style=\"text-align: right;\">\n",
       "      <th></th>\n",
       "      <th>BusinessYear</th>\n",
       "      <th>StateCode</th>\n",
       "      <th>PlanId</th>\n",
       "      <th>RatingAreaId</th>\n",
       "      <th>Tobacco</th>\n",
       "      <th>Age</th>\n",
       "      <th>IndividualRate</th>\n",
       "      <th>PrimarySubscriberAndThreeOrMoreDependents</th>\n",
       "    </tr>\n",
       "  </thead>\n",
       "  <tbody>\n",
       "    <tr>\n",
       "      <th>0</th>\n",
       "      <td>2014</td>\n",
       "      <td>AK</td>\n",
       "      <td>21989AK0010001</td>\n",
       "      <td>Rating Area 1</td>\n",
       "      <td>No Preference</td>\n",
       "      <td>0-20</td>\n",
       "      <td>29.00</td>\n",
       "      <td>NaN</td>\n",
       "    </tr>\n",
       "    <tr>\n",
       "      <th>1</th>\n",
       "      <td>2014</td>\n",
       "      <td>AK</td>\n",
       "      <td>21989AK0020001</td>\n",
       "      <td>Rating Area 1</td>\n",
       "      <td>No Preference</td>\n",
       "      <td>Family Option</td>\n",
       "      <td>36.95</td>\n",
       "      <td>107.61</td>\n",
       "    </tr>\n",
       "    <tr>\n",
       "      <th>2</th>\n",
       "      <td>2014</td>\n",
       "      <td>AK</td>\n",
       "      <td>21989AK0020001</td>\n",
       "      <td>Rating Area 2</td>\n",
       "      <td>No Preference</td>\n",
       "      <td>Family Option</td>\n",
       "      <td>36.95</td>\n",
       "      <td>107.61</td>\n",
       "    </tr>\n",
       "    <tr>\n",
       "      <th>3</th>\n",
       "      <td>2014</td>\n",
       "      <td>AK</td>\n",
       "      <td>21989AK0010001</td>\n",
       "      <td>Rating Area 1</td>\n",
       "      <td>No Preference</td>\n",
       "      <td>21</td>\n",
       "      <td>32.00</td>\n",
       "      <td>NaN</td>\n",
       "    </tr>\n",
       "    <tr>\n",
       "      <th>4</th>\n",
       "      <td>2014</td>\n",
       "      <td>AK</td>\n",
       "      <td>21989AK0010001</td>\n",
       "      <td>Rating Area 1</td>\n",
       "      <td>No Preference</td>\n",
       "      <td>22</td>\n",
       "      <td>32.00</td>\n",
       "      <td>NaN</td>\n",
       "    </tr>\n",
       "  </tbody>\n",
       "</table>\n",
       "</div>"
      ],
      "text/plain": [
       "   BusinessYear StateCode          PlanId   RatingAreaId        Tobacco  \\\n",
       "0          2014        AK  21989AK0010001  Rating Area 1  No Preference   \n",
       "1          2014        AK  21989AK0020001  Rating Area 1  No Preference   \n",
       "2          2014        AK  21989AK0020001  Rating Area 2  No Preference   \n",
       "3          2014        AK  21989AK0010001  Rating Area 1  No Preference   \n",
       "4          2014        AK  21989AK0010001  Rating Area 1  No Preference   \n",
       "\n",
       "             Age  IndividualRate  PrimarySubscriberAndThreeOrMoreDependents  \n",
       "0           0-20           29.00                                        NaN  \n",
       "1  Family Option           36.95                                     107.61  \n",
       "2  Family Option           36.95                                     107.61  \n",
       "3             21           32.00                                        NaN  \n",
       "4             22           32.00                                        NaN  "
      ]
     },
     "execution_count": 11,
     "metadata": {},
     "output_type": "execute_result"
    }
   ],
   "source": [
    "rates_2.head(5)"
   ]
  },
  {
   "cell_type": "code",
   "execution_count": 22,
   "metadata": {},
   "outputs": [
    {
     "data": {
      "text/plain": [
       "Index(['BusinessYear', 'StateCode', 'PlanId', 'RatingAreaId', 'Tobacco', 'Age',\n",
       "       'IndividualRate', 'PrimarySubscriberAndThreeOrMoreDependents'],\n",
       "      dtype='object')"
      ]
     },
     "execution_count": 22,
     "metadata": {},
     "output_type": "execute_result"
    }
   ],
   "source": [
    "rates_2.columns"
   ]
  },
  {
   "cell_type": "code",
   "execution_count": 6,
   "metadata": {
    "pycharm": {
     "is_executing": true
    }
   },
   "outputs": [
    {
     "name": "stderr",
     "output_type": "stream",
     "text": [
      "/tmp/ipykernel_13497/2406390103.py:1: DeprecationWarning: `import pandas_profiling` is going to be deprecated by April 1st. Please use `import ydata_profiling` instead.\n",
      "  from pandas_profiling import ProfileReport\n"
     ]
    }
   ],
   "source": [
    "from pandas_profiling import ProfileReport "
   ]
  },
  {
   "cell_type": "markdown",
   "metadata": {},
   "source": []
  },
  {
   "cell_type": "code",
   "execution_count": 7,
   "metadata": {},
   "outputs": [],
   "source": [
    "profile = ProfileReport(rates,title = \"Profiling Report_Rates_CSV\", explorative = True)"
   ]
  },
  {
   "cell_type": "code",
   "execution_count": 8,
   "metadata": {},
   "outputs": [
    {
     "data": {
      "application/vnd.jupyter.widget-view+json": {
       "model_id": "d6c1cbfac1ff4df1835ebff073c3b8bb",
       "version_major": 2,
       "version_minor": 0
      },
      "text/plain": [
       "Summarize dataset:   0%|          | 0/5 [00:00<?, ?it/s]"
      ]
     },
     "metadata": {},
     "output_type": "display_data"
    },
    {
     "name": "stderr",
     "output_type": "stream",
     "text": [
      "/home/amanpreet/PycharmProjects/big_data_project/venv/lib/python3.10/site-packages/pandas_profiling/model/pandas/discretize_pandas.py:52: FutureWarning: In a future version, `df.iloc[:, i] = newvals` will attempt to set the values inplace instead of always setting a new array. To retain the old behavior, use either `df[df.columns[i]] = newvals` or, if columns are non-unique, `df.isetitem(i, newvals)`\n",
      "  discretized_df.loc[:, column] = self._discretize_column(\n"
     ]
    },
    {
     "data": {
      "application/vnd.jupyter.widget-view+json": {
       "model_id": "a6af76a7b0a04870be61347465c38a76",
       "version_major": 2,
       "version_minor": 0
      },
      "text/plain": [
       "Generate report structure:   0%|          | 0/1 [00:00<?, ?it/s]"
      ]
     },
     "metadata": {},
     "output_type": "display_data"
    },
    {
     "data": {
      "application/vnd.jupyter.widget-view+json": {
       "model_id": "",
       "version_major": 2,
       "version_minor": 0
      },
      "text/plain": [
       "Render widgets:   0%|          | 0/1 [00:00<?, ?it/s]"
      ]
     },
     "metadata": {},
     "output_type": "display_data"
    },
    {
     "data": {
      "application/vnd.jupyter.widget-view+json": {
       "model_id": "601990cebdc445a4ac781fb76dd304ad",
       "version_major": 2,
       "version_minor": 0
      },
      "text/plain": [
       "VBox(children=(Tab(children=(Tab(children=(GridBox(children=(VBox(children=(GridspecLayout(children=(HTML(valu…"
      ]
     },
     "metadata": {},
     "output_type": "display_data"
    }
   ],
   "source": [
    "profile.to_widgets()"
   ]
  },
  {
   "cell_type": "code",
   "execution_count": null,
   "metadata": {},
   "outputs": [],
   "source": [
    "profile.to_file(\"output.html\")"
   ]
  },
  {
   "cell_type": "code",
   "execution_count": 13,
   "metadata": {},
   "outputs": [],
   "source": [
    "profile_chosen_values = ProfileReport(rates_2,title = \"Profiling Report_Cleaned_Rates_CSV\", explorative = True)"
   ]
  },
  {
   "cell_type": "code",
   "execution_count": 14,
   "metadata": {},
   "outputs": [
    {
     "data": {
      "application/vnd.jupyter.widget-view+json": {
       "model_id": "84b028e14b32467dbc8f9d05d2c13e3d",
       "version_major": 2,
       "version_minor": 0
      },
      "text/plain": [
       "Summarize dataset:   0%|          | 0/5 [00:00<?, ?it/s]"
      ]
     },
     "metadata": {},
     "output_type": "display_data"
    },
    {
     "name": "stderr",
     "output_type": "stream",
     "text": [
      "/home/amanpreet/PycharmProjects/big_data_project/venv/lib/python3.10/site-packages/pandas_profiling/model/pandas/discretize_pandas.py:52: FutureWarning: In a future version, `df.iloc[:, i] = newvals` will attempt to set the values inplace instead of always setting a new array. To retain the old behavior, use either `df[df.columns[i]] = newvals` or, if columns are non-unique, `df.isetitem(i, newvals)`\n",
      "  discretized_df.loc[:, column] = self._discretize_column(\n"
     ]
    },
    {
     "data": {
      "application/vnd.jupyter.widget-view+json": {
       "model_id": "da9e3f9ef9834c70b4ec6a1cfc91f117",
       "version_major": 2,
       "version_minor": 0
      },
      "text/plain": [
       "Generate report structure:   0%|          | 0/1 [00:00<?, ?it/s]"
      ]
     },
     "metadata": {},
     "output_type": "display_data"
    },
    {
     "data": {
      "application/vnd.jupyter.widget-view+json": {
       "model_id": "9ea0f8f01d83447097ebb69ed7a74c70",
       "version_major": 2,
       "version_minor": 0
      },
      "text/plain": [
       "Render widgets:   0%|          | 0/1 [00:00<?, ?it/s]"
      ]
     },
     "metadata": {},
     "output_type": "display_data"
    }
   ],
   "source": [
    "profile_chosen_values.to_widgets()"
   ]
  },
  {
   "cell_type": "code",
   "execution_count": 15,
   "metadata": {},
   "outputs": [
    {
     "data": {
      "application/vnd.jupyter.widget-view+json": {
       "model_id": "89acd6e410fa42b5b4404ab51db799d2",
       "version_major": 2,
       "version_minor": 0
      },
      "text/plain": [
       "Render HTML:   0%|          | 0/1 [00:00<?, ?it/s]"
      ]
     },
     "metadata": {},
     "output_type": "display_data"
    },
    {
     "data": {
      "application/vnd.jupyter.widget-view+json": {
       "model_id": "f68d8857a98641d59e397df2f6fcc4cd",
       "version_major": 2,
       "version_minor": 0
      },
      "text/plain": [
       "Export report to file:   0%|          | 0/1 [00:00<?, ?it/s]"
      ]
     },
     "metadata": {},
     "output_type": "display_data"
    }
   ],
   "source": [
    "profile_chosen_values.to_file(\"output_cleaned.html\")"
   ]
  },
  {
   "cell_type": "code",
   "execution_count": null,
   "metadata": {},
   "outputs": [],
   "source": []
  }
 ],
 "metadata": {
  "kernelspec": {
   "display_name": "Python 3 (ipykernel)",
   "language": "python",
   "name": "python3"
  },
  "language_info": {
   "codemirror_mode": {
    "name": "ipython",
    "version": 3
   },
   "file_extension": ".py",
   "mimetype": "text/x-python",
   "name": "python",
   "nbconvert_exporter": "python",
   "pygments_lexer": "ipython3",
   "version": "3.10.7"
  }
 },
 "nbformat": 4,
 "nbformat_minor": 1
}
