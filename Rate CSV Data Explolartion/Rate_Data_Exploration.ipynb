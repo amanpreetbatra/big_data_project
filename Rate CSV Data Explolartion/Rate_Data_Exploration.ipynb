{
 "cells": [
  {
   "cell_type": "code",
   "execution_count": 1,
   "metadata": {},
   "outputs": [
    {
     "name": "stderr",
     "output_type": "stream",
     "text": [
      "/tmp/ipykernel_7315/4236105238.py:3: DeprecationWarning: `import pandas_profiling` is going to be deprecated by April 1st. Please use `import ydata_profiling` instead.\n",
      "  from pandas_profiling import ProfileReport\n"
     ]
    }
   ],
   "source": [
    "import numpy as np\n",
    "import pandas as pd\n",
    "from pandas_profiling import ProfileReport"
   ]
  },
  {
   "cell_type": "code",
   "execution_count": 2,
   "metadata": {},
   "outputs": [],
   "source": [
    "rate_fields = ['StateCode','PlanId','IndividualRate','PrimarySubscriberAndThreeOrMoreDependents','BusinessYear','Age','RatingAreaId','Tobacco','SourceName']\n",
    "rate_chunks = pd.read_csv(\"/home/amanpreet/Downloads/database/archive (1)/Rate.csv\",iterator=True,chunksize = 1000, usecols=rate_fields)\n",
    "rates_2= pd.concat(chunk for chunk in rate_chunks)"
   ]
  },
  {
   "cell_type": "code",
   "execution_count": 3,
   "metadata": {},
   "outputs": [
    {
     "data": {
      "text/plain": "   BusinessYear StateCode SourceName          PlanId   RatingAreaId  \\\n0          2014        AK       HIOS  21989AK0010001  Rating Area 1   \n1          2014        AK       HIOS  21989AK0020001  Rating Area 1   \n2          2014        AK       HIOS  21989AK0020001  Rating Area 2   \n3          2014        AK       HIOS  21989AK0010001  Rating Area 1   \n4          2014        AK       HIOS  21989AK0010001  Rating Area 1   \n\n         Tobacco            Age  IndividualRate  \\\n0  No Preference           0-20           29.00   \n1  No Preference  Family Option           36.95   \n2  No Preference  Family Option           36.95   \n3  No Preference             21           32.00   \n4  No Preference             22           32.00   \n\n   PrimarySubscriberAndThreeOrMoreDependents  \n0                                        NaN  \n1                                     107.61  \n2                                     107.61  \n3                                        NaN  \n4                                        NaN  ",
      "text/html": "<div>\n<style scoped>\n    .dataframe tbody tr th:only-of-type {\n        vertical-align: middle;\n    }\n\n    .dataframe tbody tr th {\n        vertical-align: top;\n    }\n\n    .dataframe thead th {\n        text-align: right;\n    }\n</style>\n<table border=\"1\" class=\"dataframe\">\n  <thead>\n    <tr style=\"text-align: right;\">\n      <th></th>\n      <th>BusinessYear</th>\n      <th>StateCode</th>\n      <th>SourceName</th>\n      <th>PlanId</th>\n      <th>RatingAreaId</th>\n      <th>Tobacco</th>\n      <th>Age</th>\n      <th>IndividualRate</th>\n      <th>PrimarySubscriberAndThreeOrMoreDependents</th>\n    </tr>\n  </thead>\n  <tbody>\n    <tr>\n      <th>0</th>\n      <td>2014</td>\n      <td>AK</td>\n      <td>HIOS</td>\n      <td>21989AK0010001</td>\n      <td>Rating Area 1</td>\n      <td>No Preference</td>\n      <td>0-20</td>\n      <td>29.00</td>\n      <td>NaN</td>\n    </tr>\n    <tr>\n      <th>1</th>\n      <td>2014</td>\n      <td>AK</td>\n      <td>HIOS</td>\n      <td>21989AK0020001</td>\n      <td>Rating Area 1</td>\n      <td>No Preference</td>\n      <td>Family Option</td>\n      <td>36.95</td>\n      <td>107.61</td>\n    </tr>\n    <tr>\n      <th>2</th>\n      <td>2014</td>\n      <td>AK</td>\n      <td>HIOS</td>\n      <td>21989AK0020001</td>\n      <td>Rating Area 2</td>\n      <td>No Preference</td>\n      <td>Family Option</td>\n      <td>36.95</td>\n      <td>107.61</td>\n    </tr>\n    <tr>\n      <th>3</th>\n      <td>2014</td>\n      <td>AK</td>\n      <td>HIOS</td>\n      <td>21989AK0010001</td>\n      <td>Rating Area 1</td>\n      <td>No Preference</td>\n      <td>21</td>\n      <td>32.00</td>\n      <td>NaN</td>\n    </tr>\n    <tr>\n      <th>4</th>\n      <td>2014</td>\n      <td>AK</td>\n      <td>HIOS</td>\n      <td>21989AK0010001</td>\n      <td>Rating Area 1</td>\n      <td>No Preference</td>\n      <td>22</td>\n      <td>32.00</td>\n      <td>NaN</td>\n    </tr>\n  </tbody>\n</table>\n</div>"
     },
     "execution_count": 3,
     "metadata": {},
     "output_type": "execute_result"
    }
   ],
   "source": [
    "rates_2.head(5)"
   ]
  },
  {
   "cell_type": "code",
   "execution_count": 4,
   "metadata": {},
   "outputs": [
    {
     "data": {
      "text/plain": "Index(['BusinessYear', 'StateCode', 'SourceName', 'PlanId', 'RatingAreaId',\n       'Tobacco', 'Age', 'IndividualRate',\n       'PrimarySubscriberAndThreeOrMoreDependents'],\n      dtype='object')"
     },
     "execution_count": 4,
     "metadata": {},
     "output_type": "execute_result"
    }
   ],
   "source": [
    "rates_2.columns"
   ]
  },
  {
   "cell_type": "markdown",
   "metadata": {},
   "source": []
  },
  {
   "cell_type": "code",
   "execution_count": 5,
   "outputs": [
    {
     "data": {
      "text/plain": "   BusinessYear StateCode SourceName          PlanId   RatingAreaId  \\\n0          2014        AK       HIOS  21989AK0010001  Rating Area 1   \n1          2014        AK       HIOS  21989AK0020001  Rating Area 1   \n2          2014        AK       HIOS  21989AK0020001  Rating Area 2   \n3          2014        AK       HIOS  21989AK0010001  Rating Area 1   \n4          2014        AK       HIOS  21989AK0010001  Rating Area 1   \n\n         Tobacco            Age  IndividualRate  \\\n0  No Preference           0-20           29.00   \n1  No Preference  Family Option           36.95   \n2  No Preference  Family Option           36.95   \n3  No Preference             21           32.00   \n4  No Preference             22           32.00   \n\n   PrimarySubscriberAndThreeOrMoreDependents  tobacco_rate  \n0                                        NaN         29.00  \n1                                     107.61         36.95  \n2                                     107.61         36.95  \n3                                        NaN         32.00  \n4                                        NaN         32.00  ",
      "text/html": "<div>\n<style scoped>\n    .dataframe tbody tr th:only-of-type {\n        vertical-align: middle;\n    }\n\n    .dataframe tbody tr th {\n        vertical-align: top;\n    }\n\n    .dataframe thead th {\n        text-align: right;\n    }\n</style>\n<table border=\"1\" class=\"dataframe\">\n  <thead>\n    <tr style=\"text-align: right;\">\n      <th></th>\n      <th>BusinessYear</th>\n      <th>StateCode</th>\n      <th>SourceName</th>\n      <th>PlanId</th>\n      <th>RatingAreaId</th>\n      <th>Tobacco</th>\n      <th>Age</th>\n      <th>IndividualRate</th>\n      <th>PrimarySubscriberAndThreeOrMoreDependents</th>\n      <th>tobacco_rate</th>\n    </tr>\n  </thead>\n  <tbody>\n    <tr>\n      <th>0</th>\n      <td>2014</td>\n      <td>AK</td>\n      <td>HIOS</td>\n      <td>21989AK0010001</td>\n      <td>Rating Area 1</td>\n      <td>No Preference</td>\n      <td>0-20</td>\n      <td>29.00</td>\n      <td>NaN</td>\n      <td>29.00</td>\n    </tr>\n    <tr>\n      <th>1</th>\n      <td>2014</td>\n      <td>AK</td>\n      <td>HIOS</td>\n      <td>21989AK0020001</td>\n      <td>Rating Area 1</td>\n      <td>No Preference</td>\n      <td>Family Option</td>\n      <td>36.95</td>\n      <td>107.61</td>\n      <td>36.95</td>\n    </tr>\n    <tr>\n      <th>2</th>\n      <td>2014</td>\n      <td>AK</td>\n      <td>HIOS</td>\n      <td>21989AK0020001</td>\n      <td>Rating Area 2</td>\n      <td>No Preference</td>\n      <td>Family Option</td>\n      <td>36.95</td>\n      <td>107.61</td>\n      <td>36.95</td>\n    </tr>\n    <tr>\n      <th>3</th>\n      <td>2014</td>\n      <td>AK</td>\n      <td>HIOS</td>\n      <td>21989AK0010001</td>\n      <td>Rating Area 1</td>\n      <td>No Preference</td>\n      <td>21</td>\n      <td>32.00</td>\n      <td>NaN</td>\n      <td>32.00</td>\n    </tr>\n    <tr>\n      <th>4</th>\n      <td>2014</td>\n      <td>AK</td>\n      <td>HIOS</td>\n      <td>21989AK0010001</td>\n      <td>Rating Area 1</td>\n      <td>No Preference</td>\n      <td>22</td>\n      <td>32.00</td>\n      <td>NaN</td>\n      <td>32.00</td>\n    </tr>\n  </tbody>\n</table>\n</div>"
     },
     "execution_count": 5,
     "metadata": {},
     "output_type": "execute_result"
    }
   ],
   "source": [
    "df = rates_2\n",
    "df['tobacco_rate'] = np.where(df['Tobacco']!= 'Tobacco User/Non-Tobacco User ',df['IndividualRate'],df['IndividualRate']*1.03)\n",
    "df.head()"
   ],
   "metadata": {
    "collapsed": false
   }
  },
  {
   "cell_type": "code",
   "execution_count": 6,
   "metadata": {},
   "outputs": [],
   "source": [
    "df['Age'] = np.where(df['Age']== 'Family Option',-5,df['Age']) # Family Plan = -5\n",
    "df['Age'] = np.where(df['Age']== '0-20',10,df['Age'])  # Minor = 10 below 20 years of age\n",
    "df['Age'] = np.where(df['Age']== '65 and over',100,df['Age'])  # Old age = 100 more than 65 years of age\n"
   ]
  },
  {
   "cell_type": "code",
   "execution_count": 7,
   "metadata": {},
   "outputs": [
    {
     "data": {
      "text/plain": "   BusinessYear StateCode SourceName          PlanId   RatingAreaId  \\\n0          2014        AK       HIOS  21989AK0010001  Rating Area 1   \n1          2014        AK       HIOS  21989AK0020001  Rating Area 1   \n2          2014        AK       HIOS  21989AK0020001  Rating Area 2   \n3          2014        AK       HIOS  21989AK0010001  Rating Area 1   \n4          2014        AK       HIOS  21989AK0010001  Rating Area 1   \n\n         Tobacco Age  IndividualRate  \\\n0  No Preference  10           29.00   \n1  No Preference  -5           36.95   \n2  No Preference  -5           36.95   \n3  No Preference  21           32.00   \n4  No Preference  22           32.00   \n\n   PrimarySubscriberAndThreeOrMoreDependents  tobacco_rate  \n0                                        NaN         29.00  \n1                                     107.61         36.95  \n2                                     107.61         36.95  \n3                                        NaN         32.00  \n4                                        NaN         32.00  ",
      "text/html": "<div>\n<style scoped>\n    .dataframe tbody tr th:only-of-type {\n        vertical-align: middle;\n    }\n\n    .dataframe tbody tr th {\n        vertical-align: top;\n    }\n\n    .dataframe thead th {\n        text-align: right;\n    }\n</style>\n<table border=\"1\" class=\"dataframe\">\n  <thead>\n    <tr style=\"text-align: right;\">\n      <th></th>\n      <th>BusinessYear</th>\n      <th>StateCode</th>\n      <th>SourceName</th>\n      <th>PlanId</th>\n      <th>RatingAreaId</th>\n      <th>Tobacco</th>\n      <th>Age</th>\n      <th>IndividualRate</th>\n      <th>PrimarySubscriberAndThreeOrMoreDependents</th>\n      <th>tobacco_rate</th>\n    </tr>\n  </thead>\n  <tbody>\n    <tr>\n      <th>0</th>\n      <td>2014</td>\n      <td>AK</td>\n      <td>HIOS</td>\n      <td>21989AK0010001</td>\n      <td>Rating Area 1</td>\n      <td>No Preference</td>\n      <td>10</td>\n      <td>29.00</td>\n      <td>NaN</td>\n      <td>29.00</td>\n    </tr>\n    <tr>\n      <th>1</th>\n      <td>2014</td>\n      <td>AK</td>\n      <td>HIOS</td>\n      <td>21989AK0020001</td>\n      <td>Rating Area 1</td>\n      <td>No Preference</td>\n      <td>-5</td>\n      <td>36.95</td>\n      <td>107.61</td>\n      <td>36.95</td>\n    </tr>\n    <tr>\n      <th>2</th>\n      <td>2014</td>\n      <td>AK</td>\n      <td>HIOS</td>\n      <td>21989AK0020001</td>\n      <td>Rating Area 2</td>\n      <td>No Preference</td>\n      <td>-5</td>\n      <td>36.95</td>\n      <td>107.61</td>\n      <td>36.95</td>\n    </tr>\n    <tr>\n      <th>3</th>\n      <td>2014</td>\n      <td>AK</td>\n      <td>HIOS</td>\n      <td>21989AK0010001</td>\n      <td>Rating Area 1</td>\n      <td>No Preference</td>\n      <td>21</td>\n      <td>32.00</td>\n      <td>NaN</td>\n      <td>32.00</td>\n    </tr>\n    <tr>\n      <th>4</th>\n      <td>2014</td>\n      <td>AK</td>\n      <td>HIOS</td>\n      <td>21989AK0010001</td>\n      <td>Rating Area 1</td>\n      <td>No Preference</td>\n      <td>22</td>\n      <td>32.00</td>\n      <td>NaN</td>\n      <td>32.00</td>\n    </tr>\n  </tbody>\n</table>\n</div>"
     },
     "execution_count": 7,
     "metadata": {},
     "output_type": "execute_result"
    }
   ],
   "source": [
    "df.head()"
   ]
  },
  {
   "cell_type": "code",
   "execution_count": 8,
   "metadata": {},
   "outputs": [
    {
     "data": {
      "text/plain": "(12694445, 10)"
     },
     "execution_count": 8,
     "metadata": {},
     "output_type": "execute_result"
    }
   ],
   "source": [
    "df.shape\n"
   ]
  },
  {
   "cell_type": "code",
   "execution_count": 9,
   "metadata": {},
   "outputs": [],
   "source": [
    "df['PrimarySubscriberAndThreeOrMoreDependents']=df['PrimarySubscriberAndThreeOrMoreDependents'].fillna(0) "
   ]
  },
  {
   "cell_type": "code",
   "execution_count": 10,
   "metadata": {},
   "outputs": [
    {
     "data": {
      "text/plain": "          BusinessYear StateCode SourceName          PlanId    RatingAreaId  \\\n0                 2014        AK       HIOS  21989AK0010001   Rating Area 1   \n1                 2014        AK       HIOS  21989AK0020001   Rating Area 1   \n2                 2014        AK       HIOS  21989AK0020001   Rating Area 2   \n3                 2014        AK       HIOS  21989AK0010001   Rating Area 1   \n4                 2014        AK       HIOS  21989AK0010001   Rating Area 1   \n...                ...       ...        ...             ...             ...   \n12694440          2016        WV      SERFF  96480WV0090003  Rating Area 11   \n12694441          2016        WV      SERFF  96480WV0090003  Rating Area 11   \n12694442          2016        WV      SERFF  96480WV0090003  Rating Area 11   \n12694443          2016        WV      SERFF  96480WV0090003  Rating Area 11   \n12694444          2016        WV      SERFF  96480WV0090003  Rating Area 11   \n\n                Tobacco  Age  IndividualRate  \\\n0         No Preference   10           29.00   \n1         No Preference   -5           36.95   \n2         No Preference   -5           36.95   \n3         No Preference   21           32.00   \n4         No Preference   22           32.00   \n...                 ...  ...             ...   \n12694440  No Preference   61           14.05   \n12694441  No Preference   62           14.05   \n12694442  No Preference   63           14.05   \n12694443  No Preference   64           14.05   \n12694444  No Preference  100           14.05   \n\n          PrimarySubscriberAndThreeOrMoreDependents  tobacco_rate  \n0                                               0.0         29.00  \n1                                               1.0        107.61  \n2                                               1.0        107.61  \n3                                               0.0         32.00  \n4                                               0.0         32.00  \n...                                             ...           ...  \n12694440                                        0.0         14.05  \n12694441                                        0.0         14.05  \n12694442                                        0.0         14.05  \n12694443                                        0.0         14.05  \n12694444                                        0.0         14.05  \n\n[12694445 rows x 10 columns]",
      "text/html": "<div>\n<style scoped>\n    .dataframe tbody tr th:only-of-type {\n        vertical-align: middle;\n    }\n\n    .dataframe tbody tr th {\n        vertical-align: top;\n    }\n\n    .dataframe thead th {\n        text-align: right;\n    }\n</style>\n<table border=\"1\" class=\"dataframe\">\n  <thead>\n    <tr style=\"text-align: right;\">\n      <th></th>\n      <th>BusinessYear</th>\n      <th>StateCode</th>\n      <th>SourceName</th>\n      <th>PlanId</th>\n      <th>RatingAreaId</th>\n      <th>Tobacco</th>\n      <th>Age</th>\n      <th>IndividualRate</th>\n      <th>PrimarySubscriberAndThreeOrMoreDependents</th>\n      <th>tobacco_rate</th>\n    </tr>\n  </thead>\n  <tbody>\n    <tr>\n      <th>0</th>\n      <td>2014</td>\n      <td>AK</td>\n      <td>HIOS</td>\n      <td>21989AK0010001</td>\n      <td>Rating Area 1</td>\n      <td>No Preference</td>\n      <td>10</td>\n      <td>29.00</td>\n      <td>0.0</td>\n      <td>29.00</td>\n    </tr>\n    <tr>\n      <th>1</th>\n      <td>2014</td>\n      <td>AK</td>\n      <td>HIOS</td>\n      <td>21989AK0020001</td>\n      <td>Rating Area 1</td>\n      <td>No Preference</td>\n      <td>-5</td>\n      <td>36.95</td>\n      <td>1.0</td>\n      <td>107.61</td>\n    </tr>\n    <tr>\n      <th>2</th>\n      <td>2014</td>\n      <td>AK</td>\n      <td>HIOS</td>\n      <td>21989AK0020001</td>\n      <td>Rating Area 2</td>\n      <td>No Preference</td>\n      <td>-5</td>\n      <td>36.95</td>\n      <td>1.0</td>\n      <td>107.61</td>\n    </tr>\n    <tr>\n      <th>3</th>\n      <td>2014</td>\n      <td>AK</td>\n      <td>HIOS</td>\n      <td>21989AK0010001</td>\n      <td>Rating Area 1</td>\n      <td>No Preference</td>\n      <td>21</td>\n      <td>32.00</td>\n      <td>0.0</td>\n      <td>32.00</td>\n    </tr>\n    <tr>\n      <th>4</th>\n      <td>2014</td>\n      <td>AK</td>\n      <td>HIOS</td>\n      <td>21989AK0010001</td>\n      <td>Rating Area 1</td>\n      <td>No Preference</td>\n      <td>22</td>\n      <td>32.00</td>\n      <td>0.0</td>\n      <td>32.00</td>\n    </tr>\n    <tr>\n      <th>...</th>\n      <td>...</td>\n      <td>...</td>\n      <td>...</td>\n      <td>...</td>\n      <td>...</td>\n      <td>...</td>\n      <td>...</td>\n      <td>...</td>\n      <td>...</td>\n      <td>...</td>\n    </tr>\n    <tr>\n      <th>12694440</th>\n      <td>2016</td>\n      <td>WV</td>\n      <td>SERFF</td>\n      <td>96480WV0090003</td>\n      <td>Rating Area 11</td>\n      <td>No Preference</td>\n      <td>61</td>\n      <td>14.05</td>\n      <td>0.0</td>\n      <td>14.05</td>\n    </tr>\n    <tr>\n      <th>12694441</th>\n      <td>2016</td>\n      <td>WV</td>\n      <td>SERFF</td>\n      <td>96480WV0090003</td>\n      <td>Rating Area 11</td>\n      <td>No Preference</td>\n      <td>62</td>\n      <td>14.05</td>\n      <td>0.0</td>\n      <td>14.05</td>\n    </tr>\n    <tr>\n      <th>12694442</th>\n      <td>2016</td>\n      <td>WV</td>\n      <td>SERFF</td>\n      <td>96480WV0090003</td>\n      <td>Rating Area 11</td>\n      <td>No Preference</td>\n      <td>63</td>\n      <td>14.05</td>\n      <td>0.0</td>\n      <td>14.05</td>\n    </tr>\n    <tr>\n      <th>12694443</th>\n      <td>2016</td>\n      <td>WV</td>\n      <td>SERFF</td>\n      <td>96480WV0090003</td>\n      <td>Rating Area 11</td>\n      <td>No Preference</td>\n      <td>64</td>\n      <td>14.05</td>\n      <td>0.0</td>\n      <td>14.05</td>\n    </tr>\n    <tr>\n      <th>12694444</th>\n      <td>2016</td>\n      <td>WV</td>\n      <td>SERFF</td>\n      <td>96480WV0090003</td>\n      <td>Rating Area 11</td>\n      <td>No Preference</td>\n      <td>100</td>\n      <td>14.05</td>\n      <td>0.0</td>\n      <td>14.05</td>\n    </tr>\n  </tbody>\n</table>\n<p>12694445 rows × 10 columns</p>\n</div>"
     },
     "execution_count": 10,
     "metadata": {},
     "output_type": "execute_result"
    }
   ],
   "source": [
    "df['tobacco_rate'] = np.where(df['PrimarySubscriberAndThreeOrMoreDependents']>0, df['PrimarySubscriberAndThreeOrMoreDependents'],df['tobacco_rate'])\n",
    "df['PrimarySubscriberAndThreeOrMoreDependents'] = np.where(df['PrimarySubscriberAndThreeOrMoreDependents']>0, 1,df['PrimarySubscriberAndThreeOrMoreDependents'])\n",
    "df"
   ]
  },
  {
   "cell_type": "code",
   "execution_count": 11,
   "metadata": {},
   "outputs": [],
   "source": [
    "df.Age = df.Age.astype(int)"
   ]
  },
  {
   "cell_type": "code",
   "execution_count": 12,
   "metadata": {},
   "outputs": [
    {
     "data": {
      "text/plain": "Summarize dataset:   0%|          | 0/5 [00:00<?, ?it/s]",
      "application/vnd.jupyter.widget-view+json": {
       "version_major": 2,
       "version_minor": 0,
       "model_id": "6995cf2a741d4c49ab83f99832fd9d4f"
      }
     },
     "metadata": {},
     "output_type": "display_data"
    },
    {
     "name": "stderr",
     "output_type": "stream",
     "text": [
      "/home/amanpreet/PycharmProjects/big_data_project/venv/lib/python3.10/site-packages/pandas_profiling/model/pandas/discretize_pandas.py:52: FutureWarning: In a future version, `df.iloc[:, i] = newvals` will attempt to set the values inplace instead of always setting a new array. To retain the old behavior, use either `df[df.columns[i]] = newvals` or, if columns are non-unique, `df.isetitem(i, newvals)`\n",
      "  discretized_df.loc[:, column] = self._discretize_column(\n"
     ]
    },
    {
     "data": {
      "text/plain": "Generate report structure:   0%|          | 0/1 [00:00<?, ?it/s]",
      "application/vnd.jupyter.widget-view+json": {
       "version_major": 2,
       "version_minor": 0,
       "model_id": "7553fe86b8d84cd8ab79ee4602fc9cef"
      }
     },
     "metadata": {},
     "output_type": "display_data"
    },
    {
     "data": {
      "text/plain": "Render HTML:   0%|          | 0/1 [00:00<?, ?it/s]",
      "application/vnd.jupyter.widget-view+json": {
       "version_major": 2,
       "version_minor": 0,
       "model_id": "8bce3ad3f20b4292b6689dc06f911f5a"
      }
     },
     "metadata": {},
     "output_type": "display_data"
    },
    {
     "data": {
      "text/plain": "Export report to file:   0%|          | 0/1 [00:00<?, ?it/s]",
      "application/vnd.jupyter.widget-view+json": {
       "version_major": 2,
       "version_minor": 0,
       "model_id": "f317d8525a7f47758fa26dd1a56c874b"
      }
     },
     "metadata": {},
     "output_type": "display_data"
    }
   ],
   "source": [
    "profile_final = ProfileReport(df,title = \"Profiling Report_Rates_CSV\", explorative = True)\n",
    "\n",
    "profile_final.to_file(\"output_cleaned_final.html\")"
   ]
  },
  {
   "cell_type": "code",
   "execution_count": 13,
   "metadata": {},
   "outputs": [
    {
     "data": {
      "text/plain": "          BusinessYear StateCode SourceName          PlanId    RatingAreaId  \\\n0                 2014        AK       HIOS  21989AK0010001   Rating Area 1   \n1                 2014        AK       HIOS  21989AK0020001   Rating Area 1   \n2                 2014        AK       HIOS  21989AK0020001   Rating Area 2   \n3                 2014        AK       HIOS  21989AK0010001   Rating Area 1   \n4                 2014        AK       HIOS  21989AK0010001   Rating Area 1   \n...                ...       ...        ...             ...             ...   \n17584562          2016        WV      SERFF  50328WV0020018  Rating Area 11   \n17584563          2016        WV      SERFF  50328WV0020018  Rating Area 11   \n17584564          2016        WV      SERFF  50328WV0020018  Rating Area 11   \n17584565          2016        WV      SERFF  50328WV0020018  Rating Area 11   \n17584566          2016        WV      SERFF  50328WV0020018  Rating Area 11   \n\n                   Tobacco  Age  IndividualRate  \\\n0            No Preference   10           29.00   \n1            No Preference   -5           36.95   \n2            No Preference   -5           36.95   \n3            No Preference   21           32.00   \n4            No Preference   22           32.00   \n...                    ...  ...             ...   \n17584562  Non-Tobacco User   61          702.16   \n17584563  Non-Tobacco User   62          717.91   \n17584564  Non-Tobacco User   63          737.65   \n17584565  Non-Tobacco User   64          749.64   \n17584566  Non-Tobacco User  100          749.64   \n\n          PrimarySubscriberAndThreeOrMoreDependents  tobacco_rate  \n0                                               0.0         29.00  \n1                                               1.0        107.61  \n2                                               1.0        107.61  \n3                                               0.0         32.00  \n4                                               0.0         32.00  \n...                                             ...           ...  \n17584562                                        0.0        702.16  \n17584563                                        0.0        717.91  \n17584564                                        0.0        737.65  \n17584565                                        0.0        749.64  \n17584566                                        0.0        749.64  \n\n[17584567 rows x 10 columns]",
      "text/html": "<div>\n<style scoped>\n    .dataframe tbody tr th:only-of-type {\n        vertical-align: middle;\n    }\n\n    .dataframe tbody tr th {\n        vertical-align: top;\n    }\n\n    .dataframe thead th {\n        text-align: right;\n    }\n</style>\n<table border=\"1\" class=\"dataframe\">\n  <thead>\n    <tr style=\"text-align: right;\">\n      <th></th>\n      <th>BusinessYear</th>\n      <th>StateCode</th>\n      <th>SourceName</th>\n      <th>PlanId</th>\n      <th>RatingAreaId</th>\n      <th>Tobacco</th>\n      <th>Age</th>\n      <th>IndividualRate</th>\n      <th>PrimarySubscriberAndThreeOrMoreDependents</th>\n      <th>tobacco_rate</th>\n    </tr>\n  </thead>\n  <tbody>\n    <tr>\n      <th>0</th>\n      <td>2014</td>\n      <td>AK</td>\n      <td>HIOS</td>\n      <td>21989AK0010001</td>\n      <td>Rating Area 1</td>\n      <td>No Preference</td>\n      <td>10</td>\n      <td>29.00</td>\n      <td>0.0</td>\n      <td>29.00</td>\n    </tr>\n    <tr>\n      <th>1</th>\n      <td>2014</td>\n      <td>AK</td>\n      <td>HIOS</td>\n      <td>21989AK0020001</td>\n      <td>Rating Area 1</td>\n      <td>No Preference</td>\n      <td>-5</td>\n      <td>36.95</td>\n      <td>1.0</td>\n      <td>107.61</td>\n    </tr>\n    <tr>\n      <th>2</th>\n      <td>2014</td>\n      <td>AK</td>\n      <td>HIOS</td>\n      <td>21989AK0020001</td>\n      <td>Rating Area 2</td>\n      <td>No Preference</td>\n      <td>-5</td>\n      <td>36.95</td>\n      <td>1.0</td>\n      <td>107.61</td>\n    </tr>\n    <tr>\n      <th>3</th>\n      <td>2014</td>\n      <td>AK</td>\n      <td>HIOS</td>\n      <td>21989AK0010001</td>\n      <td>Rating Area 1</td>\n      <td>No Preference</td>\n      <td>21</td>\n      <td>32.00</td>\n      <td>0.0</td>\n      <td>32.00</td>\n    </tr>\n    <tr>\n      <th>4</th>\n      <td>2014</td>\n      <td>AK</td>\n      <td>HIOS</td>\n      <td>21989AK0010001</td>\n      <td>Rating Area 1</td>\n      <td>No Preference</td>\n      <td>22</td>\n      <td>32.00</td>\n      <td>0.0</td>\n      <td>32.00</td>\n    </tr>\n    <tr>\n      <th>...</th>\n      <td>...</td>\n      <td>...</td>\n      <td>...</td>\n      <td>...</td>\n      <td>...</td>\n      <td>...</td>\n      <td>...</td>\n      <td>...</td>\n      <td>...</td>\n      <td>...</td>\n    </tr>\n    <tr>\n      <th>17584562</th>\n      <td>2016</td>\n      <td>WV</td>\n      <td>SERFF</td>\n      <td>50328WV0020018</td>\n      <td>Rating Area 11</td>\n      <td>Non-Tobacco User</td>\n      <td>61</td>\n      <td>702.16</td>\n      <td>0.0</td>\n      <td>702.16</td>\n    </tr>\n    <tr>\n      <th>17584563</th>\n      <td>2016</td>\n      <td>WV</td>\n      <td>SERFF</td>\n      <td>50328WV0020018</td>\n      <td>Rating Area 11</td>\n      <td>Non-Tobacco User</td>\n      <td>62</td>\n      <td>717.91</td>\n      <td>0.0</td>\n      <td>717.91</td>\n    </tr>\n    <tr>\n      <th>17584564</th>\n      <td>2016</td>\n      <td>WV</td>\n      <td>SERFF</td>\n      <td>50328WV0020018</td>\n      <td>Rating Area 11</td>\n      <td>Non-Tobacco User</td>\n      <td>63</td>\n      <td>737.65</td>\n      <td>0.0</td>\n      <td>737.65</td>\n    </tr>\n    <tr>\n      <th>17584565</th>\n      <td>2016</td>\n      <td>WV</td>\n      <td>SERFF</td>\n      <td>50328WV0020018</td>\n      <td>Rating Area 11</td>\n      <td>Non-Tobacco User</td>\n      <td>64</td>\n      <td>749.64</td>\n      <td>0.0</td>\n      <td>749.64</td>\n    </tr>\n    <tr>\n      <th>17584566</th>\n      <td>2016</td>\n      <td>WV</td>\n      <td>SERFF</td>\n      <td>50328WV0020018</td>\n      <td>Rating Area 11</td>\n      <td>Non-Tobacco User</td>\n      <td>100</td>\n      <td>749.64</td>\n      <td>0.0</td>\n      <td>749.64</td>\n    </tr>\n  </tbody>\n</table>\n<p>17584567 rows × 10 columns</p>\n</div>"
     },
     "execution_count": 13,
     "metadata": {},
     "output_type": "execute_result"
    }
   ],
   "source": [
    "filtered_df = df[df['Tobacco'] == 'Tobacco User/Non-Tobacco User']\n",
    "\n",
    "# create a copy of the filtered dataframe\n",
    "new_df = filtered_df.copy()\n",
    "new_df2 = filtered_df.copy()\n",
    "# change the value in the Tobacco column to 'Tobacco User' for the first half of the rows\n",
    "new_df.loc[new_df.index[:len(filtered_df)], 'Tobacco'] = 'Tobacco User'\n",
    "\n",
    "# change the value in the Tobacco column to 'Non-Tobacco User' for the second half of the rows\n",
    "new_df2.loc[new_df.index[:len(filtered_df)], 'Tobacco'] = 'Non-Tobacco User'\n",
    "\n",
    "# replace the tobacco_rate column value with the IndividualRate value for the 'Non-Tobacco User' rows\n",
    "new_df2.loc[new_df['Tobacco'] == 'Non-Tobacco User', 'tobacco_rate'] = new_df2.loc[new_df['Tobacco'] == 'Non-Tobacco User', 'IndividualRate']\n",
    "\n",
    "# concatenate the original dataframe with the modified filtered dataframe\n",
    "ff = pd.concat([new_df,new_df2])\n",
    "final_df = pd.concat([df[df['Tobacco'] != 'Tobacco User/Non-Tobacco User'], ff])\n",
    "\n",
    "# reset the index\n",
    "final_df = final_df.reset_index(drop=True)\n",
    "\n",
    "final_df"
   ]
  },
  {
   "cell_type": "code",
   "execution_count": 14,
   "outputs": [],
   "source": [
    "final_df.to_csv('clean_2.csv')"
   ],
   "metadata": {
    "collapsed": false
   }
  },
  {
   "cell_type": "code",
   "execution_count": 15,
   "outputs": [
    {
     "data": {
      "text/plain": "   BusinessYear StateCode SourceName          PlanId   RatingAreaId  \\\n0          2014        AK       HIOS  21989AK0010001  Rating Area 1   \n1          2014        AK       HIOS  21989AK0020001  Rating Area 1   \n2          2014        AK       HIOS  21989AK0020001  Rating Area 2   \n3          2014        AK       HIOS  21989AK0010001  Rating Area 1   \n4          2014        AK       HIOS  21989AK0010001  Rating Area 1   \n\n         Tobacco  Age  IndividualRate  \\\n0  No Preference   10           29.00   \n1  No Preference   -5           36.95   \n2  No Preference   -5           36.95   \n3  No Preference   21           32.00   \n4  No Preference   22           32.00   \n\n   PrimarySubscriberAndThreeOrMoreDependents  tobacco_rate  \n0                                        0.0         29.00  \n1                                        1.0        107.61  \n2                                        1.0        107.61  \n3                                        0.0         32.00  \n4                                        0.0         32.00  ",
      "text/html": "<div>\n<style scoped>\n    .dataframe tbody tr th:only-of-type {\n        vertical-align: middle;\n    }\n\n    .dataframe tbody tr th {\n        vertical-align: top;\n    }\n\n    .dataframe thead th {\n        text-align: right;\n    }\n</style>\n<table border=\"1\" class=\"dataframe\">\n  <thead>\n    <tr style=\"text-align: right;\">\n      <th></th>\n      <th>BusinessYear</th>\n      <th>StateCode</th>\n      <th>SourceName</th>\n      <th>PlanId</th>\n      <th>RatingAreaId</th>\n      <th>Tobacco</th>\n      <th>Age</th>\n      <th>IndividualRate</th>\n      <th>PrimarySubscriberAndThreeOrMoreDependents</th>\n      <th>tobacco_rate</th>\n    </tr>\n  </thead>\n  <tbody>\n    <tr>\n      <th>0</th>\n      <td>2014</td>\n      <td>AK</td>\n      <td>HIOS</td>\n      <td>21989AK0010001</td>\n      <td>Rating Area 1</td>\n      <td>No Preference</td>\n      <td>10</td>\n      <td>29.00</td>\n      <td>0.0</td>\n      <td>29.00</td>\n    </tr>\n    <tr>\n      <th>1</th>\n      <td>2014</td>\n      <td>AK</td>\n      <td>HIOS</td>\n      <td>21989AK0020001</td>\n      <td>Rating Area 1</td>\n      <td>No Preference</td>\n      <td>-5</td>\n      <td>36.95</td>\n      <td>1.0</td>\n      <td>107.61</td>\n    </tr>\n    <tr>\n      <th>2</th>\n      <td>2014</td>\n      <td>AK</td>\n      <td>HIOS</td>\n      <td>21989AK0020001</td>\n      <td>Rating Area 2</td>\n      <td>No Preference</td>\n      <td>-5</td>\n      <td>36.95</td>\n      <td>1.0</td>\n      <td>107.61</td>\n    </tr>\n    <tr>\n      <th>3</th>\n      <td>2014</td>\n      <td>AK</td>\n      <td>HIOS</td>\n      <td>21989AK0010001</td>\n      <td>Rating Area 1</td>\n      <td>No Preference</td>\n      <td>21</td>\n      <td>32.00</td>\n      <td>0.0</td>\n      <td>32.00</td>\n    </tr>\n    <tr>\n      <th>4</th>\n      <td>2014</td>\n      <td>AK</td>\n      <td>HIOS</td>\n      <td>21989AK0010001</td>\n      <td>Rating Area 1</td>\n      <td>No Preference</td>\n      <td>22</td>\n      <td>32.00</td>\n      <td>0.0</td>\n      <td>32.00</td>\n    </tr>\n  </tbody>\n</table>\n</div>"
     },
     "execution_count": 15,
     "metadata": {},
     "output_type": "execute_result"
    }
   ],
   "source": [
    "final_df.head()"
   ],
   "metadata": {
    "collapsed": false
   }
  },
  {
   "cell_type": "code",
   "execution_count": 16,
   "outputs": [
    {
     "name": "stderr",
     "output_type": "stream",
     "text": [
      "/tmp/ipykernel_7315/4180196102.py:2: SettingWithCopyWarning: \n",
      "A value is trying to be set on a copy of a slice from a DataFrame\n",
      "\n",
      "See the caveats in the documentation: https://pandas.pydata.org/pandas-docs/stable/user_guide/indexing.html#returning-a-view-versus-a-copy\n",
      "  final_df.drop(columns=[\"BusinessYear\"],inplace=True)\n",
      "/tmp/ipykernel_7315/4180196102.py:3: SettingWithCopyWarning: \n",
      "A value is trying to be set on a copy of a slice from a DataFrame\n",
      "\n",
      "See the caveats in the documentation: https://pandas.pydata.org/pandas-docs/stable/user_guide/indexing.html#returning-a-view-versus-a-copy\n",
      "  final_df.dropna(inplace=True)\n",
      "/tmp/ipykernel_7315/4180196102.py:4: SettingWithCopyWarning: \n",
      "A value is trying to be set on a copy of a slice from a DataFrame\n",
      "\n",
      "See the caveats in the documentation: https://pandas.pydata.org/pandas-docs/stable/user_guide/indexing.html#returning-a-view-versus-a-copy\n",
      "  final_df.drop(columns=[\"RatingAreaId\"],inplace=True)\n"
     ]
    }
   ],
   "source": [
    "final_df = final_df[final_df[\"BusinessYear\"]==2014]\n",
    "final_df.drop(columns=[\"BusinessYear\"],inplace=True)\n",
    "final_df.dropna(inplace=True)\n",
    "final_df.drop(columns=[\"RatingAreaId\"],inplace=True)\n",
    "final_df.drop_duplicates()\n",
    "final_df.to_csv('clean_alternate.csv')"
   ],
   "metadata": {
    "collapsed": false
   }
  },
  {
   "cell_type": "code",
   "execution_count": 17,
   "outputs": [
    {
     "name": "stderr",
     "output_type": "stream",
     "text": [
      "/tmp/ipykernel_7315/171647178.py:1: SettingWithCopyWarning: \n",
      "A value is trying to be set on a copy of a slice from a DataFrame\n",
      "\n",
      "See the caveats in the documentation: https://pandas.pydata.org/pandas-docs/stable/user_guide/indexing.html#returning-a-view-versus-a-copy\n",
      "  final_df.drop_duplicates(inplace=True)\n"
     ]
    },
    {
     "data": {
      "text/plain": "  StateCode SourceName          PlanId        Tobacco  Age  IndividualRate  \\\n0        AK       HIOS  21989AK0010001  No Preference   10           29.00   \n1        AK       HIOS  21989AK0020001  No Preference   -5           36.95   \n3        AK       HIOS  21989AK0010001  No Preference   21           32.00   \n4        AK       HIOS  21989AK0010001  No Preference   22           32.00   \n6        AK       HIOS  21989AK0020002  No Preference   -5           32.45   \n\n   PrimarySubscriberAndThreeOrMoreDependents  tobacco_rate  \n0                                        0.0         29.00  \n1                                        1.0        107.61  \n3                                        0.0         32.00  \n4                                        0.0         32.00  \n6                                        1.0         94.50  ",
      "text/html": "<div>\n<style scoped>\n    .dataframe tbody tr th:only-of-type {\n        vertical-align: middle;\n    }\n\n    .dataframe tbody tr th {\n        vertical-align: top;\n    }\n\n    .dataframe thead th {\n        text-align: right;\n    }\n</style>\n<table border=\"1\" class=\"dataframe\">\n  <thead>\n    <tr style=\"text-align: right;\">\n      <th></th>\n      <th>StateCode</th>\n      <th>SourceName</th>\n      <th>PlanId</th>\n      <th>Tobacco</th>\n      <th>Age</th>\n      <th>IndividualRate</th>\n      <th>PrimarySubscriberAndThreeOrMoreDependents</th>\n      <th>tobacco_rate</th>\n    </tr>\n  </thead>\n  <tbody>\n    <tr>\n      <th>0</th>\n      <td>AK</td>\n      <td>HIOS</td>\n      <td>21989AK0010001</td>\n      <td>No Preference</td>\n      <td>10</td>\n      <td>29.00</td>\n      <td>0.0</td>\n      <td>29.00</td>\n    </tr>\n    <tr>\n      <th>1</th>\n      <td>AK</td>\n      <td>HIOS</td>\n      <td>21989AK0020001</td>\n      <td>No Preference</td>\n      <td>-5</td>\n      <td>36.95</td>\n      <td>1.0</td>\n      <td>107.61</td>\n    </tr>\n    <tr>\n      <th>3</th>\n      <td>AK</td>\n      <td>HIOS</td>\n      <td>21989AK0010001</td>\n      <td>No Preference</td>\n      <td>21</td>\n      <td>32.00</td>\n      <td>0.0</td>\n      <td>32.00</td>\n    </tr>\n    <tr>\n      <th>4</th>\n      <td>AK</td>\n      <td>HIOS</td>\n      <td>21989AK0010001</td>\n      <td>No Preference</td>\n      <td>22</td>\n      <td>32.00</td>\n      <td>0.0</td>\n      <td>32.00</td>\n    </tr>\n    <tr>\n      <th>6</th>\n      <td>AK</td>\n      <td>HIOS</td>\n      <td>21989AK0020002</td>\n      <td>No Preference</td>\n      <td>-5</td>\n      <td>32.45</td>\n      <td>1.0</td>\n      <td>94.50</td>\n    </tr>\n  </tbody>\n</table>\n</div>"
     },
     "execution_count": 17,
     "metadata": {},
     "output_type": "execute_result"
    }
   ],
   "source": [
    "final_df.drop_duplicates(inplace=True)\n",
    "final_df.head()"
   ],
   "metadata": {
    "collapsed": false
   }
  },
  {
   "cell_type": "code",
   "execution_count": 18,
   "outputs": [
    {
     "data": {
      "text/plain": "3045596"
     },
     "execution_count": 18,
     "metadata": {},
     "output_type": "execute_result"
    }
   ],
   "source": [
    "final_df.shape[0]"
   ],
   "metadata": {
    "collapsed": false
   }
  },
  {
   "cell_type": "code",
   "execution_count": 19,
   "outputs": [],
   "source": [
    "final_df.to_csv('clean_alternate.csv')"
   ],
   "metadata": {
    "collapsed": false
   }
  },
  {
   "cell_type": "code",
   "execution_count": 19,
   "outputs": [],
   "source": [],
   "metadata": {
    "collapsed": false
   }
  }
 ],
 "metadata": {
  "kernelspec": {
   "display_name": "Python 3 (ipykernel)",
   "language": "python",
   "name": "python3"
  },
  "language_info": {
   "codemirror_mode": {
    "name": "ipython",
    "version": 3
   },
   "file_extension": ".py",
   "mimetype": "text/x-python",
   "name": "python",
   "nbconvert_exporter": "python",
   "pygments_lexer": "ipython3",
   "version": "3.10.7"
  }
 },
 "nbformat": 4,
 "nbformat_minor": 1
}
