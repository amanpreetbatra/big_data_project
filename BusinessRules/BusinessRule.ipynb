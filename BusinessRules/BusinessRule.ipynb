{
 "cells": [
  {
   "cell_type": "code",
   "execution_count": null,
   "id": "c195aa8e",
   "metadata": {},
   "outputs": [],
   "source": [
    "import pandas as pd\n",
    "import numpy as np"
   ]
  },
  {
   "cell_type": "code",
   "execution_count": null,
   "id": "b2bc6473",
   "metadata": {},
   "outputs": [],
   "source": [
    "df =  pd.read_csv('archive-2/BusinessRules.csv')"
   ]
  },
  {
   "cell_type": "code",
   "execution_count": null,
   "id": "dc3063f0",
   "metadata": {},
   "outputs": [],
   "source": [
    "df.head()\n",
    "df.isnull().sum()\n",
    "df = df.fillna(np.nan)\n",
    "df.isnull().sum()"
   ]
  },
  {
   "cell_type": "code",
   "execution_count": null,
   "id": "3f8c3bca",
   "metadata": {},
   "outputs": [],
   "source": [
    "df.describe().T"
   ]
  },
  {
   "cell_type": "code",
   "execution_count": null,
   "id": "907680b6",
   "metadata": {},
   "outputs": [],
   "source": [
    "df.isnull().values.any()"
   ]
  },
  {
   "cell_type": "code",
   "execution_count": null,
   "id": "3ace1e99",
   "metadata": {},
   "outputs": [],
   "source": [
    "df.duplicated().sum()"
   ]
  },
  {
   "cell_type": "code",
   "execution_count": null,
   "id": "265d612d",
   "metadata": {},
   "outputs": [],
   "source": [
    "df['BusinessYear'].value_counts()"
   ]
  },
  {
   "cell_type": "code",
   "execution_count": null,
   "id": "7091cc8e",
   "metadata": {},
   "outputs": [],
   "source": [
    "df['ProductId'].value_counts()"
   ]
  },
  {
   "cell_type": "code",
   "execution_count": null,
   "id": "9835f17b",
   "metadata": {},
   "outputs": [],
   "source": [
    "df['ProductId'].fillna(0, inplace=True)"
   ]
  },
  {
   "cell_type": "code",
   "execution_count": null,
   "id": "42ae0ccf",
   "metadata": {},
   "outputs": [],
   "source": [
    "df['StandardComponentId'].value_counts()"
   ]
  },
  {
   "cell_type": "code",
   "execution_count": null,
   "id": "073d977d",
   "metadata": {},
   "outputs": [],
   "source": [
    "df['StandardComponentId'].fillna(0, inplace=True)"
   ]
  },
  {
   "cell_type": "code",
   "execution_count": null,
   "id": "3342910d",
   "metadata": {},
   "outputs": [],
   "source": [
    "df.dropna(subset=['TwoParentFamilyMaxDependentsRule'], inplace=True)"
   ]
  },
  {
   "cell_type": "code",
   "execution_count": null,
   "id": "196be1c8",
   "metadata": {},
   "outputs": [],
   "source": [
    "df.dropna(subset=['ChildrenOnlyContractMaxChildrenRule'], inplace=True)"
   ]
  },
  {
   "cell_type": "code",
   "execution_count": null,
   "id": "839aedf7",
   "metadata": {},
   "outputs": [],
   "source": [
    "df.dropna(subset=['MarketCoverage'], inplace=True)"
   ]
  },
  {
   "cell_type": "code",
   "execution_count": null,
   "id": "7e0eec90",
   "metadata": {},
   "outputs": [],
   "source": [
    "df['DentalOnlyPlan'].isnull().values.any()"
   ]
  },
  {
   "cell_type": "code",
   "execution_count": null,
   "id": "86b356ba",
   "metadata": {},
   "outputs": [],
   "source": [
    "df['DentalOnlyPlan'] = df['DentalOnlyPlan'].replace({'Yes': True, 'No': False})"
   ]
  },
  {
   "cell_type": "code",
   "execution_count": null,
   "id": "613fdb91",
   "metadata": {},
   "outputs": [],
   "source": [
    "median_value = df['DentalOnlyPlan'].median()\n",
    "df['DentalOnlyPlan'].fillna(median_value, inplace=True)"
   ]
  },
  {
   "cell_type": "code",
   "execution_count": null,
   "id": "c380f7ef",
   "metadata": {},
   "outputs": [],
   "source": [
    "cleaned_file_path = 'BusinessRules_cleaned.csv'\n",
    "df.to_csv(cleaned_file_path, index=False)\n",
    "\n",
    "# Load the cleaned data from the new CSV file to verify\n",
    "df_cleaned = pd.read_csv(cleaned_file_path)\n",
    "print(df_cleaned.head())"
   ]
  },
  {
   "cell_type": "code",
   "execution_count": null,
   "id": "fa893eaf",
   "metadata": {},
   "outputs": [],
   "source": []
  }
 ],
 "metadata": {
  "kernelspec": {
   "display_name": "Python 3 (ipykernel)",
   "language": "python",
   "name": "python3"
  },
  "language_info": {
   "codemirror_mode": {
    "name": "ipython",
    "version": 3
   },
   "file_extension": ".py",
   "mimetype": "text/x-python",
   "name": "python",
   "nbconvert_exporter": "python",
   "pygments_lexer": "ipython3",
   "version": "3.10.7"
  }
 },
 "nbformat": 4,
 "nbformat_minor": 5
}
